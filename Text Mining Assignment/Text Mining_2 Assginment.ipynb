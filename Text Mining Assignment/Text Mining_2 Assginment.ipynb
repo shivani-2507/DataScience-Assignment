{
 "cells": [
  {
   "cell_type": "code",
   "execution_count": 1,
   "id": "5a461324",
   "metadata": {},
   "outputs": [],
   "source": [
    "import numpy as np     \n",
    "import pandas as pd               \n",
    "import string                     \n",
    "import spacy                       \n",
    "from matplotlib.pyplot import imread\n",
    "from matplotlib import pyplot as plt\n",
    "from wordcloud import wordcloud\n",
    "%matplotlib inline\n",
    "import warnings\n",
    "warnings.filterwarnings('ignore')"
   ]
  },
  {
   "cell_type": "code",
   "execution_count": 2,
   "id": "1134e323",
   "metadata": {},
   "outputs": [
    {
     "data": {
      "text/plain": [
       "['tok2vec', 'tagger', 'parser', 'attribute_ruler', 'lemmatizer', 'ner']"
      ]
     },
     "execution_count": 2,
     "metadata": {},
     "output_type": "execute_result"
    }
   ],
   "source": [
    "nlp=spacy.load('en_core_web_sm')\n",
    "nlp.pipe_names"
   ]
  },
  {
   "cell_type": "code",
   "execution_count": 3,
   "id": "ce5beec2",
   "metadata": {},
   "outputs": [
    {
     "data": {
      "text/html": [
       "<div>\n",
       "<style scoped>\n",
       "    .dataframe tbody tr th:only-of-type {\n",
       "        vertical-align: middle;\n",
       "    }\n",
       "\n",
       "    .dataframe tbody tr th {\n",
       "        vertical-align: top;\n",
       "    }\n",
       "\n",
       "    .dataframe thead th {\n",
       "        text-align: right;\n",
       "    }\n",
       "</style>\n",
       "<table border=\"1\" class=\"dataframe\">\n",
       "  <thead>\n",
       "    <tr style=\"text-align: right;\">\n",
       "      <th></th>\n",
       "      <th>Unnamed: 0</th>\n",
       "      <th>Text</th>\n",
       "    </tr>\n",
       "  </thead>\n",
       "  <tbody>\n",
       "    <tr>\n",
       "      <th>0</th>\n",
       "      <td>1</td>\n",
       "      <td>@kunalb11 I’m an alien</td>\n",
       "    </tr>\n",
       "    <tr>\n",
       "      <th>1</th>\n",
       "      <td>2</td>\n",
       "      <td>@ID_AA_Carmack Ray tracing on Cyberpunk with H...</td>\n",
       "    </tr>\n",
       "    <tr>\n",
       "      <th>2</th>\n",
       "      <td>3</td>\n",
       "      <td>@joerogan @Spotify Great interview!</td>\n",
       "    </tr>\n",
       "    <tr>\n",
       "      <th>3</th>\n",
       "      <td>4</td>\n",
       "      <td>@gtera27 Doge is underestimated</td>\n",
       "    </tr>\n",
       "    <tr>\n",
       "      <th>4</th>\n",
       "      <td>5</td>\n",
       "      <td>@teslacn Congratulations Tesla China for amazi...</td>\n",
       "    </tr>\n",
       "    <tr>\n",
       "      <th>...</th>\n",
       "      <td>...</td>\n",
       "      <td>...</td>\n",
       "    </tr>\n",
       "    <tr>\n",
       "      <th>1994</th>\n",
       "      <td>1995</td>\n",
       "      <td>@flcnhvy True, it sounds so surreal, but the n...</td>\n",
       "    </tr>\n",
       "    <tr>\n",
       "      <th>1995</th>\n",
       "      <td>1996</td>\n",
       "      <td>@PPathole Make sure to read ur terms &amp;amp; con...</td>\n",
       "    </tr>\n",
       "    <tr>\n",
       "      <th>1996</th>\n",
       "      <td>1997</td>\n",
       "      <td>@TeslaGong @PPathole Samwise Gamgee</td>\n",
       "    </tr>\n",
       "    <tr>\n",
       "      <th>1997</th>\n",
       "      <td>1998</td>\n",
       "      <td>@PPathole Altho Dumb and Dumber is &lt;U+0001F525...</td>\n",
       "    </tr>\n",
       "    <tr>\n",
       "      <th>1998</th>\n",
       "      <td>1999</td>\n",
       "      <td>Progress update August 28</td>\n",
       "    </tr>\n",
       "  </tbody>\n",
       "</table>\n",
       "<p>1999 rows × 2 columns</p>\n",
       "</div>"
      ],
      "text/plain": [
       "      Unnamed: 0                                               Text\n",
       "0              1                             @kunalb11 I’m an alien\n",
       "1              2  @ID_AA_Carmack Ray tracing on Cyberpunk with H...\n",
       "2              3                @joerogan @Spotify Great interview!\n",
       "3              4                    @gtera27 Doge is underestimated\n",
       "4              5  @teslacn Congratulations Tesla China for amazi...\n",
       "...          ...                                                ...\n",
       "1994        1995  @flcnhvy True, it sounds so surreal, but the n...\n",
       "1995        1996  @PPathole Make sure to read ur terms &amp; con...\n",
       "1996        1997                @TeslaGong @PPathole Samwise Gamgee\n",
       "1997        1998  @PPathole Altho Dumb and Dumber is <U+0001F525...\n",
       "1998        1999                          Progress update August 28\n",
       "\n",
       "[1999 rows x 2 columns]"
      ]
     },
     "execution_count": 3,
     "metadata": {},
     "output_type": "execute_result"
    }
   ],
   "source": [
    "df=pd.read_csv(\"Elon_musk.csv\",encoding='cp1252')\n",
    "df"
   ]
  },
  {
   "cell_type": "code",
   "execution_count": 4,
   "id": "914fea2e",
   "metadata": {},
   "outputs": [
    {
     "data": {
      "text/plain": [
       "1999"
      ]
     },
     "execution_count": 4,
     "metadata": {},
     "output_type": "execute_result"
    }
   ],
   "source": [
    "len(df)"
   ]
  },
  {
   "cell_type": "code",
   "execution_count": 5,
   "id": "743f532f",
   "metadata": {},
   "outputs": [
    {
     "data": {
      "text/plain": [
       "0                                  @kunalb11 I’m an alien\n",
       "1       @ID_AA_Carmack Ray tracing on Cyberpunk with H...\n",
       "2                     @joerogan @Spotify Great interview!\n",
       "3                         @gtera27 Doge is underestimated\n",
       "4       @teslacn Congratulations Tesla China for amazi...\n",
       "                              ...                        \n",
       "1994    @flcnhvy True, it sounds so surreal, but the n...\n",
       "1995    @PPathole Make sure to read ur terms &amp; con...\n",
       "1996                  @TeslaGong @PPathole Samwise Gamgee\n",
       "1997    @PPathole Altho Dumb and Dumber is <U+0001F525...\n",
       "1998                            Progress update August 28\n",
       "Name: Text, Length: 1999, dtype: object"
      ]
     },
     "execution_count": 5,
     "metadata": {},
     "output_type": "execute_result"
    }
   ],
   "source": [
    "df.Text"
   ]
  },
  {
   "cell_type": "markdown",
   "id": "1e84a364",
   "metadata": {},
   "source": [
    "# Text Perprocessing"
   ]
  },
  {
   "cell_type": "code",
   "execution_count": 6,
   "id": "51b85d64",
   "metadata": {},
   "outputs": [
    {
     "data": {
      "text/plain": [
       "['@kunalb11 I’m an alien',\n",
       " '@ID_AA_Carmack Ray tracing on Cyberpunk with HDR is next-level. Have you tried it?',\n",
       " '@joerogan @Spotify Great interview!',\n",
       " '@gtera27 Doge is underestimated',\n",
       " '@teslacn Congratulations Tesla China for amazing execution last year. Now on to the next for even more!!',\n",
       " 'Happy New Year of the Ox! https://t.co/9WFKMYu2oj',\n",
       " 'Frodo was the underdoge,\\nAll thought he would fail,\\nHimself most of all. https://t.co/zGxJFDzzrM',\n",
       " '@OwenSparks_ @flcnhvy @anonyx10 Haha thanks :)',\n",
       " '@flcnhvy @anonyx10 Indeed! Tweets definitely do not represent real-world time allocation.',\n",
       " 'The most entertaining outcome is the most likely']"
      ]
     },
     "execution_count": 6,
     "metadata": {},
     "output_type": "execute_result"
    }
   ],
   "source": [
    "df_2 = [x.strip() for x in df['Text'] if x.strip()]\n",
    "df_2[:10]\n"
   ]
  },
  {
   "cell_type": "code",
   "execution_count": 7,
   "id": "047b106e",
   "metadata": {},
   "outputs": [],
   "source": [
    "# Removing Punctuation\n",
    "\n",
    "import re # re for Regular Expression\n",
    "import string\n",
    "\n",
    "def clean_text(text):\n",
    "    text = text.lower()\n",
    "    text = re.sub('\\[.*?\\]', '', text)\n",
    "    text = re.sub(\"[0-9\" \"]+\",\" \",text)\n",
    "    text = re.sub('<.*?>+', '', text)\n",
    "    text = re.sub('[%s]' % re.escape(string.punctuation), '', text)\n",
    "    text = re.sub('\\n', '', text)\n",
    "    text = re.sub('\\w*\\d\\w*', '', text)\n",
    "    text = re.sub('[‘’“”…]', '', text)\n",
    "    return text\n",
    "clean = lambda x: clean_text(x) "
   ]
  },
  {
   "cell_type": "code",
   "execution_count": 8,
   "id": "ae948cd4",
   "metadata": {},
   "outputs": [],
   "source": [
    "df['text'] = df.Text.apply(clean)"
   ]
  },
  {
   "cell_type": "code",
   "execution_count": 9,
   "id": "7b682202",
   "metadata": {},
   "outputs": [
    {
     "data": {
      "text/plain": [
       "0                                     kunalb  im an alien\n",
       "1       idaacarmack ray tracing on cyberpunk with hdr ...\n",
       "2                        joerogan spotify great interview\n",
       "3                           gtera  doge is underestimated\n",
       "4       teslacn congratulations tesla china for amazin...\n",
       "                              ...                        \n",
       "1994    flcnhvy true it sounds so surreal but the nega...\n",
       "1995    ppathole make sure to read ur terms amp condit...\n",
       "1996                    teslagong ppathole samwise gamgee\n",
       "1997                   ppathole altho dumb and dumber is \n",
       "1998                             progress update august  \n",
       "Name: text, Length: 1999, dtype: object"
      ]
     },
     "execution_count": 9,
     "metadata": {},
     "output_type": "execute_result"
    }
   ],
   "source": [
    "df['text']"
   ]
  },
  {
   "cell_type": "code",
   "execution_count": 10,
   "id": "7fc1bb1e",
   "metadata": {},
   "outputs": [
    {
     "data": {
      "text/html": [
       "<div>\n",
       "<style scoped>\n",
       "    .dataframe tbody tr th:only-of-type {\n",
       "        vertical-align: middle;\n",
       "    }\n",
       "\n",
       "    .dataframe tbody tr th {\n",
       "        vertical-align: top;\n",
       "    }\n",
       "\n",
       "    .dataframe thead th {\n",
       "        text-align: right;\n",
       "    }\n",
       "</style>\n",
       "<table border=\"1\" class=\"dataframe\">\n",
       "  <thead>\n",
       "    <tr style=\"text-align: right;\">\n",
       "      <th></th>\n",
       "      <th>Unnamed: 0</th>\n",
       "      <th>Text</th>\n",
       "      <th>text</th>\n",
       "    </tr>\n",
       "  </thead>\n",
       "  <tbody>\n",
       "    <tr>\n",
       "      <th>0</th>\n",
       "      <td>1</td>\n",
       "      <td>@kunalb11 I’m an alien</td>\n",
       "      <td>kunalb  im an alien</td>\n",
       "    </tr>\n",
       "    <tr>\n",
       "      <th>1</th>\n",
       "      <td>2</td>\n",
       "      <td>@ID_AA_Carmack Ray tracing on Cyberpunk with H...</td>\n",
       "      <td>idaacarmack ray tracing on cyberpunk with hdr ...</td>\n",
       "    </tr>\n",
       "    <tr>\n",
       "      <th>2</th>\n",
       "      <td>3</td>\n",
       "      <td>@joerogan @Spotify Great interview!</td>\n",
       "      <td>joerogan spotify great interview</td>\n",
       "    </tr>\n",
       "    <tr>\n",
       "      <th>3</th>\n",
       "      <td>4</td>\n",
       "      <td>@gtera27 Doge is underestimated</td>\n",
       "      <td>gtera  doge is underestimated</td>\n",
       "    </tr>\n",
       "    <tr>\n",
       "      <th>4</th>\n",
       "      <td>5</td>\n",
       "      <td>@teslacn Congratulations Tesla China for amazi...</td>\n",
       "      <td>teslacn congratulations tesla china for amazin...</td>\n",
       "    </tr>\n",
       "    <tr>\n",
       "      <th>...</th>\n",
       "      <td>...</td>\n",
       "      <td>...</td>\n",
       "      <td>...</td>\n",
       "    </tr>\n",
       "    <tr>\n",
       "      <th>1994</th>\n",
       "      <td>1995</td>\n",
       "      <td>@flcnhvy True, it sounds so surreal, but the n...</td>\n",
       "      <td>flcnhvy true it sounds so surreal but the nega...</td>\n",
       "    </tr>\n",
       "    <tr>\n",
       "      <th>1995</th>\n",
       "      <td>1996</td>\n",
       "      <td>@PPathole Make sure to read ur terms &amp;amp; con...</td>\n",
       "      <td>ppathole make sure to read ur terms amp condit...</td>\n",
       "    </tr>\n",
       "    <tr>\n",
       "      <th>1996</th>\n",
       "      <td>1997</td>\n",
       "      <td>@TeslaGong @PPathole Samwise Gamgee</td>\n",
       "      <td>teslagong ppathole samwise gamgee</td>\n",
       "    </tr>\n",
       "    <tr>\n",
       "      <th>1997</th>\n",
       "      <td>1998</td>\n",
       "      <td>@PPathole Altho Dumb and Dumber is &lt;U+0001F525...</td>\n",
       "      <td>ppathole altho dumb and dumber is</td>\n",
       "    </tr>\n",
       "    <tr>\n",
       "      <th>1998</th>\n",
       "      <td>1999</td>\n",
       "      <td>Progress update August 28</td>\n",
       "      <td>progress update august</td>\n",
       "    </tr>\n",
       "  </tbody>\n",
       "</table>\n",
       "<p>1999 rows × 3 columns</p>\n",
       "</div>"
      ],
      "text/plain": [
       "      Unnamed: 0                                               Text  \\\n",
       "0              1                             @kunalb11 I’m an alien   \n",
       "1              2  @ID_AA_Carmack Ray tracing on Cyberpunk with H...   \n",
       "2              3                @joerogan @Spotify Great interview!   \n",
       "3              4                    @gtera27 Doge is underestimated   \n",
       "4              5  @teslacn Congratulations Tesla China for amazi...   \n",
       "...          ...                                                ...   \n",
       "1994        1995  @flcnhvy True, it sounds so surreal, but the n...   \n",
       "1995        1996  @PPathole Make sure to read ur terms &amp; con...   \n",
       "1996        1997                @TeslaGong @PPathole Samwise Gamgee   \n",
       "1997        1998  @PPathole Altho Dumb and Dumber is <U+0001F525...   \n",
       "1998        1999                          Progress update August 28   \n",
       "\n",
       "                                                   text  \n",
       "0                                   kunalb  im an alien  \n",
       "1     idaacarmack ray tracing on cyberpunk with hdr ...  \n",
       "2                      joerogan spotify great interview  \n",
       "3                         gtera  doge is underestimated  \n",
       "4     teslacn congratulations tesla china for amazin...  \n",
       "...                                                 ...  \n",
       "1994  flcnhvy true it sounds so surreal but the nega...  \n",
       "1995  ppathole make sure to read ur terms amp condit...  \n",
       "1996                  teslagong ppathole samwise gamgee  \n",
       "1997                 ppathole altho dumb and dumber is   \n",
       "1998                           progress update august    \n",
       "\n",
       "[1999 rows x 3 columns]"
      ]
     },
     "execution_count": 10,
     "metadata": {},
     "output_type": "execute_result"
    }
   ],
   "source": [
    "df"
   ]
  },
  {
   "cell_type": "code",
   "execution_count": 11,
   "id": "84e9af0b",
   "metadata": {},
   "outputs": [],
   "source": [
    "# Stop word removal\n",
    "\n",
    "stop_word=pd.read_csv(\"stop.txt\",header=None)"
   ]
  },
  {
   "cell_type": "code",
   "execution_count": 12,
   "id": "c5ec3d18",
   "metadata": {},
   "outputs": [],
   "source": [
    "st_word = [i for i in stop_word[0]]"
   ]
  },
  {
   "cell_type": "code",
   "execution_count": 13,
   "id": "cd0d7b9f",
   "metadata": {},
   "outputs": [
    {
     "data": {
      "text/plain": [
       "True"
      ]
     },
     "execution_count": 13,
     "metadata": {},
     "output_type": "execute_result"
    }
   ],
   "source": [
    "import nltk\n",
    "from nltk.corpus import stopwords\n",
    "import warnings\n",
    "\n",
    "warnings.filterwarnings(\"ignore\", category=UserWarning, module='nltk')\n",
    "\n",
    "nltk.download('stopwords', quiet=True)\n"
   ]
  },
  {
   "cell_type": "code",
   "execution_count": 14,
   "id": "8b2e78a9",
   "metadata": {},
   "outputs": [
    {
     "name": "stdout",
     "output_type": "stream",
     "text": [
      "750\n"
     ]
    }
   ],
   "source": [
    "stop= stopwords.words('english')\n",
    "my_stop_words= stop.copy()\n",
    "\n",
    "# Adding more stop words\n",
    "for i in st_word:\n",
    "    my_stop_words.append(i)  \n",
    "print(len(my_stop_words))\n",
    "df['text'] = df['text'].apply(lambda x: \" \".join(x for x in x.split() if x not in my_stop_words))"
   ]
  },
  {
   "cell_type": "markdown",
   "id": "10e2cb7b",
   "metadata": {},
   "source": [
    "## Sentiment Analysis"
   ]
  },
  {
   "cell_type": "code",
   "execution_count": 15,
   "id": "225aad25",
   "metadata": {},
   "outputs": [],
   "source": [
    "from nltk.sentiment.vader import SentimentIntensityAnalyzer"
   ]
  },
  {
   "cell_type": "code",
   "execution_count": 16,
   "id": "fd193fc9",
   "metadata": {},
   "outputs": [],
   "source": [
    "sid = SentimentIntensityAnalyzer()\n",
    "\n",
    "def sentiment_scores(text):\n",
    "    \n",
    "    sentiment_dict = sid.polarity_scores(text)\n",
    "    print(\"Overall sentiment dictionary is : \", sentiment_dict)\n",
    "    print(\"sentence was rated as \", sentiment_dict['neg']*100, \"% Negative\")\n",
    "    print(\"sentence was rated as \", sentiment_dict['neu']*100, \"% Neutral\")\n",
    "    print(\"sentence was rated as \", sentiment_dict['pos']*100, \"% Positive\")\n",
    "    print(\"Sentence Overall Rated As\", end = \" \")\n",
    " \n",
    "    # decide sentiment as positive, negative and neutral\n",
    "    if sentiment_dict['compound'] >= 0.05 :\n",
    "        print(\"Positive\")\n",
    "        \n",
    "    elif sentiment_dict['compound'] <= - 0.05 :\n",
    "        print(\"Negative\")\n",
    " \n",
    "    else :\n",
    "        print(\"Neutral\")"
   ]
  },
  {
   "cell_type": "code",
   "execution_count": 17,
   "id": "80954cd8",
   "metadata": {},
   "outputs": [],
   "source": [
    "x = SentimentIntensityAnalyzer().polarity_scores(df['text'][2])"
   ]
  },
  {
   "cell_type": "code",
   "execution_count": 18,
   "id": "e42a41a3",
   "metadata": {},
   "outputs": [
    {
     "data": {
      "text/plain": [
       "'teslacn congratulations tesla china amazing execution year'"
      ]
     },
     "execution_count": 18,
     "metadata": {},
     "output_type": "execute_result"
    }
   ],
   "source": [
    "x = SentimentIntensityAnalyzer().polarity_scores(df['text'][4])\n",
    "df['text'][4]"
   ]
  },
  {
   "cell_type": "code",
   "execution_count": 19,
   "id": "51ddb7d7",
   "metadata": {},
   "outputs": [
    {
     "data": {
      "text/plain": [
       "{'neg': 0.0, 'neu': 0.394, 'pos': 0.606, 'compound': 0.8271}"
      ]
     },
     "execution_count": 19,
     "metadata": {},
     "output_type": "execute_result"
    }
   ],
   "source": [
    "x"
   ]
  },
  {
   "cell_type": "code",
   "execution_count": 20,
   "id": "ef46a9dd",
   "metadata": {},
   "outputs": [
    {
     "data": {
      "text/html": [
       "<div>\n",
       "<style scoped>\n",
       "    .dataframe tbody tr th:only-of-type {\n",
       "        vertical-align: middle;\n",
       "    }\n",
       "\n",
       "    .dataframe tbody tr th {\n",
       "        vertical-align: top;\n",
       "    }\n",
       "\n",
       "    .dataframe thead th {\n",
       "        text-align: right;\n",
       "    }\n",
       "</style>\n",
       "<table border=\"1\" class=\"dataframe\">\n",
       "  <thead>\n",
       "    <tr style=\"text-align: right;\">\n",
       "      <th></th>\n",
       "      <th>Unnamed: 0</th>\n",
       "      <th>Text</th>\n",
       "      <th>text</th>\n",
       "      <th>Scores</th>\n",
       "    </tr>\n",
       "  </thead>\n",
       "  <tbody>\n",
       "    <tr>\n",
       "      <th>0</th>\n",
       "      <td>1</td>\n",
       "      <td>@kunalb11 I’m an alien</td>\n",
       "      <td>kunalb im alien</td>\n",
       "      <td>{'neg': 0.0, 'neu': 1.0, 'pos': 0.0, 'compound...</td>\n",
       "    </tr>\n",
       "    <tr>\n",
       "      <th>1</th>\n",
       "      <td>2</td>\n",
       "      <td>@ID_AA_Carmack Ray tracing on Cyberpunk with H...</td>\n",
       "      <td>idaacarmack ray tracing cyberpunk hdr nextlevel</td>\n",
       "      <td>{'neg': 0.0, 'neu': 1.0, 'pos': 0.0, 'compound...</td>\n",
       "    </tr>\n",
       "    <tr>\n",
       "      <th>2</th>\n",
       "      <td>3</td>\n",
       "      <td>@joerogan @Spotify Great interview!</td>\n",
       "      <td>joerogan spotify great interview</td>\n",
       "      <td>{'neg': 0.0, 'neu': 0.423, 'pos': 0.577, 'comp...</td>\n",
       "    </tr>\n",
       "    <tr>\n",
       "      <th>3</th>\n",
       "      <td>4</td>\n",
       "      <td>@gtera27 Doge is underestimated</td>\n",
       "      <td>gtera doge underestimated</td>\n",
       "      <td>{'neg': 0.512, 'neu': 0.488, 'pos': 0.0, 'comp...</td>\n",
       "    </tr>\n",
       "    <tr>\n",
       "      <th>4</th>\n",
       "      <td>5</td>\n",
       "      <td>@teslacn Congratulations Tesla China for amazi...</td>\n",
       "      <td>teslacn congratulations tesla china amazing ex...</td>\n",
       "      <td>{'neg': 0.0, 'neu': 0.394, 'pos': 0.606, 'comp...</td>\n",
       "    </tr>\n",
       "  </tbody>\n",
       "</table>\n",
       "</div>"
      ],
      "text/plain": [
       "   Unnamed: 0                                               Text  \\\n",
       "0           1                             @kunalb11 I’m an alien   \n",
       "1           2  @ID_AA_Carmack Ray tracing on Cyberpunk with H...   \n",
       "2           3                @joerogan @Spotify Great interview!   \n",
       "3           4                    @gtera27 Doge is underestimated   \n",
       "4           5  @teslacn Congratulations Tesla China for amazi...   \n",
       "\n",
       "                                                text  \\\n",
       "0                                    kunalb im alien   \n",
       "1    idaacarmack ray tracing cyberpunk hdr nextlevel   \n",
       "2                   joerogan spotify great interview   \n",
       "3                          gtera doge underestimated   \n",
       "4  teslacn congratulations tesla china amazing ex...   \n",
       "\n",
       "                                              Scores  \n",
       "0  {'neg': 0.0, 'neu': 1.0, 'pos': 0.0, 'compound...  \n",
       "1  {'neg': 0.0, 'neu': 1.0, 'pos': 0.0, 'compound...  \n",
       "2  {'neg': 0.0, 'neu': 0.423, 'pos': 0.577, 'comp...  \n",
       "3  {'neg': 0.512, 'neu': 0.488, 'pos': 0.0, 'comp...  \n",
       "4  {'neg': 0.0, 'neu': 0.394, 'pos': 0.606, 'comp...  "
      ]
     },
     "execution_count": 20,
     "metadata": {},
     "output_type": "execute_result"
    }
   ],
   "source": [
    "# Adding all the scores in the form of column i.e neg,neu,pos,compound\n",
    "\n",
    "df['Scores']=df['text'].apply(lambda text: sid.polarity_scores(text))\n",
    "df.head()"
   ]
  },
  {
   "cell_type": "code",
   "execution_count": 21,
   "id": "7158056d",
   "metadata": {},
   "outputs": [
    {
     "data": {
      "text/html": [
       "<div>\n",
       "<style scoped>\n",
       "    .dataframe tbody tr th:only-of-type {\n",
       "        vertical-align: middle;\n",
       "    }\n",
       "\n",
       "    .dataframe tbody tr th {\n",
       "        vertical-align: top;\n",
       "    }\n",
       "\n",
       "    .dataframe thead th {\n",
       "        text-align: right;\n",
       "    }\n",
       "</style>\n",
       "<table border=\"1\" class=\"dataframe\">\n",
       "  <thead>\n",
       "    <tr style=\"text-align: right;\">\n",
       "      <th></th>\n",
       "      <th>Unnamed: 0</th>\n",
       "      <th>Text</th>\n",
       "      <th>text</th>\n",
       "      <th>Scores</th>\n",
       "      <th>compound</th>\n",
       "    </tr>\n",
       "  </thead>\n",
       "  <tbody>\n",
       "    <tr>\n",
       "      <th>0</th>\n",
       "      <td>1</td>\n",
       "      <td>@kunalb11 I’m an alien</td>\n",
       "      <td>kunalb im alien</td>\n",
       "      <td>{'neg': 0.0, 'neu': 1.0, 'pos': 0.0, 'compound...</td>\n",
       "      <td>0.0000</td>\n",
       "    </tr>\n",
       "    <tr>\n",
       "      <th>1</th>\n",
       "      <td>2</td>\n",
       "      <td>@ID_AA_Carmack Ray tracing on Cyberpunk with H...</td>\n",
       "      <td>idaacarmack ray tracing cyberpunk hdr nextlevel</td>\n",
       "      <td>{'neg': 0.0, 'neu': 1.0, 'pos': 0.0, 'compound...</td>\n",
       "      <td>0.0000</td>\n",
       "    </tr>\n",
       "    <tr>\n",
       "      <th>2</th>\n",
       "      <td>3</td>\n",
       "      <td>@joerogan @Spotify Great interview!</td>\n",
       "      <td>joerogan spotify great interview</td>\n",
       "      <td>{'neg': 0.0, 'neu': 0.423, 'pos': 0.577, 'comp...</td>\n",
       "      <td>0.6249</td>\n",
       "    </tr>\n",
       "    <tr>\n",
       "      <th>3</th>\n",
       "      <td>4</td>\n",
       "      <td>@gtera27 Doge is underestimated</td>\n",
       "      <td>gtera doge underestimated</td>\n",
       "      <td>{'neg': 0.512, 'neu': 0.488, 'pos': 0.0, 'comp...</td>\n",
       "      <td>-0.2732</td>\n",
       "    </tr>\n",
       "    <tr>\n",
       "      <th>4</th>\n",
       "      <td>5</td>\n",
       "      <td>@teslacn Congratulations Tesla China for amazi...</td>\n",
       "      <td>teslacn congratulations tesla china amazing ex...</td>\n",
       "      <td>{'neg': 0.0, 'neu': 0.394, 'pos': 0.606, 'comp...</td>\n",
       "      <td>0.8271</td>\n",
       "    </tr>\n",
       "  </tbody>\n",
       "</table>\n",
       "</div>"
      ],
      "text/plain": [
       "   Unnamed: 0                                               Text  \\\n",
       "0           1                             @kunalb11 I’m an alien   \n",
       "1           2  @ID_AA_Carmack Ray tracing on Cyberpunk with H...   \n",
       "2           3                @joerogan @Spotify Great interview!   \n",
       "3           4                    @gtera27 Doge is underestimated   \n",
       "4           5  @teslacn Congratulations Tesla China for amazi...   \n",
       "\n",
       "                                                text  \\\n",
       "0                                    kunalb im alien   \n",
       "1    idaacarmack ray tracing cyberpunk hdr nextlevel   \n",
       "2                   joerogan spotify great interview   \n",
       "3                          gtera doge underestimated   \n",
       "4  teslacn congratulations tesla china amazing ex...   \n",
       "\n",
       "                                              Scores  compound  \n",
       "0  {'neg': 0.0, 'neu': 1.0, 'pos': 0.0, 'compound...    0.0000  \n",
       "1  {'neg': 0.0, 'neu': 1.0, 'pos': 0.0, 'compound...    0.0000  \n",
       "2  {'neg': 0.0, 'neu': 0.423, 'pos': 0.577, 'comp...    0.6249  \n",
       "3  {'neg': 0.512, 'neu': 0.488, 'pos': 0.0, 'comp...   -0.2732  \n",
       "4  {'neg': 0.0, 'neu': 0.394, 'pos': 0.606, 'comp...    0.8271  "
      ]
     },
     "execution_count": 21,
     "metadata": {},
     "output_type": "execute_result"
    }
   ],
   "source": [
    "df['compound']=df['Scores'].apply(lambda score_dict: score_dict['compound'])\n",
    "df.head()"
   ]
  },
  {
   "cell_type": "code",
   "execution_count": 22,
   "id": "92cd1472",
   "metadata": {},
   "outputs": [
    {
     "data": {
      "text/html": [
       "<div>\n",
       "<style scoped>\n",
       "    .dataframe tbody tr th:only-of-type {\n",
       "        vertical-align: middle;\n",
       "    }\n",
       "\n",
       "    .dataframe tbody tr th {\n",
       "        vertical-align: top;\n",
       "    }\n",
       "\n",
       "    .dataframe thead th {\n",
       "        text-align: right;\n",
       "    }\n",
       "</style>\n",
       "<table border=\"1\" class=\"dataframe\">\n",
       "  <thead>\n",
       "    <tr style=\"text-align: right;\">\n",
       "      <th></th>\n",
       "      <th>Unnamed: 0</th>\n",
       "      <th>Text</th>\n",
       "      <th>text</th>\n",
       "      <th>Scores</th>\n",
       "      <th>compound</th>\n",
       "      <th>neg</th>\n",
       "    </tr>\n",
       "  </thead>\n",
       "  <tbody>\n",
       "    <tr>\n",
       "      <th>0</th>\n",
       "      <td>1</td>\n",
       "      <td>@kunalb11 I’m an alien</td>\n",
       "      <td>kunalb im alien</td>\n",
       "      <td>{'neg': 0.0, 'neu': 1.0, 'pos': 0.0, 'compound...</td>\n",
       "      <td>0.0000</td>\n",
       "      <td>0.000</td>\n",
       "    </tr>\n",
       "    <tr>\n",
       "      <th>1</th>\n",
       "      <td>2</td>\n",
       "      <td>@ID_AA_Carmack Ray tracing on Cyberpunk with H...</td>\n",
       "      <td>idaacarmack ray tracing cyberpunk hdr nextlevel</td>\n",
       "      <td>{'neg': 0.0, 'neu': 1.0, 'pos': 0.0, 'compound...</td>\n",
       "      <td>0.0000</td>\n",
       "      <td>0.000</td>\n",
       "    </tr>\n",
       "    <tr>\n",
       "      <th>2</th>\n",
       "      <td>3</td>\n",
       "      <td>@joerogan @Spotify Great interview!</td>\n",
       "      <td>joerogan spotify great interview</td>\n",
       "      <td>{'neg': 0.0, 'neu': 0.423, 'pos': 0.577, 'comp...</td>\n",
       "      <td>0.6249</td>\n",
       "      <td>0.000</td>\n",
       "    </tr>\n",
       "    <tr>\n",
       "      <th>3</th>\n",
       "      <td>4</td>\n",
       "      <td>@gtera27 Doge is underestimated</td>\n",
       "      <td>gtera doge underestimated</td>\n",
       "      <td>{'neg': 0.512, 'neu': 0.488, 'pos': 0.0, 'comp...</td>\n",
       "      <td>-0.2732</td>\n",
       "      <td>0.512</td>\n",
       "    </tr>\n",
       "    <tr>\n",
       "      <th>4</th>\n",
       "      <td>5</td>\n",
       "      <td>@teslacn Congratulations Tesla China for amazi...</td>\n",
       "      <td>teslacn congratulations tesla china amazing ex...</td>\n",
       "      <td>{'neg': 0.0, 'neu': 0.394, 'pos': 0.606, 'comp...</td>\n",
       "      <td>0.8271</td>\n",
       "      <td>0.000</td>\n",
       "    </tr>\n",
       "  </tbody>\n",
       "</table>\n",
       "</div>"
      ],
      "text/plain": [
       "   Unnamed: 0                                               Text  \\\n",
       "0           1                             @kunalb11 I’m an alien   \n",
       "1           2  @ID_AA_Carmack Ray tracing on Cyberpunk with H...   \n",
       "2           3                @joerogan @Spotify Great interview!   \n",
       "3           4                    @gtera27 Doge is underestimated   \n",
       "4           5  @teslacn Congratulations Tesla China for amazi...   \n",
       "\n",
       "                                                text  \\\n",
       "0                                    kunalb im alien   \n",
       "1    idaacarmack ray tracing cyberpunk hdr nextlevel   \n",
       "2                   joerogan spotify great interview   \n",
       "3                          gtera doge underestimated   \n",
       "4  teslacn congratulations tesla china amazing ex...   \n",
       "\n",
       "                                              Scores  compound    neg  \n",
       "0  {'neg': 0.0, 'neu': 1.0, 'pos': 0.0, 'compound...    0.0000  0.000  \n",
       "1  {'neg': 0.0, 'neu': 1.0, 'pos': 0.0, 'compound...    0.0000  0.000  \n",
       "2  {'neg': 0.0, 'neu': 0.423, 'pos': 0.577, 'comp...    0.6249  0.000  \n",
       "3  {'neg': 0.512, 'neu': 0.488, 'pos': 0.0, 'comp...   -0.2732  0.512  \n",
       "4  {'neg': 0.0, 'neu': 0.394, 'pos': 0.606, 'comp...    0.8271  0.000  "
      ]
     },
     "execution_count": 22,
     "metadata": {},
     "output_type": "execute_result"
    }
   ],
   "source": [
    "df['neg']=df['Scores'].apply(lambda score_dict: score_dict['neg'])\n",
    "df.head()"
   ]
  },
  {
   "cell_type": "code",
   "execution_count": 23,
   "id": "4fd48044",
   "metadata": {},
   "outputs": [
    {
     "data": {
      "text/html": [
       "<div>\n",
       "<style scoped>\n",
       "    .dataframe tbody tr th:only-of-type {\n",
       "        vertical-align: middle;\n",
       "    }\n",
       "\n",
       "    .dataframe tbody tr th {\n",
       "        vertical-align: top;\n",
       "    }\n",
       "\n",
       "    .dataframe thead th {\n",
       "        text-align: right;\n",
       "    }\n",
       "</style>\n",
       "<table border=\"1\" class=\"dataframe\">\n",
       "  <thead>\n",
       "    <tr style=\"text-align: right;\">\n",
       "      <th></th>\n",
       "      <th>Unnamed: 0</th>\n",
       "      <th>Text</th>\n",
       "      <th>text</th>\n",
       "      <th>Scores</th>\n",
       "      <th>compound</th>\n",
       "      <th>neg</th>\n",
       "      <th>pos</th>\n",
       "    </tr>\n",
       "  </thead>\n",
       "  <tbody>\n",
       "    <tr>\n",
       "      <th>0</th>\n",
       "      <td>1</td>\n",
       "      <td>@kunalb11 I’m an alien</td>\n",
       "      <td>kunalb im alien</td>\n",
       "      <td>{'neg': 0.0, 'neu': 1.0, 'pos': 0.0, 'compound...</td>\n",
       "      <td>0.0000</td>\n",
       "      <td>0.000</td>\n",
       "      <td>0.000</td>\n",
       "    </tr>\n",
       "    <tr>\n",
       "      <th>1</th>\n",
       "      <td>2</td>\n",
       "      <td>@ID_AA_Carmack Ray tracing on Cyberpunk with H...</td>\n",
       "      <td>idaacarmack ray tracing cyberpunk hdr nextlevel</td>\n",
       "      <td>{'neg': 0.0, 'neu': 1.0, 'pos': 0.0, 'compound...</td>\n",
       "      <td>0.0000</td>\n",
       "      <td>0.000</td>\n",
       "      <td>0.000</td>\n",
       "    </tr>\n",
       "    <tr>\n",
       "      <th>2</th>\n",
       "      <td>3</td>\n",
       "      <td>@joerogan @Spotify Great interview!</td>\n",
       "      <td>joerogan spotify great interview</td>\n",
       "      <td>{'neg': 0.0, 'neu': 0.423, 'pos': 0.577, 'comp...</td>\n",
       "      <td>0.6249</td>\n",
       "      <td>0.000</td>\n",
       "      <td>0.577</td>\n",
       "    </tr>\n",
       "    <tr>\n",
       "      <th>3</th>\n",
       "      <td>4</td>\n",
       "      <td>@gtera27 Doge is underestimated</td>\n",
       "      <td>gtera doge underestimated</td>\n",
       "      <td>{'neg': 0.512, 'neu': 0.488, 'pos': 0.0, 'comp...</td>\n",
       "      <td>-0.2732</td>\n",
       "      <td>0.512</td>\n",
       "      <td>0.000</td>\n",
       "    </tr>\n",
       "    <tr>\n",
       "      <th>4</th>\n",
       "      <td>5</td>\n",
       "      <td>@teslacn Congratulations Tesla China for amazi...</td>\n",
       "      <td>teslacn congratulations tesla china amazing ex...</td>\n",
       "      <td>{'neg': 0.0, 'neu': 0.394, 'pos': 0.606, 'comp...</td>\n",
       "      <td>0.8271</td>\n",
       "      <td>0.000</td>\n",
       "      <td>0.606</td>\n",
       "    </tr>\n",
       "  </tbody>\n",
       "</table>\n",
       "</div>"
      ],
      "text/plain": [
       "   Unnamed: 0                                               Text  \\\n",
       "0           1                             @kunalb11 I’m an alien   \n",
       "1           2  @ID_AA_Carmack Ray tracing on Cyberpunk with H...   \n",
       "2           3                @joerogan @Spotify Great interview!   \n",
       "3           4                    @gtera27 Doge is underestimated   \n",
       "4           5  @teslacn Congratulations Tesla China for amazi...   \n",
       "\n",
       "                                                text  \\\n",
       "0                                    kunalb im alien   \n",
       "1    idaacarmack ray tracing cyberpunk hdr nextlevel   \n",
       "2                   joerogan spotify great interview   \n",
       "3                          gtera doge underestimated   \n",
       "4  teslacn congratulations tesla china amazing ex...   \n",
       "\n",
       "                                              Scores  compound    neg    pos  \n",
       "0  {'neg': 0.0, 'neu': 1.0, 'pos': 0.0, 'compound...    0.0000  0.000  0.000  \n",
       "1  {'neg': 0.0, 'neu': 1.0, 'pos': 0.0, 'compound...    0.0000  0.000  0.000  \n",
       "2  {'neg': 0.0, 'neu': 0.423, 'pos': 0.577, 'comp...    0.6249  0.000  0.577  \n",
       "3  {'neg': 0.512, 'neu': 0.488, 'pos': 0.0, 'comp...   -0.2732  0.512  0.000  \n",
       "4  {'neg': 0.0, 'neu': 0.394, 'pos': 0.606, 'comp...    0.8271  0.000  0.606  "
      ]
     },
     "execution_count": 23,
     "metadata": {},
     "output_type": "execute_result"
    }
   ],
   "source": [
    "df['pos']=df['Scores'].apply(lambda score_dict: score_dict['pos'])\n",
    "df.head()"
   ]
  },
  {
   "cell_type": "code",
   "execution_count": 24,
   "id": "6cba0ef7",
   "metadata": {},
   "outputs": [
    {
     "data": {
      "text/html": [
       "<div>\n",
       "<style scoped>\n",
       "    .dataframe tbody tr th:only-of-type {\n",
       "        vertical-align: middle;\n",
       "    }\n",
       "\n",
       "    .dataframe tbody tr th {\n",
       "        vertical-align: top;\n",
       "    }\n",
       "\n",
       "    .dataframe thead th {\n",
       "        text-align: right;\n",
       "    }\n",
       "</style>\n",
       "<table border=\"1\" class=\"dataframe\">\n",
       "  <thead>\n",
       "    <tr style=\"text-align: right;\">\n",
       "      <th></th>\n",
       "      <th>Unnamed: 0</th>\n",
       "      <th>Text</th>\n",
       "      <th>text</th>\n",
       "      <th>Scores</th>\n",
       "      <th>compound</th>\n",
       "      <th>neg</th>\n",
       "      <th>pos</th>\n",
       "      <th>neu</th>\n",
       "    </tr>\n",
       "  </thead>\n",
       "  <tbody>\n",
       "    <tr>\n",
       "      <th>0</th>\n",
       "      <td>1</td>\n",
       "      <td>@kunalb11 I’m an alien</td>\n",
       "      <td>kunalb im alien</td>\n",
       "      <td>{'neg': 0.0, 'neu': 1.0, 'pos': 0.0, 'compound...</td>\n",
       "      <td>0.0000</td>\n",
       "      <td>0.000</td>\n",
       "      <td>0.000</td>\n",
       "      <td>1.000</td>\n",
       "    </tr>\n",
       "    <tr>\n",
       "      <th>1</th>\n",
       "      <td>2</td>\n",
       "      <td>@ID_AA_Carmack Ray tracing on Cyberpunk with H...</td>\n",
       "      <td>idaacarmack ray tracing cyberpunk hdr nextlevel</td>\n",
       "      <td>{'neg': 0.0, 'neu': 1.0, 'pos': 0.0, 'compound...</td>\n",
       "      <td>0.0000</td>\n",
       "      <td>0.000</td>\n",
       "      <td>0.000</td>\n",
       "      <td>1.000</td>\n",
       "    </tr>\n",
       "    <tr>\n",
       "      <th>2</th>\n",
       "      <td>3</td>\n",
       "      <td>@joerogan @Spotify Great interview!</td>\n",
       "      <td>joerogan spotify great interview</td>\n",
       "      <td>{'neg': 0.0, 'neu': 0.423, 'pos': 0.577, 'comp...</td>\n",
       "      <td>0.6249</td>\n",
       "      <td>0.000</td>\n",
       "      <td>0.577</td>\n",
       "      <td>0.423</td>\n",
       "    </tr>\n",
       "    <tr>\n",
       "      <th>3</th>\n",
       "      <td>4</td>\n",
       "      <td>@gtera27 Doge is underestimated</td>\n",
       "      <td>gtera doge underestimated</td>\n",
       "      <td>{'neg': 0.512, 'neu': 0.488, 'pos': 0.0, 'comp...</td>\n",
       "      <td>-0.2732</td>\n",
       "      <td>0.512</td>\n",
       "      <td>0.000</td>\n",
       "      <td>0.488</td>\n",
       "    </tr>\n",
       "    <tr>\n",
       "      <th>4</th>\n",
       "      <td>5</td>\n",
       "      <td>@teslacn Congratulations Tesla China for amazi...</td>\n",
       "      <td>teslacn congratulations tesla china amazing ex...</td>\n",
       "      <td>{'neg': 0.0, 'neu': 0.394, 'pos': 0.606, 'comp...</td>\n",
       "      <td>0.8271</td>\n",
       "      <td>0.000</td>\n",
       "      <td>0.606</td>\n",
       "      <td>0.394</td>\n",
       "    </tr>\n",
       "  </tbody>\n",
       "</table>\n",
       "</div>"
      ],
      "text/plain": [
       "   Unnamed: 0                                               Text  \\\n",
       "0           1                             @kunalb11 I’m an alien   \n",
       "1           2  @ID_AA_Carmack Ray tracing on Cyberpunk with H...   \n",
       "2           3                @joerogan @Spotify Great interview!   \n",
       "3           4                    @gtera27 Doge is underestimated   \n",
       "4           5  @teslacn Congratulations Tesla China for amazi...   \n",
       "\n",
       "                                                text  \\\n",
       "0                                    kunalb im alien   \n",
       "1    idaacarmack ray tracing cyberpunk hdr nextlevel   \n",
       "2                   joerogan spotify great interview   \n",
       "3                          gtera doge underestimated   \n",
       "4  teslacn congratulations tesla china amazing ex...   \n",
       "\n",
       "                                              Scores  compound    neg    pos  \\\n",
       "0  {'neg': 0.0, 'neu': 1.0, 'pos': 0.0, 'compound...    0.0000  0.000  0.000   \n",
       "1  {'neg': 0.0, 'neu': 1.0, 'pos': 0.0, 'compound...    0.0000  0.000  0.000   \n",
       "2  {'neg': 0.0, 'neu': 0.423, 'pos': 0.577, 'comp...    0.6249  0.000  0.577   \n",
       "3  {'neg': 0.512, 'neu': 0.488, 'pos': 0.0, 'comp...   -0.2732  0.512  0.000   \n",
       "4  {'neg': 0.0, 'neu': 0.394, 'pos': 0.606, 'comp...    0.8271  0.000  0.606   \n",
       "\n",
       "     neu  \n",
       "0  1.000  \n",
       "1  1.000  \n",
       "2  0.423  \n",
       "3  0.488  \n",
       "4  0.394  "
      ]
     },
     "execution_count": 24,
     "metadata": {},
     "output_type": "execute_result"
    }
   ],
   "source": [
    "df['neu']=df['Scores'].apply(lambda score_dict: score_dict['neu'])\n",
    "df.head()"
   ]
  },
  {
   "cell_type": "code",
   "execution_count": 25,
   "id": "32182d5a",
   "metadata": {},
   "outputs": [
    {
     "data": {
      "text/html": [
       "<div>\n",
       "<style scoped>\n",
       "    .dataframe tbody tr th:only-of-type {\n",
       "        vertical-align: middle;\n",
       "    }\n",
       "\n",
       "    .dataframe tbody tr th {\n",
       "        vertical-align: top;\n",
       "    }\n",
       "\n",
       "    .dataframe thead th {\n",
       "        text-align: right;\n",
       "    }\n",
       "</style>\n",
       "<table border=\"1\" class=\"dataframe\">\n",
       "  <thead>\n",
       "    <tr style=\"text-align: right;\">\n",
       "      <th></th>\n",
       "      <th>Unnamed: 0</th>\n",
       "      <th>Text</th>\n",
       "      <th>text</th>\n",
       "      <th>Scores</th>\n",
       "      <th>compound</th>\n",
       "      <th>neg</th>\n",
       "      <th>pos</th>\n",
       "      <th>neu</th>\n",
       "      <th>compound_score</th>\n",
       "    </tr>\n",
       "  </thead>\n",
       "  <tbody>\n",
       "    <tr>\n",
       "      <th>0</th>\n",
       "      <td>1</td>\n",
       "      <td>@kunalb11 I’m an alien</td>\n",
       "      <td>kunalb im alien</td>\n",
       "      <td>{'neg': 0.0, 'neu': 1.0, 'pos': 0.0, 'compound...</td>\n",
       "      <td>0.0000</td>\n",
       "      <td>0.000</td>\n",
       "      <td>0.000</td>\n",
       "      <td>1.000</td>\n",
       "      <td>pos</td>\n",
       "    </tr>\n",
       "    <tr>\n",
       "      <th>1</th>\n",
       "      <td>2</td>\n",
       "      <td>@ID_AA_Carmack Ray tracing on Cyberpunk with H...</td>\n",
       "      <td>idaacarmack ray tracing cyberpunk hdr nextlevel</td>\n",
       "      <td>{'neg': 0.0, 'neu': 1.0, 'pos': 0.0, 'compound...</td>\n",
       "      <td>0.0000</td>\n",
       "      <td>0.000</td>\n",
       "      <td>0.000</td>\n",
       "      <td>1.000</td>\n",
       "      <td>pos</td>\n",
       "    </tr>\n",
       "    <tr>\n",
       "      <th>2</th>\n",
       "      <td>3</td>\n",
       "      <td>@joerogan @Spotify Great interview!</td>\n",
       "      <td>joerogan spotify great interview</td>\n",
       "      <td>{'neg': 0.0, 'neu': 0.423, 'pos': 0.577, 'comp...</td>\n",
       "      <td>0.6249</td>\n",
       "      <td>0.000</td>\n",
       "      <td>0.577</td>\n",
       "      <td>0.423</td>\n",
       "      <td>pos</td>\n",
       "    </tr>\n",
       "    <tr>\n",
       "      <th>3</th>\n",
       "      <td>4</td>\n",
       "      <td>@gtera27 Doge is underestimated</td>\n",
       "      <td>gtera doge underestimated</td>\n",
       "      <td>{'neg': 0.512, 'neu': 0.488, 'pos': 0.0, 'comp...</td>\n",
       "      <td>-0.2732</td>\n",
       "      <td>0.512</td>\n",
       "      <td>0.000</td>\n",
       "      <td>0.488</td>\n",
       "      <td>neg</td>\n",
       "    </tr>\n",
       "    <tr>\n",
       "      <th>4</th>\n",
       "      <td>5</td>\n",
       "      <td>@teslacn Congratulations Tesla China for amazi...</td>\n",
       "      <td>teslacn congratulations tesla china amazing ex...</td>\n",
       "      <td>{'neg': 0.0, 'neu': 0.394, 'pos': 0.606, 'comp...</td>\n",
       "      <td>0.8271</td>\n",
       "      <td>0.000</td>\n",
       "      <td>0.606</td>\n",
       "      <td>0.394</td>\n",
       "      <td>pos</td>\n",
       "    </tr>\n",
       "  </tbody>\n",
       "</table>\n",
       "</div>"
      ],
      "text/plain": [
       "   Unnamed: 0                                               Text  \\\n",
       "0           1                             @kunalb11 I’m an alien   \n",
       "1           2  @ID_AA_Carmack Ray tracing on Cyberpunk with H...   \n",
       "2           3                @joerogan @Spotify Great interview!   \n",
       "3           4                    @gtera27 Doge is underestimated   \n",
       "4           5  @teslacn Congratulations Tesla China for amazi...   \n",
       "\n",
       "                                                text  \\\n",
       "0                                    kunalb im alien   \n",
       "1    idaacarmack ray tracing cyberpunk hdr nextlevel   \n",
       "2                   joerogan spotify great interview   \n",
       "3                          gtera doge underestimated   \n",
       "4  teslacn congratulations tesla china amazing ex...   \n",
       "\n",
       "                                              Scores  compound    neg    pos  \\\n",
       "0  {'neg': 0.0, 'neu': 1.0, 'pos': 0.0, 'compound...    0.0000  0.000  0.000   \n",
       "1  {'neg': 0.0, 'neu': 1.0, 'pos': 0.0, 'compound...    0.0000  0.000  0.000   \n",
       "2  {'neg': 0.0, 'neu': 0.423, 'pos': 0.577, 'comp...    0.6249  0.000  0.577   \n",
       "3  {'neg': 0.512, 'neu': 0.488, 'pos': 0.0, 'comp...   -0.2732  0.512  0.000   \n",
       "4  {'neg': 0.0, 'neu': 0.394, 'pos': 0.606, 'comp...    0.8271  0.000  0.606   \n",
       "\n",
       "     neu compound_score  \n",
       "0  1.000            pos  \n",
       "1  1.000            pos  \n",
       "2  0.423            pos  \n",
       "3  0.488            neg  \n",
       "4  0.394            pos  "
      ]
     },
     "execution_count": 25,
     "metadata": {},
     "output_type": "execute_result"
    }
   ],
   "source": [
    "df['compound_score']=df['compound'].apply(lambda c: 'pos' if c >= 0 else 'neg')\n",
    "df.head()"
   ]
  },
  {
   "cell_type": "code",
   "execution_count": 26,
   "id": "3402b2da",
   "metadata": {},
   "outputs": [
    {
     "data": {
      "text/plain": [
       "0.000    1734\n",
       "0.231       6\n",
       "0.252       5\n",
       "0.247       5\n",
       "0.097       5\n",
       "         ... \n",
       "0.206       1\n",
       "0.090       1\n",
       "0.605       1\n",
       "0.397       1\n",
       "0.220       1\n",
       "Name: neg, Length: 172, dtype: int64"
      ]
     },
     "execution_count": 26,
     "metadata": {},
     "output_type": "execute_result"
    }
   ],
   "source": [
    "df['neg'].value_counts()"
   ]
  },
  {
   "cell_type": "code",
   "execution_count": 27,
   "id": "0fe53098",
   "metadata": {},
   "outputs": [
    {
     "data": {
      "text/plain": [
       "0.000    1277\n",
       "0.375      16\n",
       "0.672      14\n",
       "0.412      12\n",
       "0.600      11\n",
       "         ... \n",
       "0.649       1\n",
       "0.238       1\n",
       "0.341       1\n",
       "0.709       1\n",
       "0.317       1\n",
       "Name: pos, Length: 309, dtype: int64"
      ]
     },
     "execution_count": 27,
     "metadata": {},
     "output_type": "execute_result"
    }
   ],
   "source": [
    "df['pos'].value_counts()"
   ]
  },
  {
   "cell_type": "code",
   "execution_count": 28,
   "id": "2bc0599d",
   "metadata": {},
   "outputs": [
    {
     "data": {
      "text/plain": [
       " 0.0000    1114\n",
       " 0.6249      54\n",
       " 0.4588      49\n",
       " 0.4215      46\n",
       " 0.4404      42\n",
       "           ... \n",
       " 0.7891       1\n",
       "-0.4912       1\n",
       " 0.7269       1\n",
       " 0.8155       1\n",
       "-0.7351       1\n",
       "Name: compound, Length: 141, dtype: int64"
      ]
     },
     "execution_count": 28,
     "metadata": {},
     "output_type": "execute_result"
    }
   ],
   "source": [
    "df['compound'].value_counts()"
   ]
  },
  {
   "cell_type": "code",
   "execution_count": 29,
   "id": "80ca9ece",
   "metadata": {},
   "outputs": [
    {
     "data": {
      "text/plain": [
       "1.000    1106\n",
       "0.625      19\n",
       "0.588      17\n",
       "0.328      14\n",
       "0.833      12\n",
       "         ... \n",
       "0.654       1\n",
       "0.524       1\n",
       "0.522       1\n",
       "0.808       1\n",
       "0.380       1\n",
       "Name: neu, Length: 330, dtype: int64"
      ]
     },
     "execution_count": 29,
     "metadata": {},
     "output_type": "execute_result"
    }
   ],
   "source": [
    "df['neu'].value_counts()"
   ]
  },
  {
   "cell_type": "markdown",
   "id": "c90fee34",
   "metadata": {},
   "source": [
    "## Tokenization"
   ]
  },
  {
   "cell_type": "code",
   "execution_count": 30,
   "id": "8d1f4215",
   "metadata": {},
   "outputs": [],
   "source": [
    "text_3_alternative = ' '.join(x.strip() for x in df['text'] if x.strip())\n",
    "length_alternative = len(text_3_alternative)\n"
   ]
  },
  {
   "cell_type": "code",
   "execution_count": 32,
   "id": "6740987a",
   "metadata": {},
   "outputs": [
    {
     "name": "stdout",
     "output_type": "stream",
     "text": [
      "['kunalb', 'im', 'alien', 'idaacarmack', 'ray', 'tracing', 'cyberpunk', 'hdr', 'nextlevel', 'joerogan', 'spotify', 'great', 'interview', 'gtera', 'doge', 'underestimated', 'teslacn', 'congratulations', 'tesla', 'china', 'amazing', 'execution', 'year', 'happy', 'year', 'ox', 'httpstco', 'wfkmyu', 'oj', 'frodo', 'underdogeall', 'thought', 'failhimself', 'httpstcozgxjfdzzrm', 'owensparks', 'flcnhvy', 'anonyx', 'haha', 'flcnhvy', 'anonyx', 'tweets', 'represent', 'realworld', 'time', 'allocation', 'entertaining', 'outcome', 'givedirectly', 'agree', 'clubhouse', 'kanyewest', 'httpstco', 'rwe', 'uhsts', 'geoffkeighley', 'unrealengine', 'real', 'bought', 'dogecoin', 'lil', 'toddler', 'hodler', 'joshmanmode', 'issues', 'sentencing', 'bit', 'high', 'freewalletorg', 'fixing', 'freewalletorg', 'unlock', 'account', 'astrojordy', 'true', 'power', 'haha', 'httpstcofc', 'uhqsd', 'freewalletorg', 'crypto', 'wallet', 'wont', 'give', 'private', 'keys', 'avoided', 'costs', 'freewalletorg', 'app', 'sucks', 'rt', 'spacex', 'nasa', 'selected', 'falcon', 'heavy', 'launch', 'elements', 'lunar', 'gateway', 'mission', 'httpstco', 'pwt', 'ajtourville', 'blkmdl', 'rationaletienne', 'adamklotz', 'predict', 'cash', 'flow', 'starlink', 'ipo', 'rationaletienne', 'adamklotz', 'starlink', 'staggeringly', 'difficult', 'technical', 'amp', 'economic', 'endeavor', 'httpstco', 'ac', 'skqx', 'rationaletienne', 'adamklotz', 'spacex', 'pass', 'deep', 'chasm', 'negative', 'cash', 'flow', 'year', 'httpstco', 'hdjl', 'idaacarmack', 'lowest', 'cost', 'ton', 'carbon', 'sequestered', 'net', 'product', 'made', 'scalable', 'httpstcoxmyi', 'qwsgw', 'adamklotz', 'meant', 'price', 'countries', 'difference', 'taxes', 'amp', 'shipping', 'tobyliiiiiiiiii', 'intended', 'earth', 'ideas', 'apply', 'mars', 'cryptoshrikar', 'coindesk', 'tesla', 'danzpalmer', 'xprize', 'team', 'manage', 'carbon', 'capture', 'prize', 'httpstcofsw', 'ianl', 'sruhle', 'tesla', 'receives', 'stock', 'comp', 'stockoptions', 'table', 'youre', 'missing', 'back', 'work', 'capybarasurfer', 'mattwallace', 'bit', 'high', 'itsallrisky', 'doge', 'appears', 'inflationary', 'meaningfully', 'fixed', 'coins', 'unit', 'time', 'httpstco', 'uh', 'rarc', 'michaelgalanin', 'kevinmgill', 'wow', 'erdayastronaut', 'michaelhodapp', 'orbital', 'launch', 'tower', 'stack', 'raptors', 'orbit', 'booster', 'improve', 'ship', 'amp', 'booster', 'mass', 'michaelhodapp', 'back', 'work', 'tonight', 'ð', 'ðogecoin', 'instructional', 'videohttpstcoueeocofctb', 'people', 'spoken', 'httpstcox', 'ovmztgo', 'nivetha', 'lexfridman', 'cute', 'univercurious', 'extremely', 'misleading', 'image', 'doesnt', 'reflect', 'true', 'time', 'cost', 'people', 'rain', 'amp', 'pain', 'doge', 'hodl', 'rainforests', 'finally', 'httpstcogf', 'rg', 'qoaf', 'itsallrisky', 'fun', 'crypto', 'joshroomsburg', 'snoopdogg', 'genesimmons', 'simplicity', 'genius', 'astrogdogg', 'spacex', 'yup', 'jbuttermost', 'dogecoinrich', 'wapodavenport', 'true', 'dogecoinrich', 'flcnhvy', 'astrojordy', 'easy', 'decades', 'intense', 'work', 'notes', 'emails', 'texts', 'astrojordy', 'lessons', 'learned', 'earth', 'mars', 'time', 'story', 'tesla', 'amp', 'spacex', 'theonion', 'read', 'thebabylonbee', 'great', 'kingdom', 'httpstcoje', 'ei', 'hmv', 'dumdin', 'grimezsz', 'havent', 'heard', 'years', 'grimezsz', 'dogecake', 'yolthttpstcocnof', 'yjpf', 'kristennetten', 'damian', 'kristennetten', 'yeah', 'owensparks', 'great', 'thing', 'restaurants', 'hang', 'strangers', 'sjm', 'future', 'currency', 'earth', 'redlineshifter', 'scratch', 'wow', 'rationaletienne', 'wonderofscience', 'destiny', 'renatakonkoly', 'teslarati', 'woodhaus', 'franz', 'essential', 'erdayastronaut', 'joshbickett', 'ajtourville', 'spacex', 'ship', 'landing', 'burn', 'clear', 'solution', 'greate', 'httpstcoe', 'wikiugkz', 'adamklotz', 'erdayastronaut', 'joshbickett', 'ajtourville', 'spacex', 'hot', 'gas', 'maneuvering', 'rcs', 'thrusters', 'httpstcovso', 'ioed', 'erdayastronaut', 'joshbickett', 'ajtourville', 'spacex', 'higher', 'isp', 'erdayastronaut', 'joshbickett', 'ajtourville', 'spacex', 'intuitively', 'turbopumpfed', 'raptors', 'mu', 'httpstcolbtg', 'sibuc', 'brendan', 'nasaspaceflight', 'rt', 'spacex', 'falcon', 'launch', 'nasas', 'spherex', 'mission', '–', 'collect', 'data', 'million', 'galaxies', 'explore', 'rt', 'spacex', 'falcon', 'launches', 'starlink', 'satellites', 'orbit', '–', 'mission', 'pad', 'deck', 'httpstco', 'cucbgpnx', 'mikko', 'darudevil', 'true', 'joshbickett', 'ajtourville', 'erdayastronaut', 'spacex', 'yeah', 'default', 'engine', 'lever', 'arm', 'shut', 'good', 'ajtourville', 'erdayastronaut', 'spacex', 'engines', 'min', 'throttle', 'point', 'flameout', 'risk', 'la', 'httpstcothniyssnwn', 'adamklotz', 'erdayastronaut', 'spacex', 'erdayastronaut', 'spacex', 'foolish', 'start', 'engines', 'amp', 'immediately', 'shut', 'needed', 'land', 'memedestroyer', 'shorts', 'commandercruz', 'happen', 'sandstorm', 'masterpiece', 'madoverlord', 'dumb', 'time', 'pull', 'method', 'httpstcoj', 'whlrdr', 'lowkey', 'loki', 'highs', 'lows', 'doge', 'gigachad', 'dogecoin', 'peoples', 'crypto', 'ur', 'httpstcoe', 'kf', 'klxb', 'huobiglobal', 'entertaining', 'outcome', 'doge', 'httpstcovviuzwhodt', 'erdayastronaut', 'high', 'seas', 'amp', 'wind', 'tough', 'httpstcobey', 'pefpcj', 'rt', 'spacex', 'watch', 'falcon', 'launch', 'starlink', 'satellites', 'httpstcobjfjlczwdk', 'httpstcoln', 'reesbw', 'twitter', 'filled', 'graffiti', 'art', 'eiraum', 'giga', 'berlin', 'progress', 'httpstcoekpg', 'qcbui', 'hamoon', 'neuralink', 'neuralink', 'working', 'super', 'hard', 'ensure', 'implant', 'safety', 'amp', 'close', 'communication', 'httpstcoyky', 'llpumd', 'rt', 'spacex', 'mission', 'enables', 'access', 'everyday', 'people', 'dream', 'space', 'rt', 'spacex', 'announcing', 'commercial', 'astronaut', 'mission', 'orbit', 'earth', 'aboard', 'dragon', 'httpstcombesvnakad', 'httpstcouklsjffrjk', 'youve', 'worked', 'advanced', 'wearables', 'phones', 'robots', 'skills', 'needed', 'neuralink', 'feels', 'weird', 'helping', 'make', 'good', 'version', 'cyberpunk', 'true', 'working', 'neuralinkshortterm', 'solve', 'brainspine', 'injurieslongterm', 'humanai', 'symbiosis', 'latte', 'httpstcoqrc', 'alads', 'httpstcoxccokojylt', 'clubhouse', 'tonight', 'pm', 'la', 'time', 'erdayastronaut', 'tjcooney', 'lrocket', 'spacex', 'felixschlang', 'marcushousegame', 'tom', 'great', 'stories', 'experim', 'httpstcoteezkiwcmk', 'rt', 'commercialcrew', 'launch', 'alert', 'nasa', 'spacex', 'targeting', 'earlier', 'april', 'launch', 'crew', 'rotation', 'mis', 'erdayastronaut', 'tjcooney', 'lrocket', 'spacex', 'felixschlang', 'marcushousegame', 'big', 'fan', 'methane', 'httpstcomdv', 'vdefyc', 'tjcooney', 'lrocket', 'spacex', 'felixschlang', 'marcushousegame', 'sounds', 'correct', 'tom', 'deserves', 'lot', 'cre', 'httpstcohdri', 'hfa', 'tjcooney', 'lrocket', 'spacex', 'felixschlang', 'marcushousegame', 'tom', 'great', 'amp', 'instrumental', 'developing', 'early', 'vers', 'httpstcoulxtclm', 'ercxspace', 'smvllstvrs', 'tw', 'accelerate', 'unusually', 'fast', 'high', 'tw', 'important', 'reusable', 'httpstcou', 'cprrqj', 'dogg', 'teslaownerssv', 'escaping', 'thebabylonbee', 'read', 'article', 'warm', 'sunny', 'day', 'amp', 'snowy', 'mountains', 'httpstco', 'psyqu', 'beautiful', 'day', 'la', 'httpstcoescjtbzo', 'jaylav', 'yeah', 'dr', 'frankensteen', 'httpstcowdj', 'ujqk', 'younesh', 'guy', 'gave', 'talk', 'spacex', 'flcnhvy', 'halo', 'httpstcopyrcfe', 'xp', 'carnage', 'life', 'hope', 'true', 'tesla', 'spacex', 'thejackbeyer', 'nasaspaceflight', 'cryoproof', 'install', 'engines', 'starship', 'sn', 'amp', 'sn', 'httpstcourtpjn', 'amo', 'retrospect', 'inevitable', 'rgvaerialphotos', 'great', 'shot', 'itsmenieb', 'live', 'sword', 'die', 'sword', 'lexfridman', 'entropy', 'teslaownerssv', 'gamespot', 'buy', 'amp', 'hold', 'companies', 'make', 'goods', 'amp', 'produce', 'services', 'love', 'engineersfeed', 'earth', 'small', 'amp', 'smaller', 'httpstcogtohclgj', 'gamespot', 'cyberpunk', 'hotfixes', 'literally', 'hotfixes', 'great', 'game', 'httpstcoa', 'kmk', 'pegm', 'documentingbtc', 'dollar', 'shorting', 'westcoastbill', 'johnnacrider', 'iupsychdoctor', 'aoc', 'robinhoodapp', 'shopify', 'great', 'spacex', 'ohqwix', 'bnnj', 'bcghvzqxlb', 'wimgrommen', 'wsbchairman', 'economy', '—', 'making', 'products', 'amp', 'providing', 'great', 'services', '—', 'matters', 'iupsychdoctor', 'aoc', 'robinhoodapp', 'tanstaafl', 'small', 'fees', 'fees', 'makes', 'robin', 'httpstcoczrhlolyvo', 'shorty', 'apologistsgive', 'respectget', 'shorty', 'sell', 'houses', 'dont', 'ownu', 'sell', 'cars', 'dont', 'ownbut', 'sell', 'stock', 'dont', 'ownthis', 'bs', '–', 'sh', 'httpstcovjkf', 'bqbod', 'rationaletienne', 'teslavangelist', 'delayslater', 'finishing', 'engineering', 'year', 'production', 'starts', 'year', 'aiming', 'release', 'candidate', 'desig', 'httpstcobfverxpoqu', 'ppathole', 'grimezsz', 'made', 'video', 'aoc', 'robinhoodapp', 'absolutely', 'nasaspaceflight', 'unlike', 'aircraft', 'division', 'fine', 'faa', 'space', 'division', 'fundamentally', 'broken', 'reg', 'httpstcosi', 'axbjbz', 'evankaylor', 'nomad', 'anbuteau', 'esthetics', 'cyberpunk', 'incredible', 'btw', 'interior', 'design', 'trevormahlmann', 'spacex', 'major', 'esthetics', 'improvements', 'coming', 'teslaownerssv', 'dmcryan', 'dmcryan', 'roadster', 'part', 'rocket', 'dmcryan', 'lafebra', 'gfilche', 'storage', 'amp', 'easily', 'upgradable', 'avalonpenrose', 'httpstcodjdzxq', 'maz', 'couchinvestor', 'teslanews', 'wholemarsblog', 'yeah', 'months', 'wholemarsblog', 'drive', 'prnd', 'stalkstick', 'days', 'annoying', 'back', 'amp', 'shifter', 'wholemarsblog', 'stalks', 'car', 'guesses', 'drive', 'direction', 'based', 'obstacles', 'sees', 'context', 'amp', 'nav', 'map', 'httpstco', 'ehq', 'qy', 'avalonpenrose', 'hedge', 'fund', 'shorts', 'shrubbery', 'lafebra', 'gfilche', 'httpstcom', 'wwqstaxm', 'lafebra', 'gfilche', 'yeah', 'rear', 'screen', 'mph', 'trap', 'speed', 'mile', 'mph', 'top', 'speed', 'tires', 'production', 'car', 'achieve', 'mph', 'seconds', 'play', 'cyberpunk', 'plaid', 'model', 'ships', 'month', 'httpstcohfuptnqipb', 'discord', 'corpo', 'jason', 'yup', 'wild', 'times', 'discord', 'haha', 'httpstcof', 'fxqkbce', 'andycolt', 'waiting', 'faa', 'review', 'gamestonk', 'httpstcorztkdzaewj', 'labpadre', 'passed', 'initial', 'pressure', 'test', 'adamhoov', 'ppathole', 'httpstcov', 'cffwac', 'bought', 'hand', 'knit', 'wool', 'marvin', 'martian', 'helm', 'dog', 'httpstcogpcvjibtlm', 'kinda', 'love', 'etsy', 'thesheetztweetz', 'serve', 'public', 'hamstring', 'starlink', 'today', 'amazon', 'satellite', 'system', 'httpstcosnigkxdxfp', 'nextspaceflight', 'hoping', 'faa', 'approval', 'test', 'flight', 'tomorrow', 'afternoon', 'wholemarsblog', 'entire', 'stack', 'data', 'collection', 'labeling', 'amp', 'inference', 'surround', 'video', 'httpstcou', 'sqjkn', 'flcnhvy', 'wholemarsblog', 'crazy', 'turn', 'fsd', 'wholemarsblog', 'tesla', 'steadily', 'moving', 'nns', 'camera', 'surround', 'video', 'enable', 'superhuman', 'selfdriving', 'naval', 'road', 'hell', 'paved', 'bad', 'intentions', 'levine', 'catchy', 'httpstcoau', 'myf', 'rn', 'megaconstellati', 'aviationintel', 'jetcitystar', 'larrypress', 'sats', 'launched', 'year', 'laser', 'links', 'httpstcoceofli', 'lzm', 'megaconstellati', 'aviationintel', 'jetcitystar', 'larrypress', 'yup', 'teslagong', 'teslaownerssv', 'cleantechnica', 'hope', 'tesmaniancom', 'laser', 'links', 'satellites', 'ground', 'stations', 'needed', 'poles', 'teslaownerssv', 'cleantechnica', 'version', 'confusion', 'fsd', 'separate', 'version', 'number', 'rest', 'car', 'cleantechnica', 'surprise', 'tesla', 'ai', 'hardware', 'amp', 'software', 'waymo', 'money', 'ricguccio', 'teslaownerssv', 'floats', 'flcnhvy', 'boringcompany', 'falloutthemed', 'opening', 'party', 'vegas', 'loop', 'happening', 'allowed', 'alexebenton', 'boringcompany', 'vegas', 'boringcompany', 'tunnel', 'yesterday', 'boys', 'httpstcotlfouiedfm', 'ppathole', 'spacex', 'lasers', 'rt', 'spacex', 'spacexs', 'rideshare', 'offering', 'increased', 'access', 'space', 'small', 'satellite', 'operators', 'seeking', 'reliable', 'affordable', 'rid', 'rt', 'spacex', 'falcon', 'stage', 'landed', 'love', 'droneship', 'httpstco', 'gwwllixdg', 'rt', 'spacex', 'liftoff', 'httpstcojs', 'zvm', 'rh', 'codewisdom', 'teslascope', 'switching', 'fsd', 'version', 'numbering', 'distinguish', 'major', 'amp', 'minor', 'updates', 'httpstcoqmhipv', 'zqs', 'nasaspaceflight', 'early', 'week', 'rt', 'spacex', 'due', 'unfavorable', 'weather', 'standing', 'todays', 'launch', 'team', 'continue', 'countdown', 'seco', 'arstechnica', 'sciguyspace', 'companies', 'depending', 'mission', 'scru', 'httpstcogby', 'nacrsn', 'launching', 'small', 'satellites', 'wide', 'range', 'customers', 'tomorrow', 'excited', 'offering', 'lowcost', 'access', 'httpstcow', 'qduh', 'gerberkawasaki', 'part', 'solution', 'require', 'lots', 'fresh', 'water', 'amp', 'land', 'httpstcofwxsmo', 'erdayastronaut', 'spacex', 'sn', 'httpstcokwtvwm', 'mbn', 'erdayastronaut', 'good', 'path', 'fully', 'renewable', 'rocket', 'energy', 'solves', 'part', 'problem', 'longer', 'chain', 'hyd', 'httpstcoxugrzqijzx', 'details', 'week', 'donating', 'prize', 'carbon', 'capture', 'technology', 'kristennetten', 'spacex', 'eliburton', 'evafoxu', 'janeidyeve', 'austinbarnard', 'elonsbrain', 'jason', 'patterson', 'astrojordy', 'renatakonkoly', 'pretty', 'elonsworld', 'tesla', 'spacex', 'neuralink', 'boringcompany', 'eashanmisra', 'civilization', 'gr', 'httpstcosiar', 'ifvwc', 'laurenrow', 'evafoxu', 'renatakonkoly', 'sarapolakcz', 'seanmmitchell', 'delayslater', 'elonsworld', 'johnnacrider', 'httpstcovv', 'tthkr', 'teslatino', 'tesla', 'absolutely', 'rock', 'rt', 'spacex', 'falcon', 'launches', 'starlink', 'orbit', '–', 'eighth', 'launch', 'landing', 'booster', 'httpstcozyj', 'zddfql', 'kellyreid', 'ratelimiting', 'part', 'process', 'cell', 'production', 'constantly', 'changing', 'francissuarez', 'cityofmiami', 'cars', 'amp', 'trucks', 'stuck', 'traffic', 'generate', 'megatons', 'toxic', 'gases', 'amp', 'particulate', 'httpstcojcqiacxjno', 'rationaletienne', 'owensparks', 'tesla', 'giant', 'casting', 'machines', 'literally', 'make', 'fullsize', 'car', 'httpstcochgqmaiyts', 'lexfridman', 'tegmark', 'tegmark', 'exceptionally', 'smart', 'amp', 'good', 'human', 'owensparks', 'manufacturing', 'technology', 'ultra', 'high', 'volume', 'industries', 'food', 'amp', 'beverage', 'medical', 'syringes', 'amp', 'toys', 'battery', 'cell', 'production', 'fundamental', 'ratelimiter', 'slowing', 'sustainable', 'energy', 'future', 'important', 'pr', 'httpstco', 'ybabezxcv', 'pferragu', 'question', 'fsd', 'viewed', 'valuable', 'tradein', 'tobyliiiiiiiiii', 'erdayastronaut', 'erdayastronaut', 'glad', 'youre', 'virginorbit', 'congratulations', 'teslaownerssv', 'good', 'mrbeastyt', 'whistle', 'dmcryan', 'crhm', 'tesla', 'cybertruck', 'doesnt', 'garage', 'dmcryan', 'tesla', 'awesome', 'owenshift', 'good', 'point', 'signalapp', 'serverside', 'code', 'wikipedia', 'happy', 'birthday', 'wikipedia', 'glad', 'exist', 'theonion', 'guess', 'watching', 'cobra', 'kai', 'superclusterhq', 'ki', 'fallout', 'texas', 'breedlove', 'benmezrich', 'chuck', 'norris', 'divide', 'cerberu', 'breedlove', 'benmezrich', 'good', 'point', 'breedlove', 'benmezrich', 'thing', 'call', 'money', 'information', 'system', 'labor', 'allocation', 'actuall', 'httpstcojz', 'zmqgbo', 'monty', 'python', 'amazinghttpstcoujq', 'iwt', 'rationaletienne', 'tobyliiiiiiiiii', 'erdayastronaut', 'twist', 'knife', 'show', 'tobyliiiiiiiiii', 'erdayastronaut', 'wise', 'erdayastronaut', 'making', 'major', 'improvements', 'ease', 'engine', 'swap', 'hours', 'ppathole', 'johnkrausphotos', 'spacex', 'engines', 'slight', 'repairs', 'switched', 'johnkrausphotos', 'spacex', 'nice', 'shot', 'realomarabdalah', 'dont', 'high', 'school', 'internships', 'apply', 'youre', 'college', 'skorusark', 'prototypes', 'easy', 'volume', 'production', 'hard', 'positive', 'cash', 'flow', 'excruciating', 'tesla', 'physics', 'rt', 'spacex', 'splashdown', 'dragon', 'confirmed', 'completing', 'spacexs', 'st', 'spacestation', 'resupply', 'mission', 'return', 'cargo', 'resupp', 'erdayastronaut', 'detanking', 'amp', 'inspections', 'good', 'progress', 'hop', 'amp', 'mars', 'goal', 'static', 'fires', 'completed', 'amp', 'ruds', 'justpaulinelol', 'erdayastronaut', 'spacex', 'wow', 'lot', 'happened', 'years', 'officialjlipper', 'fair', 'haha', 'httpstcoho', 'ygxas', 'nasaspaceflight', 'sea', 'shanty', 'tiktok', 'takes', 'level', 'actual', 'pirate', 'ships', 'connectdotstoo', 'today', 'spacex', 'practicing', 'starship', 'engine', 'starts', 'ship', 'held', 'massive', 'pins', 'engines', 'fir', 'httpstcoqtiiwlxxpl', 'tesmaniancom', 'promised', 'legalize', 'comedy', 'lvladimirovbg', 'steal', 'namelogos', 'amp', 'wont', 'sue', 'arstechnica', 'sciguyspace', 'people', 'mars', 'appreciated', 'spacex', 'spacestation', 'day', 'camera', 'shows', 'star', 'field', 'background', 'rt', 'spacex', 'separation', 'confirmed', 'dragon', 'performing', 'departure', 'burns', 'move', 'spacestation', 'httpstcog', 'ohwvnxj', 'lexfridman', 'suicide', 'double', 'homicide', 'httpstcomvwgps', 'uqe', 'lexfridman', 'absolutely', 'hey', 'yeah', 'queen', 'youre', 'gon', 'na', 'make', 'httpstcolrqdirbiyd', 'theoldmanpar', 'djsnm', 'machinepix', 'hate', 'true', 'machinepix', 'robot', 'future', 'coming', 'wonderofscience', 'physicsj', 'km', 'millisecond', 'times', 'faster', 'httpstcotkkruvgbth', 'httpstcoocy', 'gfryvn', 'iamdevloper', 'httpstcobkkeiiicye', 'mus', 'protec', 'yoda', 'httpstco', 'dvhg', 'ntku', 'roscosmos', 'rationaletienne', 'thebabylonbee', 'important', 'distinction', 'valaafshar', 'amp', 'increasing', 'rapidly', 'codingmark', 'flcnhvy', 'archillect', 'imagined', 'skorusark', 'factory', 'product', 'austinteslaclub', 'thebabylonbee', 'commenting', 'signalapp', 'ppathole', 'bought', 'replacement', 'glass', 'junkyard', 'theyre', 'great', 'places', 'spare', 'parts', 'thebabylonbee', 'lot', 'people', 'super', 'unhappy', 'west', 'coast', 'high', 'tech', 'de', 'facto', 'arbiter', 'free', 'speech', 'alexandersibert', 'signalapp', 'donated', 'signal', 'year', 'ago', 'donate', 'benmezrich', 'primarily', 'advance', 'sustainable', 'energy', 'amp', 'extending', 'lifeconsciousness', 'httpstcovybfavhkys', 'songwooseok', 'gerberkawasaki', 'benmezrich', 'ragazaga', 'spacepadreisle', 'tesla', 'ai', 'day', 'year', 'spacepadreisle', 'prancing', 'pony', 'boredelonmusk', 'erigganewmoney', 'mayemusk', 'true', 'glenn', 'woketopiansa', 'long', 'woketopiansa', 'yeah', 'optimistic', 'yearold', 'son', 'saxon', 'feels', 'good', 'year', 'agree', 'make', 'erdayastronaut', 'spacex', 'thinking', 'spacex', 'boca', 'hold', 'fun', 'parties', 'give', 'tours', 'community', 'time', 'time', 'erdayastronaut', 'spacex', 'super', 'support', 'public', 'spaces', 'production', 'amp', 'launch', 'sites', 'httpstcowmqwct', 'wfh', 'christo', 'sean', 'erdayastronaut', 'spacex', 'sean', 'erdayastronaut', 'spacex', 'catapult', 'high', 'air', 'amp', 'land', 'roof', 'base', 'jumping', 'parachute', 'travel', 'erdayastronaut', 'spacex', 'restaurant', 'spacex', 'building', 'futuristic', 'bar', 'top', 'httpstcoz', 'umtgsaoi', 'techreview', 'increase', 'fun', 'benmezrich', 'tonychomrmagic', 'teslaenergy', 'tesla', 'solar', 'roof', 'installations', 'demigod', 'day', 'ppathole', 'engineersfeed', 'large', 'solar', 'field', 'reactor', 'needed', 'po', 'httpstcoph', 'plnam', 'engineersfeed', 'sick', 'beats', 'httpstco', 'pbsgffzrp', 'flcnhvy', 'dozen', 'primary', 'decisionmakers', 'technically', 'erdayastronaut', 'lexfridman', 'option', 'verification', 'public', 'ascribe', 'credibilit', 'httpstcoju', 'wemvsjg', 'launch', 'underway', 'httpstcowbk', 'zz', 'fqx', 'btw', 'critical', 'feedback', 'super', 'appreciated', 'ways', 'donate', 'money', 'make', 'difference', 'harder', 'eugenelee', 'engineersfeed', 'yup', 'engineersfeed', 'indirectly', 'electric', 'rocket', 'electricity', 'convert', '—gt', 'ch', 'httpstcofqzotwqt', 'engineersfeed', 'orbit', 'space', 'photon', 'emission', 'powered', 'matterantimatter', 'annihila', 'httpstcoy', 'po', 'opqn', 'teslarati', 'residentsponge', 'hard', 'make', 'isnt', 'vehicle', 'thfromourstar', 'playing', 'long', 'game', 'ashleevance', 'true', 'idaacarmack', 'hope', 'wings', 'dont', 'work', 'moon', 'def', 'mars', 'runways', 'ericrweinstein', 'hamiltonians', 'potential', 'langrangians', 'play', 'httpstco', 'ja', 'mre', 'teslaownerssv', 'back', 'work', 'teslaownerssv', 'strange', 'signal', 'thehackersnews', 'ya', 'dont', 'reminds', 'timeless', 'classic', 'httpstcogq', 'wayotir', 'univercurious', 'fast', 'water', 'tiny', 'rocks', 'flcnhvy', 'occams', 'razor', 'external', 'observer', 'participants', 'entertaining', 'outcome', 'ppathole', 'dumb', 'dumber', 'great', 'movie', 'tho', 'called', 'domino', 'effect', 'httpstcoqpbew', 'rvm', 'dtrford', 'austinbarnard', 'alexsvanart', 'ercxspace', 'spceenthusiast', 'spacexvision', 'tomdixondesign', 'spacex', 'httpstcoes', 'garryvs', 'large', 'footprint', 'flat', 'ranges', 'stories', 'tall', 'snow', 'falling', 'giga', 'berlin', 'httpstcoetxmtyp', 'hg', 'rgvaerialphotos', 'spacex', 'gfilche', 'flcnhvy', 'tesla', 'responsible', 'personal', 'amp', 'professional', 'pain', 'life', 'combined', 'worth', 'proud', 'tesla', 'team', 'achieving', 'major', 'milestone', 'start', 'tesla', 'thought', 'optimistica', 'httpstco', 'wlybpkmzj', 'rt', 'tesla', 'produced', 'delivered', 'half', 'million', 'cars', 'huge', 'made', 'possiblehttpstcoq', 'vz', 'rmhd', 'newscientist', 'um', 'giant', 'fusion', 'reactor', 'sky', 'works', 'maintenance', 'commaai', 'tesla', 'full', 'selfdriving', 'work', 'safety', 'level', 'average', 'driver', 'year', 'httpstcojmabjuqfdf', 'ppathole', 'dojo', 'isnt', 'needed', 'make', 'selfdriving', 'isnt', 'safer', 'human', 'drivers', 'aut', 'httpstcodyy', 'rmhgil', 'ignore', 'heading', 'great', 'interview', 'mathias', 'döpfnerhttpstcoewnahc', 'ch', 'jack', 'greatest', 'gatsby', 'flcnhvy', 'inspired', 'ballet', 'smvllstvrs', 'ercxspace', 'rocket', 'motion', 'primarily', 'vertical', 'top', 'open', 'jack', 'lets', 'make', 'roaring', 'erdayastronaut', 'lumps', 'erdayastronaut', 'flcnhvy', 'ercxspace', 'production', 'hard', 'prototypes', 'easy', 'building', 'starships', 'create', 'httpstcoxjlljpljbp', 'icannotenough', 'aloysiusfekete', 'rationaletienne', 'biogirl', 'ercxspace', 'rexchapman', 'haha', 'erdayastronaut', 'flcnhvy', 'ercxspace', 'sn', 'press', 'ch', 'header', 'tank', 'helium', 'longterm', 'solution', 'debate', 'httpstcokawwol', 'jg', 'flabellina', 'rationaletienne', 'biogirl', 'ercxspace', 'rationaletienne', 'biogirl', 'ercxspace', 'legs', 'work', 'part', 'part', 'step', 'step', 'flcnhvy', 'ercxspace', 'flcnhvy', 'ercxspace', 'saves', 'mass', 'amp', 'cost', 'legs', 'amp', 'enables', 'repositioning', 'booster', 'launch', 'mount', '—', 'rea', 'httpstcojwdcjarymj', 'ercxspace', 'catch', 'super', 'heavy', 'booster', 'launch', 'tower', 'arm', 'grid', 'fins', 'load', 'snakehead', 'dog', 'undivided', 'attention', 'winderhead', 'ostrich', 'gliding', 'nonchalant', 'httpstcodtpmdm', 'tqp', 'tesmaniancom', 'odd', 'opposition', 'group', 'bmws', 'home', 'state', 'baveria', 'brande', 'httpstcom', 'dyvli', 'cx', 'tesmaniancom', 'opposition', 'progress', 'harsimranbansal', 'literally', 'tobyliiiiiiiiii', 'real', 'destiny', 'destinyno', 'escaping', 'tesla', 'cars', 'delivered', 'final', 'days', 'year', 'months', 'full', 'selfdriving', 'option', 'httpstcoppaereeo', 'spacenewsinc', 'mark', 'dankberg', 'action', 'wack', 'dank', 'rezazadeh', 'ashleevance', 'westworld', 'kingdom', 'show', 'great', 'jayson', 'absolutely', 'text', 'amp', 'visualization', 'add', 'voice', 'sfscentral', 'cheese', 'made', 'cake', 'karpathy', 'dont', 'love', 'deep', 'trouble', 'made', 'cake', 'httpstcoomacmyqawx', 'chicagoglenn', 'true', 'haha', 'weird', 'game', 'httpstco', 'mrvvzmekg', 'cgi', 'httpstcovoive', 'vpr', 'bensullins', 'ui', 'overhaul', 'maldivawow', 'codingmark', 'tesla', 'incremental', 'improvements', 'production', 'codebase', 'fsd', 'build', 'httpstco', 'puoramgo', 'spacenewsinc', 'starlink', 'poses', 'hazard', 'viasats', 'profits', 'stop', 'sneaky', 'moves', 'charlie', 'ergen', 'entertainment', 'critical', 'cars', 'drive', 'kimpaquette', 'meeting', 'larry', 'ellison', 'seek', 'advice', 'back', 'working', 'tesla', 'end', 'quarter', 'tomorrow', 'richierichhhhh', 'absolutely', 'tesla', 'incar', 'gaming', 'autonomous', 'world', 'ppathole', 'wsj', 'absolutely', 'tesmaniancom', 'taste', 'future', 'playing', 'polytopia', 'tesla', 'great', 'game', 'multiplayer', 'online', 'version', 'coming', 'wsj', 'focus', 'making', 'products', 'amp', 'services', 'people', 'love', 'total', 'economic', 'pie', 'bigger', 'en', 'httpstcoqe', 'jcezytq', 'thatdesignguy', 'msiphiw', 'moosuraj', 'tesla', 'roughly', 'parts', 'tesla', 'roadster', 'unique', '—', 'pro', 'httpstcor', 'yb', 'cmrb', 'laurenrow', 'karpathy', 'engineersfeed', 'important', 'teslaownerssv', 'lexfridman', 'service', 'check', 'teslaownerssv', 'lexfridman', 'install', 'external', 'speaker', 'earlier', 'cars', 'dont', 'gunmtlm', 'lexfridman', 'year', 'lexfridman', 'good', 'point', 'conexionspacial', 'spacecoaststve', 'nasaspaceflight', 'interesting', 'flcnhvy', 'liz', 'great', 'interviews', 'spacecoaststve', 'nasaspaceflight', 'falcon', 'successful', 'orbital', 'launches', 'majority', 'pa', 'httpstcopmgu', 'vhqez', 'karpathy', 'vaccines', 'start', 'capable', 'theory', 'curing', 'turns', 'medicine', 'httpstcouruvc', 'qf', 'jgrano', 'teslatruckclub', 'jeremyjudkins', 'jpuconn', 'jchybow', 'dirtytesla', 'teslatruckclub', 'jeremyjudkins', 'jpuconn', 'jchybow', 'dirtytesla', 'offer', 'multiple', 'display', 'options', 'ivanescobosa', 'erdayastronaut', 'teslaownerssv', 'revisions', 'needed', 'beta', 'erdayastronaut', 'teslaownerssv', 'erdayastronaut', 'teslaownerssv', 'haha', 'kkvr', 'teslaadri', 'teslaownerssv', 'subtle', 'important', 'differences', 'amp', 'canada', 'traffic', 'rules', 'bu', 'httpstcoxzx', 'ppvl', 'teslaadri', 'teslaownerssv', 'teslaownerssv', 'match', 'traffic', 'speed', 'setting', 'stevewoz', 'flcnhvy', 'extrachars', 'step', 'direction', 'arm', 'arm', 'dont', 'car', 'pedestrian', 'speaker', 'couldnt', 'httpstco', 'hkza', 'ohe', 'westcoastbill', 'writing', 'cobra', 'kai', 'sick', 'afloathickory', 'haha', 'save', 'nightmare', 'shorts', 'extrachars', 'upload', 'custom', 'musicsounds', 'jgrano', 'pedestrian', 'speaker', 'needed', 'external', 'sound', 'generator', 'actual', 'horn', 'change', 'horn', 'sound', 'holiday', 'jingles', 'latest', 'tesla', 'software', 'update', 'merry', 'christmas', 'amp', 'happy', 'holidays', 'httpstcouk', 'nspwr', 'tesmaniancom', 'great', 'game', 'harsimranbansal', 'heydave', 'make', 'sense', 'starlink', 'public', 'revenue', 'growth', 'predictable', 'heydave', 'engineering', 'design', 'amp', 'general', 'company', 'operations', 'absorb', 'vast', 'majority', 'mind', 'amp', 'fundamental', 'li', 'httpstcovxv', 'ghumbd', 'elonsworld', 'realfuturist', 'lexfridman', 'flcnhvy', 'marcushousegame', 'months', 'marcushousegame', 'coming', 'olhzn', 'minor', 'trevormahlmann', 'yeah', 'story', 'rocket', 'turns', 'engines', 'amp', 'controlled', 'fall', 'httpstcohcrgyx', 'rn', 'erdayastronaut', 'yup', 'ironing', 'bugs', 'tesla', 'owners', 'taking', 'delivery', 'final', 'days', 'year', 'support', 'super', 'appreciated', 'deepmind', 'nature', 'frictionless', 'ai', 'possibly', 'wrong', 'heydave', 'good', 'idea', 'wintonark', 'darkest', 'days', 'model', 'program', 'reached', 'tim', 'cook', 'discuss', 'possibility', 'httpstcooptz', 'urne', 'wintonark', 'strange', 'true', 'tesla', 'ironphosphate', 'medium', 'range', 'cars', 'made', 'shanghai', 'facto', 'httpstcomilwsilvrt', 'archillect', 'spartas', 'reply', 'macedon', 'lizclaman', 'tesla', 'foxbusiness', 'clamancountdown', 'liz', 'worked', 'hard', 'make', 'tesla', 'successful', 'heart', 'teslaownerssv', 'kristennetten', 'twisted', 'affair', 'alls', 'ends', 'mkbhd', 'kind', 'lowkey', 'tesla', 'superchargers', 'made', 'accessible', 'electric', 'cars', 'rt', 'spacex', 'photos', 'yesterdays', 'launch', 'landing', 'httpstco', 'whx', 'bx', 'httpstco', 'ojfysuaxo', 'michaelsaylor', 'large', 'transactions', 'love', 'crazy', 'ppl', 'bizzzzzyd', 'point', 'sigh', 'pcgamer', 'great', 'game', 'flcnhvy', 'pretty', 'main', 'college', 'hanging', 'pseudo', 'intellectual', 'conversations', 'amp', 'httpstco', 'ybscm', 'comments', 'stay', 'memes', 'padgeuk', 'absolutely', 'release', 'fsd', 'subscription', 'early', 'year', 'word', 'doge', 'bitcoin', 'bs', 'fiat', 'money', 'hajekmiloslav', 'great', 'nails', 'amp', 'lipstick', 'mightytesla', 'kristennetten', 'laurenkalo', 'sawyermerritt', 'jasondebolt', 'codingmark', 'delayslater', 'babytesla', 'httpstcodvwzgtppda', 'httpstcoebojgshvrq', 'callowaytech', 'sounds', 'lord', 'edge', 'xdreamcoding', 'frankthelen', 'nice', 'branding', 'kidding', 'safe', 'word', 'bitcoin', 'safe', 'word', 'rt', 'spacex', 'falcon', 'stage', 'landed', 'landing', 'zone', 'httpstcomr', 'goc', 'rt', 'spacex', 'liftoff', 'httpstcoag', 'rar', 'qnp', 'spacex', 'standing', 'today', 'inspect', 'rocket', 'launching', 'tomorrow', 'spacex', 'pressure', 'slightly', 'high', 'upper', 'stage', 'liquid', 'oxygen', 'tank', 'review', 'underway', 'teslamania', 'hoping', 'back', 'month', 'nytimes', 'impressive', 'mission', 'china', 'spacex', 'launch', 'coming', 'teslaownerssv', 'astonmartin', 'tesla', 'grumpy', 'point', 'teslaownerssv', 'absurdly', 'good', 'tesla', 'aiautopilot', 'engineering', 'awesome', 'great', 'ai', 'ther', 'httpstcov', 'muheapoq', 'star', 'light', 'star', 'bright', 'httpstco', 'cetazsxco', 'teslarati', 'ericralph', 'incorrect', 'thebabylonbee', 'pcgamer', 'visually', 'stunning', 'amp', 'playability', 'good', 'pcgamer', 'tshirt', 'armor', 'kevlar', 'chest', 'plate', 'doesnt', 'make', 'sense', 'absence', 'magic', 'httpstcoiydkttvsqk', 'cleantechnica', 'umm', 'httpstcojtg', 'ercy', 'cleantechnica', 'absolutely', 'support', 'trans', 'pronouns', 'esthetic', 'nightmare', 'erdayastronaut', 'flightclubio', 'raptors', 'max', 'thrust', 'ship', 'blown', 'altit', 'httpstcoikcrzpyxtr', 'erdayastronaut', 'flightclubio', 'fully', 'loaded', 'slow', 'ship', 'crazy', 'highfar', 'engines', 'picotjohn', 'cyberpunkgame', 'good', 'great', 'game', 'imo', 'improving', 'mere', 'surface', 'detail', 'woul', 'httpstcozm', 'sz', 'cbzg', 'truthtesla', 'tesmaniancom', 'slightly', 'confident', 'essential', 'view', 'output', 'time', 'httpstcorkfvjvotse', 'tesmaniancom', 'dankeschön', 'brandenburg', 'und', 'grünheide', 'austinbarnard', 'lrocket', 'hope', 'future', 'doesnt', 'pass', 'tesmaniancom', 'giga', 'berlinbrandenburg', 'structural', 'pack', 'architecture', 'worlds', 'httpstcowesafntz', 'dota', 'funny', 'cyberpunkgame', 'original', 'deus', 'incredible', 'human', 'revolution', 'great', 'cyberpunkgame', 'objective', 'reality', 'impossible', 'run', 'advanced', 'game', 'hardware', 'httpstcozo', 'qsu', 'wt', 'rt', 'spacex', 'starship', 'landing', 'flip', 'maneuver', 'httpstcoqud', 'hwz', 'cx', 'theonion', 'thebabylonbee', 'ascent', 'heavens', 'httpstcooggsw', 'yrz', 'engineersfeed', 'ppathole', 'cyberpunkgame', 'yeah', 'briefly', 'pretty', 'good', 'picked', 'nomad', 'start', 'slow', 'picks', 'httpstconllipnbmxr', 'zwiebelbach', 'itsmenieb', 'cyberpunkgame', 'httpstcoaayypcpp', 'hehe', 'httpstcosklmil', 'oxt', 'cyberpunkgame', 'httpstcorhksb', 'xqr', 'cyberpunkgame', 'httpstcokmg', 'qf', 'httpstcosdmxkbhdzd', 'httpstcoqbnt', 'dused', 'rt', 'spacex', 'falcon', 'launches', 'sxm', 'orbit', 'completing', 'spacexs', 'launch', 'year', 'httpstcozrur', 'ewnlv', 'quantamagazine', 'init', 'void', 'ppathole', 'ercxspace', 'spacex', 'cooling', 'haha', 'ppathole', 'ercxspace', 'spacex', 'soft', 'spot', 'heart', 'transpiration', 'cooking', 'theory', 'httpstco', 'sschdkfad', 'ercxspace', 'spacex', 'ship', 'leeward', 'side', 'bare', 'metal', 'windward', 'black', 'hexagonal', 'heat', 'shield', 'tiles', 'rt', 'pockncg', 'wait', 'elonmusk', 'spacex', 'spacexstarship', 'httpstcoynetmywfvg', 'conexionspacial', 'pockncg', 'spacepadreisle', 'spacex', 'agreed', 'preserved', 'memory', 'sn', 'rt', 'spacex', 'photos', 'starship', 'sn', 'flight', 'test', 'httpstco', 'whx', 'bx', 'httpstco', 'ozlyf', 'qrf', 'nasaspaceflight', 'bocachicagal', 'woohoo', 'erdayastronaut', 'spacex', 'sn', 'great', 'reaching', 'apogee', 'wouldve', 'great', 'controlling', 'putting', 'httpstcoxwm', 'fxmx', 'south', 'texas', 'support', 'gateway', 'mars', 'life', 'universe', 'httpstco', 'zczinfc', 'erdayastronaut', 'yeah', 'engines', 'great', 'mars', 'fuel', 'header', 'tank', 'pressure', 'low', 'landing', 'burn', 'causing', 'touchdown', 'velocity', 'high', 'amp', 'rud', 'httpstcowgjvdsahmf', 'successful', 'ascent', 'switchover', 'header', 'tanks', 'amp', 'precise', 'flap', 'control', 'landing', 'point', 'httpstcoiiraiesg', 'thebabylonbee', 'wonderofscience', 'nearorbital', 'space', 'fastest', 'travel', 'long', 'distance', 'earth', 'spacex', 'spacestation', 'called', 'space', 'station', 'moving', 'earth', 'times', 'spee', 'httpstcovyvivrtzsa', 'rt', 'spacex', 'timelapse', 'dragon', 'approach', '–', 'dragons', 'docked', 'spacestation', 'httpstcoi', 'jbmc', 'long', 'orifice', 'alien', 'message', 'decrypted', 'spacex', 'chance', 'completing', 'mission', 'objectives', 'spacex', 'flying', 'tomorrow', 'nasaspaceflight', 'yup', 'rt', 'nasa', 'success', 'pm', 'spacexs', 'upgraded', 'dragon', 'cargo', 'spacecraft', 'autonomously', 'docked', 'spacestation', 'st', 'pad', 'south', 'texas', 'httpstcorcyoxxptc', 'rt', 'spacestation', 'station', 'spacex', 'dragon', 'orbital', 'night', 'period', 'pm', 'docking', 'crewdragon', 'spacestation', 'spacex', 'wow', 'station', 'amazing', 'rt', 'nasa', 'good', 'morning', 'earthlings', 'journey', 'continues', 'watch', 'nasa', 'spacex', 'cargo', 'resupply', 'mission', 'docks', 'spacestatio', 'nasaspaceflight', 'knock', 'knock', 'singing', 'telegram', 'lexfridman', 'carrying', 'symbiotic', 'bacteria', 'trillion', 'cells', 'adamklotz', 'lexfridman', 'lexfridman', 'mobile', 'cell', 'colonies', 'rt', 'spacex', 'tracking', 'footage', 'helicopter', 'todays', 'falcon', 'launch', 'lc', 'httpstco', 'ryvzrts', 'rt', 'erdayastronaut', 'genuinely', 'magical', 'starship', 'sn', 'person', 'boca', 'chica', 'beautiful', 'quiet', 'serine', 'im', 'gespräch', 'mit', 'mathias', 'döpfner', 'httpstcobqa', 'piaonk', 'rt', 'spacex', 'dragon', 'separation', 'confirmed', 'spacecraft', 'spacestation', 'autonomous', 'docking', 'tomorrow', 'approximately', 'rt', 'spacex', 'falcon', 'booster', 'landed', 'love', 'droneship', 'httpstcocnl', 'lq', 'rt', 'spacex', 'liftoff', 'httpstcopgk', 'cph', 'haya', 'ejaxa', 'jaxaen', 'congratulations', 'haya', 'ejaxa', 'congratulations', 'rdanglephoto', 'spacex', 'teslarati', 'rt', 'boringcompany', 'tunnel', 'rave', 'httpstcod', 'jkoiasy', 'rationaletienne', 'toilet', 'paper', 'watch', 'demolition', 'man', 'prometheus', 'unbound', 'rt', 'spacex', 'falcon', 'booster', 'supporting', 'mission', 'previously', 'launched', 'nasa', 'astronauts', 'bob', 'behnken', 'doug', 'hurley', 'spacesta', 'ercxspace', 'spacex', 'nasaspaceflight', 'erdayastronaut', 'marcushousegame', 'felixschlang', 'bad', 'theonion', 'beast', 'compared', 'vic', 'tesmaniancom', 'award', 'accepted', 'behalf', 'great', 'people', 'tesla', 'spacex', 'neuralink', 'amp', 'boring', 'people', 'science', 'engineering', 'thing', 'rocket', 'scientist', 'roc', 'httpstcows', 'uvcryn', 'science', 'discovering', 'essential', 'truths', 'exists', 'universe', 'engineering', 'creating', 'things', 'httpstcoxmqtbrldyp', 'justpaulinelol', 'bit', 'cold', 'night', 'engineersfeed', 'paint', 'makes', 'hell', 'difference', 'deepmind', 'congrats', 'lrocket', 'build', 'spacex', 'memories', 'rgvaerialphotos', 'real', 'marcushousegame', 'bcart', 'nextspaceflight', 'nasaspaceflight', 'starship', 'legs', 'hardest', 'problems', 'external', 'httpstcocsizk', 'sevu', 'bcart', 'nextspaceflight', 'nasaspaceflight', 'static', 'fire', 'risky', 'build', 'site', 'clear', 'build', 'site', 'early', 'flights', 'nextspaceflight', 'nasaspaceflight', 'static', 'fire', 'tomorrow', 'flight', 'earlier', 'wednesday', 'ercxspace', 'spacex', 'landing', 'legs', 'eugenelee', 'ppathole', 'karpathy', 'sad', 'news', 'tony', 'great', 'ppathole', 'karpathy', 'thought', 'pic', 'thanos', 'haha', 'poppabearq', 'idaacarmack', 'yeah', 'truncate', 'zeros', 'amp', 'round', 'dburkland', 'idaacarmack', 'wider', 'beta', 'weeks', 'idaacarmack', 'fp', 'important', 'digits', 'truncated', 'feels', 'fp', 'betting', 'training', 'dojo', 'idaacarmack', 'int', 'heavy', 'lifting', 'inference', 'works', 'great', 'thisisjendoll', 'httpstcolb', 'pksayi', 'thisisjendoll', 'httpstcommg', 'happy', 'thanksgiving', 'teslaownerssv', 'johneg', 'teslachillmode', 'unplgd', 'mfrunker', 'ccteslaclub', 'month', 'johneg', 'teslachillmode', 'unplgd', 'mfrunker', 'ccteslaclub', 'air', 'suspension', 'height', 'amp', 'damping', 'algorithm', 'httpstcoopgo', 'vd', 'karpathy', 'haha', 'true', 'humanoidhistory', 'promise', 'greatly', 'needed', 'evafoxu', 'special', 'colors', 'roadster', 'original', 'rationaletienne', 'thebabylonbee', 'thebabylonbee', 'savage', 'worldandscience', 'wondered', 'life', 'leader', 'launch', 'risk', 'normal', 'httpstcoetfp', 'ielrf', 'teslatino', 'flcnhvy', 'thesheetztweetz', 'slightly', 'filled', 'aholstein', 'flcnhvy', 'thesheetztweetz', 'subject', 'debate', 'flcnhvy', 'thesheetztweetz', 'major', 'upgrades', 'slated', 'sn', 'flcnhvy', 'thesheetztweetz', 'small', 'improvements', 'similar', 'wiring', 'robust', 'engines', 'mat', 'httpstco', 'ofbmy', 'thesheetztweetz', 'sn', 'amp', 'sn', 'thesheetztweetz', 'lot', 'things', 'chance', 'good', 'starship', 'sn', 'static', 'fire', 'aiming', 'km', 'ft', 'altitude', 'flight', 'week', 'goals', 'test', 'engin', 'httpstco', 'ojorqnhb', 'erdayastronaut', 'marcushousegame', 'start', 'year', 'depends', 'starship', 'progress', 'rationaletienne', 'marcushousegame', 'starshipfairing', 'marcushousegame', 'bad', 'engines', 'make', 'cargo', 'bay', 'propel', 'httpstcoj', 'uvultatv', 'marcushousegame', 'rapid', 'amp', 'complete', 'rocket', 'reuse', 'low', 'cost', 'propellant', 'orbital', 'refilling', 'amp', 'propellant', 'production', 'httpstcoumyur', 'yshy', 'erdayastronaut', 'ppathole', 'teslarati', 'teslaroadtrip', 'ppathole', 'teslarati', 'teslaroadtrip', 'simply', 'video', 'control', 'biggest', 'gamechanger', 'cu', 'httpstconb', 'hl', 'gzlx', 'teslarati', 'teslaroadtrip', 'fsd', 'beta', 'coming', 'days', 'improvement', 'significant', 'xhnews', 'exciting', 'mission', 'vincent', 'tesla', 'wow', 'livboeree', 'yea', 'tomorrow', 'flight', 'rocket', 'landing', 'droneship', 'love', 'johnnacrider', 'teslaownerssv', 'delayslater', 'futurejurvetson', 'flcnhvy', 'true', 'rationaletienne', 'heydave', 'philwhln', 'quiet', 'queue', 'products', 'build', 'roadster', 'point', 'rationaletienne', 'shycybertruck', 'fate', 'loves', 'irony', 'hates', 'hypocrisy', 'rt', 'nasa', 'booster', 'separation', 'secondengine', 'start', 'fairing', 'separation', 'useuropean', 'sentinel', 'michael', 'freilich', 'oceanobserving', 'icannotenough', 'heydave', 'flcnhvy', 'data', 'center', 'named', 'skynet', 'joke', 'years', 'ago', 'tempting', 'fate', 'heydave', 'philwhln', 'tesla', 'vehicle', 'creating', 'amp', 'producing', 'products', 'nasaspaceflight', 'largest', 'cast', 'titanium', 'part', 'world', 'heat', 'shielding', 'needed', 'landing', 'vandenberg', 'afb', 'california', 'httpstco', 'gccjp', 'tobyliiiiiiiiii', 'spacex', 'nasa', 'nasalsp', 'nasajpl', 'esa', 'side', 'doesnt', 'launch', 'httpstcofr', 'aucywco', 'tobyliiiiiiiiii', 'spacex', 'nasa', 'nasalsp', 'nasajpl', 'esa', 'philwhln', 'heydave', 'investor', 'tesla', 'good', 'company', 'investing', 'httpstcowduz', 'wnuin', 'httpstcoffpvdsqruc', 'day', 'ahead', 'httpstcoapzngmo', 'rt', 'spacex', 'crew', 'view', 'earth', 'dragons', 'flight', 'spacestation', 'httpstcolqw', 'tympb', 'nasaaero', 'lockheedmartin', 'youd', 'call', 'pointy', 'cleantechnica', 'cool', 'astrofonseca', 'spacestation', 'wonderofscience', 'virtualastro', 'theyre', 'moving', 'times', 'speed', 'sound', 'feels', 'worldandscience', 'httpstcoxajan', 'zr', 'vicentes', 'evafoxu', 'ppathole', 'mirojurcevic', 'tashaark', 'spacestation', 'upgrades', 'evafoxu', 'ppathole', 'mirojurcevic', 'tashaark', 'spacestation', 'human', 'vision', 'margin', 'ennnafnlaus', 'mirojurcevic', 'tashaark', 'spacestation', 'reality', 'strange', 'ghostworld', 'radar', 'wavelengths', 'httpstcodmgov', 'rcnu', 'ppathole', 'mirojurcevic', 'tashaark', 'spacestation', 'mirojurcevic', 'tashaark', 'misperception', 'spacex', 'developed', 'amp', 'continues', 'lidar', 'dragon', 'docking', 'httpstco', 'bwgjlqp', 'philippecroizon', 'spacex', 'day', 'fly', 'starship', 'peterjbeck', 'hisdirtremoves', 'spacex', 'comment', 'turbopump', 'internal', 'details', 'youre', 'roughly', 'ballpark', 'wow', 'roc', 'httpstco', 'srlfg', 'fg', 'tashaark', 'clear', 'xpeng', 'problem', 'companies', 'china', 'isaaclatterell', 'tashaark', 'karpathy', 'andrej', 'awesome', 'talented', 'autopilot', 'httpstco', 'ocngk', 'ey', 'spacetouristuk', 'tashaark', 'yeah', 'stole', 'apples', 'code', 'toohttpstcogy', 'dt', 'pq', 'tashaark', 'version', 'software', 'amp', 'dont', 'nn', 'inference', 'computer', 'levie', 'wild', 'times', 'rocketlab', 'congrats', 'slashdot', 'theonion', 'idaacarmack', 'yup', 'flcnhvy', 'change', 'parts', 'fine', 'forbes', 'caution', 'strongly', 'advised', 'spacs', 'adamkiotz', 'suvitruf', 'archillect', 'suvitruf', 'archillect', 'haha', 'sexy', 'cropping', 'champion', 'time', 'tweetmenima', 'teslaownerssv', 'weeks', 'release', 'good', 'widen', 'beta', 'justpaulinelol', 'teslaownerssv', 'rules', 'liquor', 'distribution', 'httpstcokvhlbuee', 'teslaownerssv', 'weeks', 'release', 'special', 'lot', 'fundamental', 'improvements', 'important', 'bug', 'fixes', 'amp', 'entire', 'httpstcobv', 'stdwngj', 'westcoastbill', 'spacex', 'years', 'amp', 'billion', 'wow', 'owensparks', 'flcnhvy', 'tesla', 'safety', 'primary', 'design', 'goal', 'ppathole', 'astrojordy', 'flcnhvy', 'fully', 'astronomiaum', 'martians', 'decide', 'future', 'shifthappends', 'tesla', 'lot', 'brain', 'space', 'spent', 'dealing', 'units', 'astronomiaum', 'terraforming', 'slow', 'relevant', 'lifetime', 'establish', 'human', 'base', 'httpstcouygaae', 'ppathole', 'xdreamcoding', 'garyblack', 'intention', 'xdreamcoding', 'garyblack', 'httpstcofrezwjcwna', 'garyblack', 'publicly', 'traded', 'stock', 'tesla', 'garyblack', 'wise', 'words', 'bogle', 'point', 'companies', 'products', 'amp', 'services', 'point', 'amp', 'thems', 'httpstcoencu', 'cblpy', 'teslaownerssv', 'astrojordy', 'flcnhvy', 'mild', 'cold', 'bro', 'def', 'cov', 'pclt', 'means', 'viral', 'httpstcouysanpqtfi', 'astronomiaum', 'life', 'glass', 'domes', 'eventually', 'terraformed', 'support', 'life', 'earth', 'astrojordy', 'flcnhvy', 'yeah', 'daywalkerxd', 'astronomiaum', 'sim', 'obvious', 'haha', 'astronomiaum', 'deveras', 'flcnhvy', 'cases', 'high', 'noninfectious', 'ct', 'quarantine', 'days', 'test', 'seco', 'httpstcooalvzwcmio', 'tobyliiiiiiiiii', 'things', 'amp', 'didnt', 'wanted', 'nichegamer', 'mercy', 'httpstco', 'hoihr', 'tesla', 'holiday', 'software', 'release', 'staceyr', 'maisiewilliams', 'cobra', 'kai', 'deep', 'cut', 'archillect', 'cake', 'amp', 'bite', 'nichegamer', 'thing', 'sentience', 'deus', 'machine', 'learning', 'httpstco', 'zsyalvczx', 'peterrhague', 'designed', 'make', 'life', 'multiplanetary', 'extreme', 'overkill', 'mere', 'earth', 'sector', 'activity', 'httpstcoyjltt', 'peeu', 'kristennetten', 'royalsociety', 'gave', 'blessing', 'sort', 'groundswell', 'believed', 'httpstcofwk', 'zihfeg', 'nullius', 'verba', 'royalsociety', 'westcoastbill', 'reflexfunds', 'nickidk', 'pcgamer', 'dojodoge', 'ppathole', 'erdayastronaut', 'rweb', 'yeah', 'marginal', 'cost', 'launch', 'httpstcornsj', 'fkdxt', 'speculawyer', 'erdayastronaut', 'rweb', 'erdayastronaut', 'rweb', 'merlin', 'strong', 'local', 'maximum', 'design', 'kerosene', 'suboptimal', 'fuel', 'matter', 'httpstcojoetyskgp', 'parstalberg', 'joshbickett', 'icannotenough', 'erdayastronaut', 'rweb', 'visiting', 'american', 'ah', 'irony', 'joshbickett', 'icannotenough', 'erdayastronaut', 'rweb', 'yeah', 'pcr', 'ct', 'unequivocal', 'lt', 'doesnt', 'matter', 'httpstcoyjdogokx', 'flcnhvy', 'lugg', 'pcgamer', 'making', 'notable', 'wait', 'figurative', 'amp', 'literal', 'dust', 'settles', 'icannotenough', 'erdayastronaut', 'rweb', 'pretty', 'close', 'feel', 'dayquil', 'frankly', 'httpstcohj', 'thlr', 'lugg', 'pcgamer', 'avionics', 'cables', 'moving', 'steel', 'pipe', 'shields', 'amp', 'adding', 'watercooled', 'steel', 'pipes', 'test', 'pad', 'lugg', 'pcgamer', 'secs', 'starting', 'engines', 'martyte', 'covering', 'concrete', 'shattered', 'sending', 'blades', 'httpstcovilv', 'yo', 'erdayastronaut', 'rweb', 'amazing', 'thing', 'rocket', 'engines', 'dont', 'blow', 'httpstcoeuxoocfr', 'pcgamer', 'count', 'atoms', 'point', 'djsnm', 'erdayastronaut', 'charlesnotrumps', 'rweb', 'absolutely', 'productiontesting', 'rocket', 'engines', 'httpstcotv', 'pixzp', 'erdayastronaut', 'charlesnotrumps', 'rweb', 'merlin', 'engine', 'design', 'bad', 'tbh', 'worked', 'httpstcoy', 'njrepvtc', 'billhuang', 'johnnacrider', 'timmerenginerd', 'jack', 'love', 'irony', 'haha', 'greenisclutch', 'johnnacrider', 'timmerenginerd', 'jack', 'theyre', 'teslaquila', 'month', 'chrisgnsf', 'special', 'permission', 'received', 'stonecutters', 'guild', 'httpstcosw', 'rbm', 'srb', 'johnnacrider', 'timmerenginerd', 'jack', 'fate', 'irony', 'jack', 'trylolli', 'maisiewilliams', 'httpstcouwerahxuev', 'erdayastronaut', 'rweb', 'damn', 'easy', 'spent', 'bit', 'time', 'russianukrainian', 'engines', 'theyre', 'good', 'ppathole', 'michaelminalab', 'rt', 'spacex', 'docking', 'confirmed', '–', 'crew', 'dragon', 'arrived', 'spacestation', 'maisiewilliams', 'toss', 'bitcoin', 'ur', 'witcher', 'kristennetten', 'rt', 'nasa', 'enter', 'crew', 'dragon', 'pm', 'est', 'pm', 'utc', 'nasa', 'spacex', 'crew', 'astronauts', 'give', 'live', 'tour', 'space', 'whatsupfranks', 'michaelminalab', 'curevac', 'moderna', 'amp', 'tesla', 'makes', 'machine', 'curevac', 'kn', 'httpstcokveprq', 'rl', 'michaelminalab', 'creating', 'synthetic', 'mrna', 'curesvaccines', 'future', 'medicine', 'imo', 'turns', 'httpstcoyp', 'djawiks', 'gaertneranne', 'neuroskeptic', 'dresdentea', 'judithherbers', 'haha', 'michaelminalab', 'great', 'thread', 'samtalkstesla', 'im', 'symptoms', 'past', 'days', 'fatigue', 'chang', 'httpstcos', 'eo', 'xb', 'sf', 'launch', 'minutes', 'flcnhvy', 'yeah', 'cooling', 'channels', 'integrated', 'chamber', 'walls', 'propellant', 'abort', 'orbital', 'maneuvering', 'obviates', 'dragon', 'hover', 'amp', 'land', 'propulsively', 'parachutes', 'maximum', 'safety', 'httpstcomr', 'vfiqwwf', 'thrusters', 'integrated', 'spacecraft', 'enabling', 'abort', 'capability', 'abort', 'increased', 'safety', 'httpstcokrohkor', 'ae', 'rt', 'nasa', 'song', 'play', 'ride', 'launch', 'pad', 'launchamerica', 'httpstcovzhxun', 'yie', 'rt', 'spacex', 'dragon', 'completed', 'flights', 'spacestation', 'designed', 'beginning', 'human', 'spaceflight', 'mi', 'rt', 'spacex', 'dragon', 'spacecraft', 'flying', 'capable', 'returning', 'significant', 'amounts', 'cargo', 'earth', 'priv', 'rt', 'spacex', 'spacexs', 'customtailored', 'suits', 'route', 'communications', 'cooling', 'systems', 'protect', 'crew', 'event', 'cabin', 'depressu', 'rt', 'nasa', 'live', 'ready', 'launchamerica', 'watch', 'coverage', 'nasa', 'spacex', 'crew', 'mission', 'liftoff', 'pm', 'rt', 'spacex', 'watch', 'falcon', 'launch', 'crew', 'dragon', 'operational', 'mission', 'spacestation', 'astronauts', 'board', 'httpstc', 'tboneagnoobs', 'rt', 'spacex', 'systems', 'tonights', 'launch', 'pm', 'est', 'crew', 'dragons', 'operational', 'mission', 'astronauts', 'boa', 'klotzadam', 'ppathole', 'astrojordy', 'erujabidi', 'yeah', 'feel', 'pretty', 'normal', 'symptoms', 'week', 'sym', 'httpstcogl', 'mhrqjxy', 'ppathole', 'astrojordy', 'erujabidi', 'tests', 'labs', 'time', 'day', 'administered', 'rn', 'amp', 'httpstcohajhh', 'la', 'ppathole', 'mariolivio', 'obv', 'insanely', 'great', 'bad', 'pointless', 'argument', 'astronaut', 'launch', 'today', 'httpstco', 'fazzgss', 'rt', 'nasa', 'astrosoichi', 'message', 'boys', 'girls', 'japan', 'space', 'waiting', 'tumblr', 'spotlight', 'jaxaen', 'astronaut', 'rt', 'nasa', 'week', 'nasas', 'spacex', 'crew', 'astronauts', 'arrive', 'nasakennedy', 'ahead', 'launch', 'nasapersevere', 'rover', 'marks', 'days', 'rt', 'astrosoichi', 'spacex', 'nasa', 'crew', 'finished', 'final', 'dress', 'rehearsal', 'ready', 'saturday', 'launch', 'real', 'dragon', 'mariolivio', 'kids', 'mariolivio', 'hell', 'wig', 'collection', 'michaelminalab', 'great', 'labs', 'give', 'people', 'level', 'granular', 'feedback', 'results', 'rt', 'michaelminalab', 'elonmusk', 'great', 'question', 'complex', 'question', 'depends', 'test', 'kn', 'worth', 'reading', 'thread', 'youre', 'curious', 'rona', 'testing', 'httpstcofa', 'kd', 'eba', 'stonkmanup', 'michaelminalab', 'imo', 'blood', 'pressure', 'test', 'number', 'ju', 'httpstcotwl', 'dgurmk', 'astrojordy', 'erujabidi', 'amp', 'feels', 'regular', 'cold', 'body', 'achy', 'amp', 'cloudy', 'head', 'httpstcoihvpeox', 'michaelminalab', 'opinion', 'ct', 'number', 'cov', 'gene', 'pcr', 'test', 'regarded', 'httpstcoemuxlx', 'michaelminalab', 'stendeck', 'teslaownerssv', 'cool', 'super', 'cautious', 'expect', 'steps', 'forward', 'back', 'lot', 'code', 'merged', 'austinbarnard', 'scratch', 'buff', 'erujabidi', 'wildly', 'results', 'labs', 'moderate', 'case', 'covid', 'httpstcoxlbahahjoj', 'whatsupfranks', 'lexfridman', 'npcs', 'lexfridman', 'ahem', 'youre', 'dmt', 'laws', 'thermodynamics', 'win', 'break', 'stop', 'playing', 'shakes', 'fist', 'entropy', 'realnattastic', 'big', 'expansion', 'beta', 'program', 'weeks', 'robintoshnunez', 'ppathole', 'interesting', 'thursday', 'night', 'saliva', 'sample', 'back', 'today', 'gene', 'unique', 'cov', 'httpstcotm', 'cs', 'otdt', 'icannotenough', 'johnnacrider', 'whats', 'honey', 'slashdot', 'feels', 'whatsupfranks', 'bluemoondance', 'stephenking', 'accurate', 'bluemoondance', 'stephenking', 'cold', 'symptoms', 'stephenking', 'degrees', 'pos', 'mrsammyh', 'pelagicbird', 'maxroi', 'rossy', 'heneghan', 'makes', 'lot', 'sense', 'hilarious', 'clarify', 'httpstcomlxngcsa', 'whatsupfranks', 'number', 'pcr', 'amplification', 'cycles', 'required', 'detect', 'virus', 'rough', 'indicator', 'vir', 'httpstcomn', 'hueq', 'mrsammyh', 'maxroi', 'rossy', 'great', 'reference', 'worth', 'read', 'case', 'closed', 'httpstcopuyijcadd', 'httpstcomwopr', 'kk', 'ppathole', 'fwiw', 'lab', 'spoke', 'thinks', 'accurate', 'dicey', 'amp', 'bs', 'talk', 'httpstcok', 'wxq', 'yt', 'lab', 'spoke', 'cov', 'pcr', 'detection', 'amp', 'genes', 'cycles', 'reliable', 'amp', 'cycles', 'rationaletienne', 'ryaneshea', 'note', 'spike', 'protein', 'dont', 'reliable', 'rationaletienne', 'ryaneshea', 'spoke', 'directly', 'testing', 'lab', 'main', 'pcr', 'search', 'gene', 'unique', 'httpstcox', 'odvdauo', 'ppathole', 'strange', 'ryaneshea', 'explanation', 'dramatic', 'decline', 'cold', 'amp', 'flu', 'prevalence', 'prior', 'years', 'httpstcogmlvewwxdp', 'ryaneshea', 'lower', 'true', 'prevalence', 'higher', 'false', 'positive', 'number', 'sounds', 'obvious', 'httpstcoxvabeklh', 'ryaneshea', 'httpstco', 'vrpb', 'httpstcoxtsukcc', 'tl', 'danaemorgan', 'great', 'hear', 'people', 'lot', 'pcr', 'testing', 'industry', 'whats', 'approximate', 'false', 'posi', 'httpstcolvc', 'nikql', 'clarecraigpath', 'interesting', 'johnbeans', 'dirtytesla', 'interesting', 'general', 'population', 'knowledge', 'symptoms', 'accuracy', 'sarscov', 'pcr', 'test', 'amp', 'gene', 'httpstcovbiu', 'ds', 'uq', 'ppathole', 'cleantechnica', 'good', 'pcr', 'test', 'identify', 'cov', 'spike', 'proteins', 'heard', 'httpstcom', 'vj', 'gaofs', 'justpaulinelol', 'cleantechnica', 'mild', 'sniffles', 'amp', 'cough', 'amp', 'slight', 'fever', 'past', 'days', 'symptoms', 'nyquil', 'cleantechnica', 'technically', 'tested', 'positive', 'negative', 'positive', 'elon', 'musk', 'tests', 'negati', 'httpstco', 'ohta', 'carousel', 'turns', 'faster', 'joeingeneral', 'andrewbogut', 'yup', 'ajtourville', 'janeidyeve', 'symptoms', 'typical', 'cold', 'unusual', 'blkmdl', 'happening', 'happening', 'im', 'pcr', 'tests', 'separate', 'labs', 'results', 'hours', 'extremely', 'bogus', 'tested', 'covid', 'times', 'today', 'tests', 'back', 'negative', 'cam', 'httpstcoz', 'zcf', 'austinbarnard', 'burst', 'disk', 'worked', 'vehicle', 'appears', 'swap', 'engines', 'tobyliiiiiiiiii', 'spacepadreisle', 'austinbarnard', 'melted', 'engine', 'preburner', 'fuel', 'hot', 'gas', 'manifold', 'whatev', 'httpstco', 'elyx', 'pjlg', 'austinbarnard', 'lost', 'vehicle', 'pneumatics', 'reason', 'unknown', 'present', 'liquid', 'oxygen', 'header', 'tank', 'pressure', 'risin', 'httpstcoszc', 'hnti', 'drphiltill', 'rt', 'teslarati', 'tesla', 'tops', 'list', 'attractive', 'employers', 'engineering', 'studentshttpstcokknyqlet', 'astronauts', 'fly', 'spacestation', 'sat', 'night', 'cape', 'operational', 'flight', 'crew', 'dragon', 'httpstcouzcgikcikb', 'cardoso', 'luck', 'superpower', 'rt', 'spacex', 'served', 'sacrificed', 'veteransday', 'httpstcou', 'kn', 'fzpj', 'rt', 'spacex', 'crew', 'access', 'arm', 'swings', 'place', 'httpstcoxaimd', 'nljv', 'hiromichimizuno', 'kristennetten', 'honor', 'choose', 'work', 'strive', 'ensure', 'companies', 'enable', 'httpstcootdwcsk', 'ck', 'privilege', 'work', 'people', 'amp', 'respect', 'feel', 'blessed', 'rt', 'commercialcrew', 'flight', 'readiness', 'review', 'crew', 'mission', 'spacestation', 'concluded', 'nasa', 'spacex', 'rt', 'spacex', 'falcon', 'crew', 'dragon', 'vertical', 'launch', 'complex', 'httpstcohbvuhwv', 'ab', 'djsnm', 'davidhuber', 'nickhenning', 'spacex', 'ercxspace', 'neopork', 'cbass', 'casparstanley', 'spacexvision', 'felixschlang', 'teslany', 'tesla', 'happy', 'samtalkstesla', 'tesla', 'expect', 'important', 'product', 'world', 'financially', 'material', 'tesla', 'nickhenning', 'spacex', 'ercxspace', 'neopork', 'cbass', 'casparstanley', 'spacexvision', 'felixschlang', 'entry', 'httpstconcafknfzlc', 'samtalkstesla', 'tesla', 'tesla', 'makes', 'rna', 'bioreactor', 'make', 'vaccines', 'cures', 'curevac', 'version', 'httpstcoopouohyamu', 'rt', 'spacex', 'crew', 'dragon', 'falcon', 'hangar', 'launch', 'complex', 'ahead', 'launching', 'astronauts', 'spacestation', 'liftoff', 'teslatino', 'checking', 'pcgamer', 'hope', 'game', 'doesnt', 'twist', 'tedium', 'fear', 'canceled', 'rt', 'boringcompany', 'rumor', 'austin', 'chalk', 'geologically', 'soils', 'tunneling', 'find', 'austin', 'jobs', 'avai', 'httpstcod', 'wnkg', 'damn', 'cookie', 'browser', 'setting', 'teslaownerssv', 'tesla', 'lot', 'great', 'autopilotai', 'hardware', 'amp', 'software', 'engineers', 'tesla', 'bbctech', 'mkbhd', 'vyyyper', 'worth', 'mkbhd', 'model', 'owners', 'mkbhd', 'mkbhd', 'httpstco', 'zlkc', 'fc', 'edspartan', 'tesla', 'nykchannel', 'wait', 'cybertruck', 'mkbhd', 'accidental', 'back', 'shortly', 'rt', 'tesla', 'superchargers', 'counting', 'httpstcourudyt', 'eui', 'erdayastronaut', 'renatakonkoly', 'spacenewsinc', 'hoping', 'change', 'booster', 'design', 'land', 'back', 'launch', 'mount', 'httpstcohprgptt', 'ru', 'vasu', 'amyceskridge', 'chip', 'temp', 'sensor', 'amp', 'automatically', 'maintains', 'safe', 'temp', 'reganlovetesla', 'renatakonkoly', 'spacenewsinc', 'plate', 'amp', 'teslas', 'day', 'prototy', 'httpstcotgpwej', 'wqa', 'amyceskridge', 'neuralink', 'wont', 'overclock', 'brain', 'transfer', 'processing', 'supercomputer', 'extension', 'yo', 'httpstconbybbfx', 'flcnhvy', 'ppathole', 'cleantechnica', 'rewrote', 'labeling', 'software', 'labeling', 'single', 'phot', 'httpstcomltbdsquty', 'ppathole', 'cleantechnica', 'version', 'year', 'renatakonkoly', 'spacenewsinc', 'calculations', 'incorrect', 'spacenewsinc', 'china', 'understands', 'profound', 'importance', 'reusability', 'era', 'expendable', 'rockets', 'cleantechnica', 'tesla', 'autopilotai', 'team', 'cleantechnica', 'good', 'explanation', 'essential', 'dynamically', 'occluded', 'objects', 'large', 'intersection', 'httpstcoooj', 'pqayhj', 'rt', 'archillect', 'httpstco', 'fnqfhr', 'phantom', 'opera', 'inside', 'mind', 'linustech', 'spacexstarlink', 'spacex', 'ppathole', 'problemsolvers', 'things', 'high', 'sense', 'urgency', 'dont', 'care', 'school', 'sending', 'resume', 'describe', 'hardest', 'problems', 'solved', 'amp', 'solved', 'banner', 'neededneither', 'hard', 'left', 'ppathole', 'fine', 'day', 'simulation', 'nereide', 'faraday', 'invented', 'electric', 'motor', 'tesla', 'commutatorfree', 'threephase', 'ac', 'induction', 'motor', 'httpstcocqo', 'rjlrbv', 'nereide', 'maxwell', 'amazing', 'recognition', 'tesla', 'motors', 'called', 'faraday', 'httpstco', 'kmcpgk', 'ten', 'times', 'rt', 'spacex', 'deployment', 'gps', 'iii', 'confirmed', 'httpstcofcfjrcwmti', 'rt', 'spacex', 'falcon', 'stage', 'lands', 'love', 'droneship', 'httpstcohd', 'ibpx', 'rt', 'spacex', 'liftoff', 'httpstcoli', 'tnml', 'linustech', 'spacexstarlink', 'spacex', 'awaiting', 'approval', 'canadian', 'authorities', 'recruiting', 'ace', 'engineers', 'giga', 'berlin', 'interview', 'person', 'tomorrow', 'site', 'send', 'resume', 'gunsteslacom', 'chadhurley', 'realdonaldtrump', 'kanyewest', 'stop', 'chad', 'chadhurley', 'realdonaldtrump', 'kanyewest', 'uh', 'chad', 'wtf', 'techamazing', 'einstein', 'great', 'succeed', 'engineering', 'jtrevorchapman', 'yeah', 'easy', 'users', 'ocean', 'icannotenough', 'zainraz', 'vincent', 'jonerlichman', 'didnt', 'expect', 'stock', 'rise', 'httpstcotmw', 'phbef', 'futurejurvetson', 'ppathole', 'super', 'support', 'steve', 'convertible', 'loan', 'gave', 'months', 'runway', 'httpstcoej', 'iovx', 'zainraz', 'vincent', 'jonerlichman', 'closest', 'month', 'model', 'ramp', 'extreme', 'stress', 'amp', 'pa', 'httpstcowuhekj', 'hio', 'vincent', 'jonerlichman', 'put', 'money', 'thought', 'fail', 'eithe', 'httpstco', 'bgkez', 'jonerlichman', 'funding', 'round', 'completed', 'pm', 'christmas', 'eve', 'hour', 'day', 'investo', 'httpstcoumfgjnkoxm', 'joshbickett', 'ppathole', 'ppathole', 'lowering', 'starlink', 'terminal', 'cost', 'sound', 'pedestrian', 'difficult', 'technical', 'challenge', 'itshamzahkhan', 'regulatory', 'approval', 'middle', 'year', 'thesheetztweetz', 'takes', 'mins', 'set', 'future', 'improvements', 'mi', 'httpstco', 'ehbqc', 'fa', 'kjellarne', 'flcnhvy', 'canada', 'norway', 'early', 'beta', 'ennnafnlaus', 'flcnhvy', 'didnt', 'realize', 'problem', 'current', 'design', 'cybertruck', 'approved', 'europe', 'flcnhvy', 'country', 'approval', 'required', 'country', 'individually', 'euwide', 'approval', 'httpstco', 'zbt', 'qjd', 'jasonrassett', 'lower', 'latitude', 'states', 'satellites', 'position', 'january', 'thousand', 'starlink', 'beta', 'participation', 'invitations', 'week', 'louiswferreira', 'design', 'minor', 'tweaks', 'small', 'details', 'matter', 'engineersfeed', 'haha', 'close', 'actual', 'expected', 'flight', 'httpstcoruediphtil', 'nigellockyer', 'excited', 'supercollider', 'considerably', 'larger', 'httpstcos', 'typirk', 'wholemarsblog', 'steezyysosa', 'austinteslaclub', 'joetegtmeyer', 'peterdog', 'txterafactory', 'terafactorytx', 'lqdchkn', 'httpstcopqsjzopaj', 'steezyysosa', 'austinteslaclub', 'joetegtmeyer', 'peterdog', 'txterafactory', 'terafactorytx', 'lqdchkn', 'jdaverage', 'httpstcoozazv', 'igxa', 'austinteslaclub', 'joetegtmeyer', 'peterdog', 'txterafactory', 'terafactorytx', 'lqdchkn', 'jdaverage', 'eliburton', 'tesla', 'tex', 'httpstcog', 'iniry', 'es', 'kyzcralotsxam', 'penguin', 'random', 'house', 'change', 'random', 'penguin', 'austinbarnard', 'short', 'livestream', 'lot', 'wrong', 'provide', 'video', 'wa', 'httpstcojmojn', 'hhxs', 'fnarolles', 'tgmetsfan', 'matters', 'erdayastronaut', 'klotzadam', 'nasaspaceflight', 'weve', 'tested', 'subscale', 'version', 'wind', 'tunnel', 'active', 'aero', 'clos', 'httpstcom', 'xzlzvsaq', 'flcnhvy', 'rgvaerialphotos', 'httpstcohez', 'otgjjh', 'rgvaerialphotos', 'lord', 'tgmetsfan', 'klotzadam', 'nasaspaceflight', 'erdayastronaut', 'yeah', 'fails', 'end', 'landing', 'httpstcodaqdiiwb', 'flcnhvy', 'nasaspaceflight', 'erdayastronaut', 'minor', 'klotzadam', 'nasaspaceflight', 'erdayastronaut', 'understanding', 'body', 'flaps', 'control', 'pitch', 'yaw', 'amp', 'roll', 'duri', 'httpstco', 'jvi', 'nasaspaceflight', 'erdayastronaut', 'rud', 'launch', 'pad', 'fortunately', 'sn', 'ready', 'nasaspaceflight', 'erdayastronaut', 'stable', 'controlled', 'descent', 'body', 'flaps', 'great', 'transferring', 'propellant', 'httpstcovpiippdv', 'teslaownerssv', 'kristennetten', 'teslatino', 'days', 'kristennetten', 'teslaownerssv', 'teslatino', 'faults', 'point', 'probability', 'fault', 'wi', 'httpstcoinu', 'xajd', 'teslaownerssv', 'teslatino', 'measure', 'primarily', 'intervention', 'probability', 'update', 'addressed', 'issu', 'httpstcozyf', 'efd', 'ih', 'teslatino', 'great', 'autopilotai', 'team', 'working', 'super', 'hard', 'neural', 'nets', 'testing', 'httpstcomnn', 'srre', 'auchenberg', 'latency', 'improve', 'significantly', 'bandwidth', 'teslaownerssv', 'build', 'noticeably', 'interventions', 'rationaletienne', 'teslaownerssv', 'toadmeister', 'teslaownerssv', 'toadmeister', 'ive', 'spent', 'half', 'life', 'california', 'amp', 'love', 'state', 'frankly', 'httpstcos', 'xouoedjt', 'toadmeister', 'sweden', 'deaths', 'oct', 'httpstcob', 'lygotobi', 'tocnewyorkstate', 'true', 'fewer', 'heart', 'attacks', 'easier', 'pump', 'blood', 'gravity', 'malekkhelifi', 'inety', 'prince', 'engineersfeed', 'talking', 'stephenson', 'constellation', 'scrotum', 'haha', 'engineersfeed', 'small', 'fry', 'sun', 'converts', 'million', 'tons', 'mass', 'energy', 'wholemarsblog', 'accurate', 'ajtourville', 'endelsound', 'grimezsz', 'httpstco', 'hx', 'tla', 'bluemoondance', 'spacepadreisle', 'challenges', 'high', 'winds', 'sunday', 'static', 'fire', 'spacepadreisle', 'great', 'shot', 'endelsound', 'grimezsz', 'future', 'ai', 'teslarati', 'truth', 'stranger', 'fiction', 'waitbutwhy', 'universalsci', 'urf', 'smol', 'homantse', 'long', 'time', 'truth', 'told', 'ive', 'eaten', 'jitb', 'times', 'years', 'teriyaki', 'bowl', 'buy', 'jack', 'box', 'footstool', 'skorusark', 'approximately', 'lograte', 'challengerst', 'bot', 'change', 'setting', 'combat', 'samtalkstesla', 'phased', 'array', 'antenna', 'flat', 'tesla', 'make', 'catgirl', 'robots', 'machinepix', 'crane', 'toy', 'coffeemaestro', 'wow', 'mayo', 'salty', 'ppathole', 'pcgamer', 'max', 'payne', 'great', 'levels', 'silent', 'hill', 'good', 'jack', 'box', 'double', 'duty', 'sperm', 'donor', 'clinic', '—', 'thewpmontgomery', 'pcgamer', 'games', 'thatdudeshannon', 'pcgamer', 'fear', 'modern', 'graphics', 'amp', 'sound', 'rock', 'matthewgarcia', 'pcgamer', 'zzcool', 'pcgamer', 'games', 'thread', 'scarier', 'amp', 'creatively', 'horror', 'movie', 'pcgamer', 'fear', 'imo', 'dead', 'space', 'haunt', 'dreams', 'rakyll', 'httpstcop', 'agokwqpv', 'jgrano', 'flcnhvy', 'knowledge', 'literally', 'equipment', 'usable', 'major', 'repairs', 'upgra', 'httpstcovrwvop', 'qd', 'flcnhvy', 'left', 'broken', 'bots', 'amp', 'equipment', 'worth', 'scrap', 'metal', 'scrounged', 'spa', 'httpstcoywqqasrbt', 'flcnhvy', 'employees', 'factory', 'gmtoyota', 'left', 'good', 'equipment', 'amp', 'httpstcoc', 'dfuastpm', 'ajtourville', 'bettern', 'nothin', 'ur', 'back', 'wholemarsblog', 'hyperchangetv', 'tesla', 'team', 'great', 'work', 'hyperchangetv', 'tbh', 'capex', 'efficiency', 'trash', 'westcoastbill', 'testing', 'covid', 'license', 'print', 'money', 'arctechinc', 'tesla', 'helpful', 'beta', 'testers', 'erdayastronaut', 'video', 'training', 'amp', 'inference', 'essential', 'excellent', 'autonomy', 'engineersfeed', 'sigh', 'supersonic', 'jet', 'time', 'electric', 'worldandscience', 'critical', 'humanitys', 'future', 'congratulations', 'spacex', 'team', 'httpstcono', 'teslatino', 'mine', 'days', 'ahead', 'eliburton', 'teslaownerssv', 'option', 'settings', 'teslaownerssv', 'visualization', 'tone', 'significantly', 'production', 'intentionally', 'strident', 'colors', 'erdayastronaut', 'tobyliiiiiiiiii', 'austinbarnard', 'superclusterhq', 'erdayastronaut', 'tobyliiiiiiiiii', 'austinbarnard', 'superclusterhq', 'im', 'boca', 'week', 'talk', 'httpstcovb', 'wd', 'bsc', 'tobyliiiiiiiiii', 'austinbarnard', 'superclusterhq', 'good', 'point', 'week', 'form', 'written', 'piece', 'spacex', 'website', 'austinbarnard', 'superclusterhq', 'great', 'pics', 'beginnings', 'starship', 'production', 'system', 'meaningful', 'wholemarsblog', 'yup', 'beta', 'updates', 'therell', 'lot', 'steps', 'fwd', 'step', 'back', 'situations', 'pace', 'improv', 'httpstcoh', 'xcsvngdo', 'bartsanders', 'working', 'fart', 'cars', 'command', 'spacepadreisle', 'starship', 'coming', 'price', 'change', 'pushed', 'thursday', 'week', 'applies', 'week', 'clock', 'start', 'countr', 'httpstcocjhtxcselt', 'austinbarnard', 'deg', 'glass', 'star', 'bar', 'tbd', 'top', 'high', 'bay', 'dmcryan', 'times', 'price', 'rise', 'product', 'functionality', 'improves', 'ti', 'httpstcoxmemo', 'nu', 'stephenking', 'agreed', 'performance', 'tires', 'spacex', 'smallseeming', 'issue', 'loss', 'upper', 'stage', 'camera', 'standing', 'httpstcozk', 'vr', 'xwzl', 'flcnhvy', 'tesla', 'fsd', 'beta', 'limited', 'release', 'fsd', 'price', 'upgrade', 'monday', 'teslagong', 'ppathole', 'teslaownerssv', 'teslaraj', 'complete', 'testing', 'amp', 'regulators', 'approve', 'differe', 'httpstcod', 'uoa', 'jncx', 'ppathole', 'teslaownerssv', 'teslaraj', 'teslaownerssv', 'teslaraj', 'haha', 'teslarati', 'dependent', 'proving', 'high', 'safety', 'wholemarsblog', 'intentional', 'wanted', 'show', 'theoretically', 'convert', 'entire', 'vehicle', 'httpstcopczpbd', 'jj', 'erdayastronaut', 'cold', 'gas', 'hot', 'rubix', 'ya', 'got', 'ta', 'tiki', 'bar', 'starship', 'nosecone', 'high', 'bay', 'amp', 'tiki', 'bar', 'httpstco', 'qxyxmmiuj', 'ieeeorg', 'erdayastronaut', 'orbit', 'times', 'erdayastronaut', 'melty', 'tbh', 'erdayastronaut', 'engines', 'bar', 'dicey', 'pushing', 'nearterm', 'tests', 'doesnt', 'achieve', 'httpstcopulpf', 'erdayastronaut', 'raptor', 'run', 'secs', 'bar', 'chamber', 'pressure', 'encountering', 'issues', 'mtf', 'sea', 'httpstcorg', 'erwhznt', 'fsd', 'beta', 'rollout', 'happening', 'tonight', 'extremely', 'slow', 'amp', 'cautious', 'data', 'engine', 'starship', 'static', 'fire', 'morning', 'good', 'proceeding', 'nosecone', 'mate', 'ppathole', 'toadmeister', 'population', 'lifemonths', 'lost', 'lockdowns', 'amp', 'restriction', 'httpstco', 'ct', 'svangy', 'toadmeister', 'sweden', 'deaths', 'oct', 'httpstcogy', 'ummx', 'joshtownsend', 'juanjacobs', 'jwangark', 'firmware', 'slightly', 'accurate', 'description', 'rt', 'tesla', 'place', 'homeespecially', 'solar', 'roofthis', 'kansas', 'ranch', 'installed', 'days', 'ppathole', 'flyerandyp', 'mojosusan', 'mobic', 'mobility', 'fusion', 'mobid', 'haha', 'flyerandyp', 'mojosusan', 'neck', 'httpstco', 'vcoaxsrv', 'flyerandyp', 'mojosusan', 'helpful', 'mobic', 'disc', 'put', 'st', 'surgery', 'failed', 'remov', 'httpstcoczykfyo', 'ix', 'jwangark', 'pretty', 'accurate', 'dna', 'sequencing', 'synthetic', 'dnarna', 'fix', 'bugs', 'code', 'httpstcoy', 'gcysvghm', 'samtalkstesla', 'london', 'beijing', 'cool', 'samtalkstesla', 'wow', 'trip', 'cinotpyrc', 'kid', 'haha', 'møtør', 'trèndé', 'httpstcov', 'yo', 'jkbs', 'techamazing', 'snoopy', 'tesmaniancom', 'current', 'production', 'slightly', 'bamtheteslaman', 'cleantechnica', 'doesnt', 'life', 'solar', 'system', 'ice', 'europa', 'httpstcoizk', 'gi', 'rt', 'tesmaniancom', 'tesla', 'model', 'sr', 'lowest', 'energy', 'consumption', 'bevs', 'reporthttpstco', 'wt', 'cleantechnica', 'creative', 'flcnhvy', 'free', 'fusion', 'reactor', 'sky', 'conveniently', 'converts', 'million', 'tons', 'mass', 'energy', 'httpstco', 'owmreup', 'kristennetten', 'teslaownerssv', 'ppathole', 'xbox', 'whatsupfranks', 'kimpaquette', 'system', 'autodelete', 'data', 'automatically', 'default', 'univercurious', 'table', 'tension', 'kimpaquette', 'teslaownerssv', 'starting', 'production', 'seater', 'month', 'initial', 'deliveries', 'early', 'december', 'gauntlet', 'thrown', 'prophecy', 'fulfilled', 'model', 'price', 'tonight', 'neopork', 'spacex', 'nasaspaceflight', 'austinbarnard', 'whoisheartbreak', 'erdayastronaut', 'felixschlang', 'httpstco', 'mrscc', 'gem', 'mingen', 'tesla', 'congratulations', 'teslarati', 'making', 'progress', 'meter', 'roughly', 'ft', 'diameter', 'roomy', 'vacuum', 'rocket', 'engines', 'added', 'httpstcopktdfdizyc', 'flcnhvy', 'wholemarsblog', 'kristennetten', 'boringcompany', 'tesla', 'focus', 'vegas', 'amp', 'prufrock', 'tunneling', 'machine', 'astrojordy', 'kristennetten', 'boringcompany', 'tesla', 'wholemarsblog', 'kristennetten', 'boringcompany', 'tesla', 'month', 'finishing', 'touches', 'stations', 'kristennetten', 'boringcompany', 'tesla', 'simplified', 'lot', 'basically', 'teslas', 'tunnels', 'point', 'httpstco', 'xhs', 'awxb', 'playoverwatch', 'sweet', 'antonkanerva', 'slow', 'phased', 'array', 'antenna', 'lexfridman', 'nice', 'love', 'baby', 'dont', 'hurt', 'me—', 'winston', 'churchill', 'playoverwatch', 'twomad', 'weak', 'turrets', 'strategic', 'degrees', 'freedom', 'playoverwatch', 'twomad', 'buff', 'torbs', 'turret', 'twomad', 'um', 'teslaownerssv', 'goosebumps', 'merch', 'tbh', 'teslaownerssv', 'hg', 'teslaownerssv', 'lotr', 'illuminaughty', 'chotihaque', 'billgates', 'dougstanhope', 'bobdylan', 'charltonbrooker', 'ericidle', 'jimcarrey', 'johncleese', 'sapinker', 'knee', 'deep', 'rt', 'spacex', 'flight', 'upgraded', 'cargo', 'version', 'dragon', 'carry', 'science', 'payloads', 'rt', 'spacex', 'dragon', 'spacecraft', 'supporting', 'spacexs', 'st', 'cargo', 'resupply', 'mission', 'spacestation', 'departed', 'hawthorne', 'factory', 'chipro', 'yeah', 'wr', 'nygov', 'success', 'set', 'outcomes', 'time', 'badatlife', 'wholemarsblog', 'diess', 'move', 'direction', 'hes', 'tough', 'position', 'wi', 'httpstcotdf', 'flcnhvy', 'good', 'grief', 'spacex', 'money', 'starship', 'designed', 'carry', 'people', 'amp', 'cargo', 'ear', 'httpstcov', 'qm', 'kycr', 'teslarati', 'fsd', 'stuck', 'lot', 'local', 'maximums', 'wasnt', 'clear', 'hit', 'ceiling', 'time', 'rationaletienne', 'delayslater', 'accurate', 'haha', 'delayslater', 'graph', 'appears', 'upside', 'teslarati', 'sheer', 'magnitude', 'entire', 'production', 'system', 'hard', 'element', 'productio', 'httpstcoh', 'ps', 'oelk', 'teslaclubin', 'cleantechnica', 'release', 'order', 'configurator', 'jan', 'cleantechnica', 'limited', 'fsd', 'beta', 'releasing', 'tuesday', 'week', 'promised', 'limited', 'httpstco', 'qrymb', 'ii', 'shortword', 'jwangark', 'socs', 'sync', 'timessec', 'exchanging', 'output', 'nns', 'httpstco', 'cbjmeaavw', 'jwangark', 'tesla', 'fsd', 'computers', 'dual', 'socs', 'function', 'twin', 'engines', 'planes', '—', 'run', 'neural', 'nets', 'httpstcodfwlhxu', 'ce', 'jwangark', 'accurate', 'analysis', 'egointelligencegtgt', 'people', 'comment', 'thread', 'haha', 'mobileye', 'httpstcofdligohk', 'ppathole', 'slashdot', 'ohiotesla', 'jendunlap', 'tesla', 'caranddriver', 'teslaownerssv', 'teslarati', 'electrekco', 'glad', 'jen', 'safe', 'ppathole', 'slashdot', 'wow', 'slashdot', 'uh', 'teslarati', 'dont', 'accurate', 'erdayastronaut', 'mariabartiromo', 'potus', 'realdonaldtrump', 'jeffbezos', 'morningsmaria', 'foxbusiness', 'yeah', 'lite', 'httpstcoghoisz', 'tesmaniancom', 'half', 'amount', 'big', 'deal', 'ennnafnlaus', 'electricfuture', 'mariabartiromo', 'potus', 'realdonaldtrump', 'jeffbezos', 'morningsmaria', 'foxbusiness', 'evidence', 'advanc', 'httpstcohbtdtjyttc', 'electricfuture', 'face', 'tough', 'dichotomy', 'applying', 'resources', 'architecture', 'applying', 'ne', 'httpstco', 'qghblfrk', 'flcnhvy', 'ennnafnlaus', 'plays', 'poor', 'inventor', 'card', 'rich', 'amp', 'invented', 'kn', 'httpstco', 'zz', 'al', 'ennnafnlaus', 'sketchy', 'edits', 'tesla', 'wiki', 'whitewash', 'eberhards', 'problemsglorify', 'role', 'pretty', 'odd', 'httpstcoppsorkwdi', 'ennnafnlaus', 'eberhard', 'fired', 'tesla', 'ceo', 'role', 'mid', 'providing', 'false', 'information', 'amp', 'httpstco', 'hj', 'vlxzfp', 'carrenimfa', 'interesting', 'rt', 'cradvocacy', 'future', 'cars', 'electric', 'entire', 'industry', 'starts', 'making', 'marketing', 'compelling', 'evs', 'erdayastronaut', 'flcnhvy', 'pellebrannvall', 'neopork', 'casparstanley', 'ercxspace', 'marcushousegame', 'felixschlang', 'httpstcoxlbidpmuuq', 'teslaownerssv', 'erdayastronaut', 'erdayastronaut', 'exact', 'art', 'wall', 'place', 'stay', 'boca', 'chica', 'rationaletienne', 'toadmeister', 'failure', 'protect', 'nursing', 'homes', 'major', 'mistake', 'happened', 'countries', 'httpstcocmvdkmrish', 'toadmeister', 'sweden', 'httpstcobzc', 'lfdjzq', 'erdayastronaut', 'pellebrannvall', 'flcnhvy', 'neopork', 'casparstanley', 'ercxspace', 'marcushousegame', 'felixschlang', 'httpstcolgpvl', 'mi', 'teslarati', 'great', 'work', 'spacex', 'valve', 'engineering', 'amp', 'production', 'neopork', 'casparstanley', 'ercxspace', 'marcushousegame', 'felixschlang', 'cbass', 'nickhenning', 'spacex', 'tiles', 'mechanically', 'attached', 'flcnhvy', 'neopork', 'casparstanley', 'ercxspace', 'marcushousegame', 'felixschlang', 'cbass', 'nickhenning', 'spacex', 'httpstcowhxamj', 'iq', 'neopork', 'casparstanley', 'ercxspace', 'marcushousegame', 'felixschlang', 'cbass', 'nickhenning', 'spacex', 'tiles', 'httpstcoxpnqrcxqnc', 'idaacarmack', 'compilers', 'improve', 'imo', 'type', 'pointer', 'memory', 'problems', 'detected', 'comp', 'httpstcon', 'rzp', 'udi', 'rgvaerialphotos', 'spacex', 'im', 'proud', 'nose', 'pointier', 'haha', 'rt', 'motortrend', 'put', 'tesla', 'model', 'long', 'range', 'electric', 'suv', 'test', 'track', 'find', 'do—and', 'turns', 'sdg', 'anandmahindra', 'metnigeorges', 'eriksolheim', 'berniehollywood', 'norway', 'leads', 'world', 'nasaspaceflight', 'passed', 'cryo', 'proof', 'johnkrausphotos', 'superclusterhq', 'spacex', 'ajtourville', 'yeah', 'contest', 'advanced', 'casting', 'crushes', 'bestcase', 'printing', 'casting', 'doesnt', 'work', 'wel', 'httpstcouscsep', 'aq', 'astrofarmerbob', 'astropettit', 'astrokomrade', 'astroannimal', 'great', 'pics', 'johnkrausphotos', 'patreon', 'superclusterhq', 'spacex', 'flag', 'mars', 'tashaark', 'additive', 'manufacturing', 'parts', 'costly', 'cars', 'rapidly', 'create', 'tooling', 'accel', 'httpstcoz', 'kxjt', 'umj', 'renatakonkoly', 'franktinsley', 'ankitxupta', 'tashaark', 'pretty', 'end', 'high', 'note', 'rt', 'spacex', 'starman', 'leaving', 'earth', 'made', 'close', 'approach', 'mars', 'today—within', 'astronomical', 'units', 'mill', 'evhq', 'tashaark', 'meant', 'fixed', 'latest', 'wide', 'release', 'wont', 'wait', 'fsd', 'evhq', 'tashaark', 'franktinsley', 'ankitxupta', 'tashaark', 'barked', 'tree', 'long', 'sigh', 'false', 'sense', 'httpstcoaigaenc', 'picklepunchd', 'ppathole', 'tashaark', 'play', 'sexy', 'snake', 'jazz', 'zainraz', 'ppathole', 'tashaark', 'ppathole', 'tashaark', 'yeah', 'provided', 'metal', 'gear', 'snake', 'autocoupler', 'tashaark', 'waymo', 'impressive', 'highly', 'specialized', 'solution', 'tesla', 'approach', 'general', 'solution', 'lat', 'httpstcobbchdqhjja', 'akidesir', 'kristennetten', 'yeah', 'put', 'setting', 'allowing', 'drop', 'low', 'ercxspace', 'spacex', 'erdayastronaut', 'marcushousegame', 'felixschlang', 'great', 'render', 'note', 'arm', 'httpstco', 'fvscz', 'kristennetten', 'mimecraft', 'teslagong', 'teslatested', 'icannotenough', 'teslatested', 'autopilot', 'team', 'making', 'great', 'progress', 'reality', 'complicated', 'ercxspace', 'marcushousegame', 'brendan', 'bocachicagal', 'nasaspaceflight', 'aspiring', 'flame', 'diverter', 'boca', 'httpstcokyenxz', 'oy', 'eugenelee', 'marcushousegame', 'brendan', 'bocachicagal', 'nasaspaceflight', 'giant', 'steel', 'balls', 'haha', 'teslatested', 'completed', 'financing', 'round', 'ihearttesla', 'alexavoigt', 'mikezimon', 'wholemarsblog', 'tasty', 'cakes', 'amp', 'pastries', 'visit', 'marcushousegame', 'brendan', 'bocachicagal', 'nasaspaceflight', 'mass', 'ratio', 'liquid', 'oxygen', 'denser', 'liquid', 'httpstcognhci', 'reh', 'ihearttesla', 'alexavoigt', 'mikezimon', 'wholemarsblog', 'amazing', 'kebab', 'tacheles', 'httpstcodsgvwdhgnv', 'ihearttesla', 'alexavoigt', 'mikezimon', 'wholemarsblog', 'döner', 'kebab', 'tribehoh', 'spacex', 'wastatecommerce', 'youre', 'brendan', 'bocachicagal', 'nasaspaceflight', 'high', 'bay', 'finished', 'giant', 'gantry', 'crane', 'httpstcomieahkgnfo', 'alexavoigt', 'mikezimon', 'wholemarsblog', 'tasty', 'tesladri', 'chananbos', 'raytech', 'wholemarsblog', 'crash', 'absorption', 'rails', 'cut', 'amp', 'replaced', 'bolted', 'part', 'collision', 'repair', 'icannotenough', 'wholemarsblog', 'sandy', 'munro', 'understands', 'engineering', 'flcnhvy', 'teslaownerssv', 'raytech', 'wholemarsblog', 'licensing', 'battlestar', 'galactica', 'buil', 'httpstcohi', 'od', 'ye', 'teslaownerssv', 'raytech', 'wholemarsblog', 'gigafactory', 'hardest', 'amp', 'critical', 'product', 'chananbos', 'raytech', 'wholemarsblog', 'battery', 'pack', 'bonded', 'structure', 'cells', 'providing', 'shear', 'transfer', 'httpstconbzqekw', 'qx', 'raytech', 'wholemarsblog', 'understand', 'production', 'primary', 'competitive', 'advantage', 'longterm', 'raytech', 'wholemarsblog', 'gm', 'amp', 'chrysler', 'bankrupt', 'ford', 'tesla', 'car', 'companies', 'httpstcoieaouisjri', 'raytech', 'wholemarsblog', 'model', 'production', 'ramp', 'sheer', 'agony', 'years', 'die', 'te', 'httpstcozhqxmco', 'gy', 'evafoxu', 'wholemarsblog', 'bringing', 'product', 'volume', 'production', 'inspiration', 'amp', 'perspiration', 'st', 'httpstcog', 'dlcmg', 'wc', 'skorusark', 'marginal', 'cost', 'starship', 'mass', 'orbit', 'kg', 'fully', 'burdened', 'cost', 'depends', 'flight', 'rate', 'wholemarsblog', 'prototypes', 'piece', 'cake', 'high', 'volume', 'production', 'technology', 'extremely', 'hard', 'ta', 'httpstcoo', 'ojwfj', 'zg', 'wholemarsblog', 'expect', 'make', 'heavy', 'lfp', 'medium', 'range', 'cars', 'amp', 'stationary', 'storage', 'wholemarsblog', 'berlin', 'cell', 'structural', 'battery', 'pack', 'amp', 'front', 'amp', 'rear', 'single', 'piece', 'castings', 'httpstcopteaj', 'astrojordy', 'wholemarsblog', 'wholemarsblog', 'companies', 'put', 'spreadsheets', 'moment', 'focus', 'making', 'httpstcolckxzfpozx', 'ppathole', 'klodua', 'erdayastronaut', 'trevormahlmann', 'johnkrausphotos', 'mikeseeley', 'bar', 'absolute', 'fine', 'httpstcoafru', 'adajy', 'klodua', 'erdayastronaut', 'trevormahlmann', 'johnkrausphotos', 'mikeseeley', 'cryo', 'pressure', 'test', 'succeeded', 'small', 'le', 'httpstco', 'wyticewfr', 'erdayastronaut', 'trevormahlmann', 'johnkrausphotos', 'mikeseeley', 'shots', 'samtalkstesla', 'spacex', 'sooner', 'mdcainjr', 'spacex', 'thspacewing', 'nasa', 'great', 'photo', 'dirtytesla', 'spacex', 'rt', 'spacex', 'falcon', 'launches', 'starlink', 'satellites', 'orbit', 'completing', 'spacexs', 'flight', 'previously', 'flown', 'rocket', 'booster', 'https', 'spacex', 'satellites', 'reach', 'target', 'position', 'roll', 'fairly', 'wide', 'public', 'beta', 'httpstco', 'klhnfmgz', 'rt', 'spacex', 'deployment', 'starlink', 'satellites', 'confirmed', 'httpstcox', 'ovjb', 'pa', 'flcnhvy', 'alvianchoiri', 'notable', 'differences', 'boosters', 'reflig', 'httpstcozugaquvpy', 'ppathole', 'alvianchoiri', 'roughly', 'week', 'turnaround', 'needed', 'meet', 'max', 'launch', 'demand', 'starship', 'httpstcoyxmoofzu', 'alvianchoiri', 'ahem', 'flight', 'booster', 'amp', 'flight', 'active', 'half', 'fairing', 'aiming', 'httpstcoawxtjefc', 'flight', 'amp', 'landing', 'booster', 'httpstcouotvmkgxqh', 'minutes', 'launch', 'good', 'httpstcoon', 'py', 'jt', 'cleantechnica', 'crazy', 'subsidize', 'pollution', 'good', 'people', 'dense', 'cities', 'heavy', 'httpstcoackoizwcpw', 'sciguyspace', 'step', 'direction', 'aim', 'full', 'reusability', 'larger', 'ro', 'httpstco', 'hvvkuqdon', 'turn', 'volume', 'amp', 'play', 'powerglide', 'tesla', 'httpstcol', 'yc', 'teslaownerssv', 'fsd', 'solve', 'issues', 'music', 'volume', 'tesla', 'louder', 'httpstcoab', 'hamo', 'en', 'kristennetten', 'flcnhvy', 'favorite', 'writers', 'foundation', 'tough', 'make', 'movie', 'outstanding', 'potential', 'orionsgauntlet', 'christianserino', 'httpstcoglnevuneyl', 'rewatched', 'young', 'frankenstein', 'weekend', 'awesome', 'ovaltine', 'httpstcowimdyfsuiq', 'flcnhvy', 'remake', 'potential', 'great', 'kinda', 'original', 'tbh', 'level', 'hollywood', 'start', 'sequel', 'amp', 'skip', 'original', 'financials', 'cleantechnica', 'article', 'wildly', 'incorrect', 'lithium', 'battery', 'costs', 'factor', 'presently', 'amp', 'longterm', 'samtalkstesla', 'teslaownerssv', 'ppathole', 'rationaletienne', 'stevenmarkryan', 'kristennetten', 'wholemarsblog', 'pretty', 'wild', 'httpstco', 'pqh', 'kalcf', 'spacex', 'droneship', 'called', 'shortfall', 'gravitas', 'escape', 'gravity', 'black', 'holes', 'idaacarmack', 'cool', 'put', 'mind', 'car', 'driving', 'model', 'teslaj', 'coming', 'call', 'booty', 'great', 'game', 'httpstcohyfszsrm', 'teslaownerssv', 'spacex', 'vectorspace', 'birds', 'eye', 'view', 'coming', 'fsd', 'ppathole', 'spacex', 'unexpected', 'pressure', 'rise', 'turbomachinery', 'gas', 'generator', 'erdayastronaut', 'spacex', 'broad', 'review', 'launch', 'site', 'propulsion', 'structures', 'av', 'httpstconkfvidsxpp', 'alandail', 'spacex', 'spacex', 'make', 'lot', 'improvements', 'chance', 'completing', 'launches', 'year', 'lexfridman', 'agree', 'lex', 'mike', 'tesla', 'electrekco', 'teslarati', 'glad', 'youre', 'sofiaan', 'tesla', 'haha', 'amoghbhushan', 'teslaclubin', 'wholemarsblog', 'mkbhd', 'waiting', 'teslaclubin', 'wholemarsblog', 'mkbhd', 'year', 'tobyliiiiiiiiii', 'rationaletienne', 'spexcast', 'williammbrown', 'ppathole', 'thesheetztweetz', 'waemd', 'spacex', 'httpstcozfbqlhxk', 'rationaletienne', 'spexcast', 'williammbrown', 'ppathole', 'thesheetztweetz', 'waemd', 'spacex', 'spacexstarlink', 'httpstcohscbef', 'mnf', 'spexcast', 'williammbrown', 'rationaletienne', 'ppathole', 'thesheetztweetz', 'waemd', 'spacex', 'spacexstarlink', 'wanationalguard', 'great', 'williammbrown', 'rationaletienne', 'ppathole', 'thesheetztweetz', 'waemd', 'spacex', 'spacexstarlink', 'wanationalguard', 'browns', 'httpstcoggoesdif', 'ppathole', 'thesheetztweetz', 'waemd', 'spacex', 'spacexstarlink', 'wanationalguard', 'average', 'latency', 'improve', 'sat', 'httpstcopiqitzeia', 'tobyliiiiiiiiii', 'rationaletienne', 'ppathole', 'thesheetztweetz', 'waemd', 'spacex', 'spacexstarlink', 'wanationalguard', 'httpstcoetjxxiv', 'vq', 'rationaletienne', 'ppathole', 'thesheetztweetz', 'waemd', 'spacex', 'spacexstarlink', 'wanationalguard', 'starlink', 'design', 'httpstcor', 'rrgvpvr', 'ppathole', 'erdayastronaut', 'nasaspaceflight', 'bocachicagal', 'thefavoritist', 'optimized', 'tanker', 'httpstcosmk', 'fmx', 'thesheetztweetz', 'waemd', 'spacex', 'spacexstarlink', 'wanationalguard', 'starlink', 'revolution', 'connectivity', 'esp', 'httpstcobqfd', 'kwhbn', 'wholemarsblog', 'mkbhd', 'yeah', 'adlanbogatyryov', 'erdayastronaut', 'nasaspaceflight', 'bocachicagal', 'thefavoritist', 'great', 'letter', 'increasingl', 'httpstcoxkwyon', 'io', 'erdayastronaut', 'nasaspaceflight', 'bocachicagal', 'thefavoritist', 'ship', 'rings', 'thicker', 'httpstcos', 'itp', 'wo', 'mkbhd', 'nextlevel', 'fox', 'phoenix', 'officialalishap', 'flcnhvy', 'tesla', 'glad', 'hear', 'mom', 'zshauladventure', 'nasakennedy', 'ulalaunch', 'spacex', 'natreconofc', 'good', 'inspiring', 'future', 'space', 'somiteslagirl', 'model', 'owners', 'futurejurvetson', 'cfsenergy', 'cupplasma', 'mit', 'heat', 'pump', 'model', 'httpstcorj', 'vluf', 'thatt', 'slaguy', 'model', 'owners', 'futurejurvetson', 'cfsenergy', 'cupplasma', 'mit', 'coming', 'ercxspace', 'spacex', 'felixschlang', 'marcushousegame', 'erdayastronaut', 'nasaspaceflight', 'great', 'render', 'circumferentia', 'httpstco', 'ottsix', 'af', 'model', 'owners', 'futurejurvetson', 'cfsenergy', 'cupplasma', 'mit', 'hard', 'pushing', 'httpstco', 'elp', 'pf', 'sl', 'futurejurvetson', 'cfsenergy', 'cupplasma', 'mit', 'cool', 'amp', 'amp', 'suspect', 'cas', 'httpstcopmyscvzozy', 'austinbarnard', 'weld', 'esthetics', 'improve', 'greatly', 'upcoming', 'starships', 'ppathole', 'haha', 'true', 'showers', 'wide', 'range', 'evafoxu', 'rationaletienne', 'wholemarsblog', 'univercurious', 'physicsj', 'light', 'fast', 'youd', 'rt', 'spacex', 'dragon', 'docks', 'spacestation', 'dragons', 'docked', 'simultaneously', 'crew', 'cargo', 'missions', 'rt', 'spacex', 'spacex', 'training', 'astronauts', 'fly', 'board', 'dragons', 'operational', 'mission', 'complete', 'crew', 'arrives', 'rt', 'spacex', 'launch', 'crew', 'dragons', 'operational', 'mission', 'astronauts', 'board', 'spacex', 'launch', 'st', 'cargo', 'resupply', 'mi', 'samtalkstesla', 'magenta', 'spotlights', 'rt', 'kathylueders', 'news', 'targeting', 'saturday', 'oct', 'launch', 'nasa', 'spacex', 'crew', 'mission', 'send', 'ast', 'valaafshar', 'tesla', 'low', 'center', 'gravity', 'makes', 'world', 'difference', 'safety', 'vmone', 'waemd', 'spacex', 'ipo', 'starlink', 'years', 'future', 'revenue', 'growth', 'httpstcokh', 'qryrkoe', 'perezshivam', 'waemd', 'spacex', 'fate', 'loooves', 'irony', 'haha', 'waemd', 'spacex', 'glad', 'spacex', 'prioritizing', 'emergency', 'responders', 'amp', 'locations', 'internet', 'connectivity', 'austinbarnard', 'true', 'teslavibes', 'total', 'market', 'tesla', 'tesla', 'reaching', 'vehiclesyear', 'bu', 'httpstcogxnszacar', 'cashmoneylemon', 'cathiedwood', 'skorusark', 'total', 'market', 'cathiedwood', 'skorusark', 'years', 'fully', 'electric', 'vehicles', 'year', 'years', 'ye', 'httpstcofy', 'nwwbx', 'flcnhvy', 'cathiedwood', 'original', 'cars', 'cathiedwood', 'arent', 'cutting', 'price', 'model', 'referring', 'future', 'car', 'smaller', 'model', 'brianheide', 'tesla', 'heavy', 'duty', 'paintball', 'machine', 'gun', 'mounted', 'bed', 'rails', 'pickenheim', 'matthewkerle', 'version', 'coming', 'wholemarsblog', 'suppliers', 'high', 'energy', 'nickel', 'presenta', 'httpstcol', 'pv', 'okpky', 'httpstcor', 'sox', 'vta', 'teslagong', 'drsallyl', 'sydneyev', 'teslatom', 'teslastraya', 'outbacktesla', 'evoutback', 'michael', 'cvanderstock', 'httpstcoquf', 'hh', 'qcg', 'scottadamssays', 'flcnhvy', 'kristennetten', 'checking', 'kristennetten', 'totally', 'head', 'tesla', 'delivery', 'center', 'amp', 'owners', 'cool', 'idaacarmack', 'completely', 'agree', 'erdayastronaut', 'flaps', 'directly', 'driven', 'electric', 'motors', 'gearbox', 'hydraulics', 'tesla', 'team', 'great', 'work', 'deliveries', 'owners', 'super', 'accommodating', 'delivery', 'ti', 'httpstcoppzzhxbxgp', 'scottadamssays', 'times', 'feel', 'im', 'living', 'dilbert', 'cartoon', 'artifactshub', 'species', 'stood', 'test', 'time', 'flcnhvy', 'nasaspaceflight', 'austinbarnard', 'ppathole', 'broke', 'interface', 'sn', 'httpstcowpeprv', 'nasaspaceflight', 'austinbarnard', 'ppathole', 'bar', 'differential', 'ullage', 'bar', 'base', 'due', 'propellant', 'head', 'httpstcoqvgkyw', 'qd', 'ppathole', 'height', 'test', 'body', 'flaps', 'amp', 'drawing', 'propellant', 'headers', 'main', 'tanks', 'se', 'httpstcopgzafesc', 'flight', 'km', 'ft', 'nosecone', 'amp', 'front', 'flaps', 'week', 'sn', 'month', 'starship', 'sn', 'rear', 'body', 'flaps', 'httpstcogdxmbzx', 'ct', 'waitbutwhy', 'httpstcov', 'yho', 'muratpak', 'evafoxu', 'true', 'rt', 'spacex', 'falcon', 'launch', 'nasas', 'super', 'cool', 'interstellar', 'mapping', 'acceleration', 'probe', 'imap', 'researchers', 'hisdirtremoves', 'spacex', 'bad', 'ennnafnlaus', 'ajtourville', 'ajtourville', 'munroassociates', 'sandy', 'munro', 'understands', 'engineering', 'darealwamos', 'turns', 'press', 'letter', 'amp', 'typewriter', 'httpstcokaarajvl', 'centaur', 'bow', 'httpstcocfkfkffxp', 'justpaulinelol', 'evafoxu', 'haha', 'evafoxu', 'httpstcondvuumms', 'ajtourville', 'support', 'wheel', 'vehicles', 'safe', 'rgvaerialphotos', 'mm', 'marlonsix', 'appealing', 'hawkinghartle', 'idea', 'agree', 'turokfeldbruggelehners', 'muratpak', 'ur', 'algo', 'ppathole', 'marlonsix', 'true', 'ppathole', 'erdayastronaut', 'practical', 'size', 'constraints', 'big', 'fit', 'engine', 'comp', 'httpstcoaxz', 'yheldj', 'ppathole', 'erdayastronaut', 'doesnt', 'problem', 'increase', 'area', 'ratio', 'bar', 'max', 'de', 'httpstco', 'gutz', 'kgij', 'marlonsix', 'httpstcogzljmnyciu', 'djsnm', 'preburners', 'ignite', 'main', 'chamber', 'marlonsix', 'prediction', 'probability', 'inaccurate', 'marlonsix', 'energy', 'amp', 'time', 'podcastnotes', 'genetic', 'engineering', 'slow', 'synthetic', 'virus', 'predict', 'tobyliiiiiiiiii', 'erdayastronaut', 'yeah', 'erdayastronaut', 'expansion', 'ratio', 'bit', 'flow', 'separation', 'end', 'nozzle', 'rt', 'spacex', 'completed', 'full', 'duration', 'test', 'fire', 'raptor', 'vacuum', 'engine', 'spacexs', 'rocket', 'development', 'facility', 'mcgregor', 'texas', 'http', 'rt', 'spacex', 'rvac', 'sea', 'level', 'raptor', 'human', 'scale', 'httpstcoxqipquy', 'pl', 'thing', 'ludicrous', 'plaid', 'httpstcorhuwk', 'egg', 'xiangaw', 'wholemarsblog', 'opposite', 'open', 'openai', 'essentially', 'captured', 'microsoft', 'wholemarsblog', 'haha', 'true', 'oneandonlyheady', 'techamazing', 'univercurious', 'jets', 'cool', 'flcnhvy', 'gfilche', 'yahoofinance', 'pretty', 'stprinciples', 'gfilche', 'yahoofinance', 'gfilche', 'yahoofinance', 'yahoo', 'finance', 'dumb', 'sounds', 'icannotenough', 'neopork', 'spacex', 'haha', 'tobyliiiiiiiiii', 'tesla', 'roadster', 'ppathole', 'cybertruck', 'atv', 'roadster', 'amp', 'semic', 'httpstco', 'aq', 'cykh', 'futurejurvetson', 'hiromichimizuno', 'years', 'support', 'tough', 'times', 'icannotenough', 'wholemarsblog', 'year', 'challenging', 'year', 'weve', 'httpstcoygde', 'oszxa', 'wholemarsblog', 'faster', 'umutcnbostanci', 'teslaownerssv', 'cgi', 'irl', 'tobyliiiiiiiiii', 'caranddriver', 'tesla', 'haha', 'rt', 'caranddriver', 'drove', 'model', 'long', 'range', 'miles', 'california', 'made', 'tesla', 'explain', 'extreme', 'difficulty', 'scaling', 'production', 'technology', 'understood', 'harder', 'httpstcomcxxfnsqfj', 'nasaspaceflight', 'bocachicagal', 'haha', 'intend', 'increase', 'reduce', 'battery', 'cell', 'purchases', 'panasonic', 'lg', 'amp', 'catl', 'possibly', 'partners', 'httpstcofl', 'lwcp', 'important', 'note', 'tesla', 'battery', 'day', 'unveil', 'tomorrow', 'affects', 'longterm', 'production', 'semi', 'cybertr', 'httpstcofo', 'xhxas', 'evafoxu', 'neopork', 'spacex', 'marcushousegame', 'legs', 'starship', 'theyre', 'coming', 'neopork', 'spacex', 'marcushousegame', 'flaps', 'fold', 'landing', 'reduce', 'wind', 'tip', 'force', 'httpstcodynlt', 'ekgk', 'model', 'owners', 'fine', 'arkinvest', 'tashaark', 'good', 'analysis', 'wait', 'fsd', 'bit', 'mature', 'singingsurfer', 'im', 'pretty', 'tesla', 'autocorrect', 'bar', 'low', 'haha', 'lorenzoteixeir', 'zogfotpik', 'samiralyateem', 'idaacarmack', 'true', 'igorantarov', 'soumiksf', 'idaacarmack', 'custom', 'ultra', 'high', 'speed', 'bus', 'amp', 'efficient', 'cooling', 'teslaownerssv', 'jgrano', 'soumiksf', 'idaacarmack', 'flcnhvy', 'soumiksf', 'idaacarmack', 'pretty', 'machinelearning', 'jgrano', 'soumiksf', 'idaacarmack', 'big', 'zogfotpik', 'samiralyateem', 'idaacarmack', 'soumiksf', 'idaacarmack', 'yeah', 'open', 'dojo', 'training', 'web', 'service', 'work', 'bugs', 'samiralyateem', 'idaacarmack', 'lot', 'pointless', 'zeroes', 'fp', 'neural', 'nets', 'chop', 'httpstcomlpvbpni', 'soumiksf', 'idaacarmack', 'dojo', 'chips', 'amp', 'computer', 'architecture', 'optimized', 'neural', 'net', 'training', 'httpstcooicfjt', 'gna', 'llamaa', 'idaacarmack', 'tesla', 'waypoints', 'idaacarmack', 'dojo', 'betting', 'fp', 'floating', 'floating', 'point', 'essentially', 'truncating', 'zeroes', 'httpstcobixl', 'qih', 'wholemarsblog', 'babytesla', 'wholemarsblog', 'wholemarsblog', 'therell', 'lots', 'green', 'space', 'factory', 'building', 'continuous', 'open', 'areas', 'httpstcorabjkrtqlw', 'savedtesla', 'peterdog', 'shaped', 'diamond', 'amp', 'aligned', 'true', 'north', 'prior', 'track', 'record', 'exceptional', 'achievement', 'engineering', 'required', 'prior', 'experience', 'working', 'httpstcowzaddnxmid', 'feel', 'neuralink', 'incorrectly', 'overlooked', 'resume', 'declined', 'make', 'offer', 'lmk', 'httpstcohp', 'dg', 'teslaownerssv', 'model', 'owners', 'trungtphan', 'felt', 'internet', 'zip', 'amp', 'paypal', 'work', 'httpstcoctbfloi', 'model', 'owners', 'trungtphan', 'utterly', 'insane', 'amount', 'work', 'move', 'spacex', 'amp', 'tesla', 'success', 'probabilities', 'trungtphan', 'frank', 'early', 'days', 'thought', 'gt', 'chance', 'spacex', 'amp', 'tesla', 'worth', 'httpstcocn', 'bfbua', 'fermatslibrary', 'irrational', 'funny', 'word', 'describe', 'numbers', 'love', 'deborahpatteri', 'tenetfilm', 'planet', 'tenetfilm', 'good', 'movie', 'erdayastronaut', 'current', 'strong', 'droneship', 'hold', 'station', 'thrusters', 'upgraded', 'future', 'missions', 'chrisdungeon', 'lot', 'happened', 'years', 'teslarati', 'insane', 'speedrunning', 'factorio', 'real', 'life', 'cleantechnica', 'make', 'great', 'points', 'important', 'note', 'irons', 'cost', 'advantage', 'partly', 'offset', 'httpstconez', 'hkuc', 'coderfoot', 'jr', 'berniesanders', 'yup', 'fallout', 'shelter', 'tesla', 'tap', 'entertainment', 'button', 'jr', 'berniesanders', 'implicit', 'conflation', 'consumption', 'amp', 'capital', 'allocation', 'foundational', 'error', 'kristennetten', 'great', 'idea', 'fallout', 'radio', 'httpstcogno', 'xfjx', 'tjlk', 'eerie', 'parallels', 'boring', 'company', 'amp', 'vaulttec', 'built', 'demonstration', 'tunnelvault', 'la', 'doubles', 'underground', 'nuclear', 'shelter', 'httpstcocvi', 'yrjobe', 'flcnhvy', 'lexfridman', 'yeah', 'tesladri', 'idaacarmack', 'lexfridman', 'happening', 'idaacarmack', 'lexfridman', 'bit', 'obscure', 'starhammer', 'amp', 'stainless', 'steel', 'rat', 'engineersfeed', 'thought', 'parrot', 'johnnacrider', 'jhall', 'remind', 'guys', 'httpstcoqt', 'np', 'story', 'life', 'httpstcovn', 'rv', 'yq', 'tunnels', 'cities', 'selfdriving', 'electric', 'cars', 'feel', 'warp', 'drivefirst', 'operational', 'tunnel', 'vega', 'httpstcowizyhed', 'pa', 'jackfarrington', 'jackfarrington', 'tesla', 'good', 'point', 'hugged', 'tunnel', 'today', 'arkinvest', 'aurmanark', 'good', 'analysis', 'ppathole', 'flcnhvy', 'gary', 'snail', 'winning', 'gaining', 'himher', 'embrace', 'tunnels', 'valaafshar', 'tunnels', 'solution', 'traffic', 'levels', 'usable', 'tunnel', 'depth', 'httpstcolqfdqwhh', 'matthewcable', 'ercxspace', 'guess', 'mid', 'teens', 'booster', 'amp', 'stacking', 'orbital', 'pad', 'limiti', 'httpstcoatqpexe', 'dk', 'ercxspace', 'pretty', 'accurate', 'simulation', 'sn', 'raptors', 'sn', 'craters', 'sn', 'amp', 'sn', 'close', 'httpstcowvqfq', 'oqua', 'teslavibes', 'couldnt', 'agree', '—', 'major', 'software', 'improvements', 'place', 'extend', 'life', 'amp', 'coming', 'cleantechnica', 'smartwatches', 'amp', 'phones', 'yesterdays', 'technology', 'neuralinks', 'future', 'engineersfeed', 'make', 'outfit', 'material', 'sama', 'ancient', 'greece', 'amp', 'committed', 'suicide', 'digs', 'grave', 'flcnhvy', 'sama', 'true', 'historyinpics', 'lego', 'movie', 'awesome', 'sama', 'story', 'civilization', 'book', 'dry', 'book', 'life', 'greece', 'incredible', 'httpstco', 'lbcix', 'fi', 'erdayastronaut', 'im', 'wearing', 'engine', 'shirt', 'ppathole', 'rykllan', 'felixschlang', 'spacexcentric', 'marcushousegame', 'spacex', 'cumulative', 'mass', 'orbit', 'year', 'correc', 'httpstco', 'lcu', 'xzvm', 'ppathole', 'rykllan', 'felixschlang', 'spacexcentric', 'marcushousegame', 'spacex', 'number', 'matters', 'rykllan', 'felixschlang', 'spacexcentric', 'marcushousegame', 'spacex', 'tracking', 'tonnage', 'orbit', 'year', 'launch', 'vehicles', 'excitement', 'guaranteed', 'support', 'greater', 'boca', 'padre', 'brownsville', 'community', 'appreciated', 'sn', 'starship', 'flaps', 'amp', 'nosecone', 'week', 'static', 'fire', 'checkouts', 'static', 'fire', 'fly', 'ft', 'amp', 'back', 'spacepadreisle', 'bocachicagal', 'nasaspaceflight', 'boat', 'service', 'south', 'padre', 'boca', 'whatsupfranks', 'samiralyateem', 'wholemarsblog', 'problems', 'addressed', 'ppathole', 'wholemarsblog', 'good', 'insight', 'samiralyateem', 'wholemarsblog', 'frames', 'stitched', 'single', 'frame', 'tricky', 'cameras', 'overlap', 'ways', 'httpstcoyzcixdgm', 'whatsupfranks', 'brandonbernicky', 'wholemarsblog', 'flcnhvy', 'wholemarsblog', 'brandonbernicky', 'wholemarsblog', 'releasing', 'private', 'beta', 'weeks', 'public', 'beta', 'early', 'access', 'owners', 'opt', 'httpstcooycpr', 'hq', 'wholemarsblog', 'isnt', 'dramatically', 'aka', 'simultaneous', 'surround', 'video', 'cameras', 'architecture', 'cbass', 'nasaspaceflight', 'marcushousegame', 'cool', 'richardreinariv', 'clue', 'astra', 'hear', 'im', 'youll', 'figure', 'launches', 'reach', 'orbit', 'rockets', 'hard', 'exciting', 'things', 'unveiled', 'battery', 'day', 'ostimusic', 'make', 'super', 'efficient', 'home', 'hvac', 'hepa', 'filters', 'day', 'jhall', 'rbreich', 'reich', 'cares', 'global', 'warming', 'making', 'hot', 'air', 'flcnhvy', 'natürlich', 'bitte', 'arbeiten', 'sie', 'bei', 'tesla', 'giga', 'berlin', 'es', 'wird', 'super', 'spaß', 'machen', 'httpstcofcnopr', 'oii', 'monicalewinsky', 'tesla', 'amp', 'youre', 'give', 'back', 'decide', 'prefer', 'subaru', 'slashdot', 'vera', 'rubin', 'observatory', 'cool', 'ppathole', 'eugenelee', 'univercurious', 'charliemunger', 'univercurious', 'munger', 'eugenelee', 'univercurious', 'httpstcof', 'rwy', 'exee', 'univercurious', 'blackscholes', 'formula', 'kinda', 'bs', 'big', 'difference', 'finance', 'approximation', 'amp', 'fundamental', 'physics', 'pure', 'math', 'wintonark', 'true', 'disruptresearch', 'tesla', 'understood', 'collection', 'dozen', 'startups', 'series', 'increasingly', 'httpstcozynsxisp', 'disruptresearch', 'tesla', 'rampd', 'productivity', 'exceptionally', 'good', 'due', 'caliber', 'engineering', 'talent', 'tesla', 'model', 'amp', 'hospitalgrade', 'hepa', 'air', 'filters', 'amp', 'good', 'big', 'effect', 'healt', 'httpstcoytsk', 'lmfii', 'kleefilmreview', 'rt', 'teslarati', 'tesla', 'energy', 'ramps', 'hiring', 'giga', 'york', 'accelerated', 'solar', 'productionhttpstcoiha', 'drewu', 'techgnostik', 'rbreich', 'touché', 'rbreich', 'tesla', 'workers', 'stock', 'compensation', 'increased', 'proportionately', 'modern', 'day', 'moron', 'rt', 'spacex', 'onboard', 'camera', 'view', 'falcon', 'saocom', 'launch', 'stage', 'land', 'landing', 'httpstco', 'iezyiyyg', 'mstrofuniverse', 'ppathole', 'evafoxu', 'yup', 'evafoxu', 'teslarati', 'rawlinson', 'didnt', 'design', 'model', 'prototype', 'joined', 'amp', 'left', 'lurch', 'httpstcooy', 'yvm', 'xm', 'erdayastronaut', 'ppathole', 'spacex', 'pretty', 'close', 'manufacturing', 'size', 'limit', 'milled', 'copper', 'amp', 'steel', 'ja', 'httpstcot', 'yn', 'xry', 'la', 'guerre', 'comme', 'à', 'la', 'guerre', 'harsimranbansal', 'haha', 'bnordhaug', 'starts', 'tweeting', 'bombard', 'earth', 'photons', 'eventually', 'emits', 'tesla', 'ak', 'idaacarmack', 'bidirectional', 'communication', 'human', 'amp', 'ai', 'phones', 'amp', 'computers', 'lo', 'httpstcot', 'iuazmwh', 'erdayastronaut', 'ppathole', 'spacex', 'make', 'ppathole', 'spacex', 'test', 'engine', 'flight', 'articles', 'fixed', 'gimbal', 'spacex', 'worth', 'noting', 'thrust', 'slightly', 'higher', 'big', 'bell', 'nozzle', 'version', 'larger', 'bell', 'primarily', 'httpstcokiegovt', 'rt', 'spacex', 'raptor', 'vacuum', 'engine', 'rvac', 'starship', 'shipped', 'spacexs', 'rocket', 'factory', 'hawthorne', 'california', 'dev', 'tesmaniancom', 'skorusark', 'chart', 'understates', 'lithiumion', 'potential', 'roughly', 'model', 'rated', 'reliable', 'car', 'httpstco', 'dagjltdy', 'turns', 'make', 'fly', 'haha', 'httpstcofjdhqrdvdb', 'ppathole', 'curevacrna', 'fully', 'appreciated', 'austinbarnard', 'starship', 'sn', 'flew', 'asimilar', 'hop', 'sn', 'smoother', 'amp', 'faster', 'operation', 'giga', 'berlin', 'mannschaftvielen', 'dank', 'für', 'ihre', 'hervorragende', 'arbeit', 'giga', 'berlin', 'httpstcokvo', 'mbfnxt', 'great', 'trip', 'germany', 'support', 'government', 'amp', 'people', 'super', 'appreciated', 'saraboutall', 'tesla', 'rt', 'spacex', 'deployment', 'starlink', 'satellites', 'confirmed', 'httpstcoddbxiodog', 'rt', 'spacex', 'liftoff', 'httpstcostznan', 'vtx', 'stefantpeterson', 'tesla', 'trust', 'ur', 'butt', 'haha', 'slashdot', 'ai', 'picking', 'goal', 'result', 'strawberry', 'fields', 'forever', 'spceenthusiast', 'tjmurphymit', 'thesheetztweetz', 'exploremars', 'spacex', 'theespacedude', 'time', 'outer', 'httpstco', 'upkqs', 'spceenthusiast', 'tjmurphymit', 'thesheetztweetz', 'exploremars', 'spacex', 'theespacedude', 'yeah', 'alertalarms', 'resonant', 'modes', 'fast', 'hang', 'problems', 'arise', 'tjmurphymit', 'thesheetztweetz', 'exploremars', 'spacex', 'theespacedude', 'outer', 'ring', 'booster', 'engines', 'hav', 'httpstcossaqzj', 'act', 'erdayastronaut', 'flcnhvy', 'gerberkawasaki', 'videodrome', 'teslaownerssv', 'justpaulinelol', 'httpstco', 'ckvhrmtf', 'teslaownerssv', 'justpaulinelol', 'httpstcoqobvxgq', 'fz', 'teslaownerssv', 'justpaulinelol', 'sir', 'momentinertiaphobia', 'rt', 'spacex', 'falcon', 'stage', 'lands', 'landing', 'zone', 'complete', 'boosters', 'fourth', 'flight', 'httpstcotutackmifn', 'frydave', 'youyanggu', 'dfisman', 'yeah', 'ppathole', 'nigellockyer', 'penn', 'fermilab', 'lhc', 'tbh', 'httpstcoovaohsg', 'nigellockyer', 'penn', 'fermilab', 'build', 'long', 'accelerator', 'tunnel', 'straight', 'circular', 'people', 'rt', 'spacex', 'launching', 'saocom', 'rideshare', 'payloads', 'orbit', 'falcon', 'stage', 'returns', 'earth', 'lands', 'landing', 'zon', 'rt', 'spacex', 'deployment', 'saocom', 'confirmed', 'httpstcogqtxqmpy', 'rt', 'spacex', 'falcon', 'stage', 'landed', 'landing', 'zone', 'httpstco', 'fkvqpk', 'rt', 'spacex', 'liftoff', 'httpstcoaiwrmzb', 'vitalvegas', 'cool', 'rt', 'neuralink', 'snout', 'boops', 'httpstcozjogq', 'ulvf', 'nigellockyer', 'penn', 'fermilab', 'physics', 'law', 'recommendation', 'samtalkstesla', 'teslarati', 'company', 'solved', 'thing', 'buy', 'great', 'httpstcoixhyt', 'nuic', 'teslarati', 'tesla', 'germany', 'designed', 'amp', 'built', 'vaccine', 'rna', 'printers', 'curevac', 'subject', 'curevac', 'ip', 'httpstcox', 'sda', 'engineersfeed', 'technically', 'james', 'watt', 'measured', 'pony', 'added', 'amp', 'rounded', 'haha', 'httpstcovnko', 'mtruc', 'flcnhvy', 'gerberkawasaki', 'critical', 'thinking', 'flcnhvy', 'gerberkawasaki', 'alexander', 'rise', 'hellenism', 'film', 'studies', 'gerberkawasaki', 'wow', 'super', 'loved', 'astronomy', 'queens', 'penn', 'favorite', 'class', 'httpstcoo', 'fjcglahw', 'teslaownerssv', 'justpaulinelol', 'yeah', 'mutual', 'physics', 'prof', 'friend', 'caltechcern', 'ba', 'httpstcotjsh', 'exz', 'justpaulinelol', 'embarrassing', 'learned', 'physics', 'prof', 'penn', 'head', 'fermilab', 'amp', 'homework', 'ruskin', 'common', 'academia', 'overweight', 'ideas', 'amp', 'underweight', 'bringing', 'httpstcooffoojcqnv', 'lvaux', 'kulpability', 'tlowdon', 'ethicalskeptic', 'people', 'extremely', 'die', 'covidsarscov', 'httpstcog', 'vxpupkvn', 'ppathole', 'kulpability', 'tlowdon', 'ethicalskeptic', 'amp', 'giga', 'berlin', 'im', 'headed', 'germany', 'week', 'convers', 'httpstcoqqdcdov', 'jo', 'tlowdon', 'ethicalskeptic', 'antibody', 'halflife', 'cov', 'short', 'study', 'spacex', 'working', 'harvard', 'httpstcodyl', 'xvuf', 'ppathole', 'tlowdon', 'ethicalskeptic', 'yeah', 'kulpability', 'tlowdon', 'ethicalskeptic', 'person', 'tesla', 'hospitalized', 'condition', 'httpstcounjgvlveuk', 'tlowdon', 'ethicalskeptic', 'tests', 'initially', 'tesla', 'false', 'positive', 'including', 'fro', 'httpstcoby', 'oophpp', 'wholemarsblog', 'marcushousegame', 'neopork', 'spacex', 'erdayastronaut', 'spacetoday', 'elonsworld', 'felixschlang', 'chrisgnsf', 'djsnm', 'marcushousegame', 'neopork', 'spacex', 'erdayastronaut', 'spacetoday', 'elonsworld', 'felixschlang', 'chrisgnsf', 'djsnm', 'httpstcoo', 'qpnv', 'qry', 'icannotenough', 'people', 'read', 'level', 'detail', 'predicting', 'future', 'httpstcoi', 'rrglbx', 'icannotenough', 'critical', 'feedback', 'appreciated', 'btw', 'biogirl', 'janeidyeve', 'tesmaniancom', 'spacex', 'blanket', 'pass', 'events', 'neopork', 'spacex', 'marcushousegame', 'erdayastronaut', 'spacetoday', 'elonsworld', 'felixschlang', 'chrisgnsf', 'djsnm', 'boost', 'httpstcovv', 'agje', 'mw', 'flcnhvy', 'ppathole', 'idaacarmack', 'versions', 'larger', 'device', 'potential', 'evafoxu', 'waitbutwhy', 'yup', 'ppathole', 'idaacarmack', 'syntax', 'improved', 'esthetically', 'idaacarmack', 'avoids', 'class', 'warfare', 'ppathole', 'ieeespectrum', 'neuralink', 'nightcap', 'work', 'ieeespectrum', 'neuralink', 'pretty', 'tesmaniancom', 'good', 'summary', 'conceptual', 'telepathy', 'rt', 'waitbutwhy', 'fantasize', 'engineer', 'working', 'edisons', 'lab', 'apply', 'work', 'neuralink', 'ahem', 'starting', 'httpstcoecghh', 'ston', 'physics', 'impossible', 'trivial', 'impossible', 'understand', 'trivial', 'rutherford', 'flcnhvy', 'giant', 'gap', 'experimental', 'medical', 'device', 'patients', 'extreme', 'medical', 'problems', 'amp', 'wid', 'httpstcof', 'fib', 'tobyliiiiiiiiii', 'erdayastronaut', 'flcnhvy', 'djsnm', 'testing', 'shorter', 'rvac', 'skirt', 'full', 'length', 'skirt', 'test', 'coming', 'neuralink', 'product', 'demo', 'hours', 'webcast', 'httpstcoy', 'wred', 'oj', 'erdayastronaut', 'flcnhvy', 'djsnm', 'raptor', 'reached', 'mtf', 'half', 'million', 'pounds', 'thrust', 'peak', 'pressure', 'wit', 'httpstco', 'spnwbelpa', 'nextspaceflight', 'good', 'chance', 'slip', 'yeah', 'sunday', 'intense', 'erdayastronaut', 'flcnhvy', 'djsnm', 'engines', 'astrojordy', 'flcnhvy', 'djsnm', 'boring', 'tunnel', 'vegas', 'months', 'operational', 'flcnhvy', 'djsnm', 'neuralink', 'month', 'amp', 'tesla', 'month', 'spacex', 'october', 'made', 'lot', 'progre', 'httpstcocjsgr', 'sjit', 'zeitmas', 'djsnm', 'djsnm', 'theyre', 'accurate', 'evafoxu', 'number', 'lot', 'ajtourville', 'peterdog', 'im', 'fine', 'reasonable', 'drone', 'footage', 'fair', 'distance', 'amp', 'coming', 'httpstcohspkw', 'zk', 'gerberkawasaki', 'tesla', 'smart', 'hardworking', 'team', 'tesla', 'wild', 'times', 'teslarati', 'appreciated', 'attack', 'thejackbeyer', 'nasaspaceflight', 'brave', 'starhopper', 'carried', 'day', 'itmotivatesus', 'days', 'waitbutwhy', 'httpstco', 'ta', 'wholemarsblog', 'obtuse', 'good', 'works', 'esthetically', 'foldedover', 'httpstcoalexczij', 'cleantechnica', 'surprised', 'hear', 'theyre', 'road', 'adding', 'silicon', 'carbon', 'anode', 'httpstcooohnzzeh', 'cleantechnica', 'lexfridman', 'leave', 'house', 'call', 'parents', 'big', 'bang', 'started', 'smol', 'httpstcoxvvcualz', 'httpstco', 'iexvvn', 'ppathole', 'asimov', 'things', 'proportionate', 'evidence', 'true', 'olde', 'skoole', 'analog', 'synthesizer', 'ancient', 'britain', 'httpstcojg', 'fi', 'chxc', 'slashdot', 'httpstcowoiwia', 'ztn', 'kristennetten', 'flcnhvy', 'amp', 'weather', 'calm', 'hope', 'stays', 'teslarati', 'tesla', 'brake', 'lights', 'powered', 'miniverse', 'inside', 'microverse', 'httpstcoaduotl', 'flcnhvy', 'erdayastronaut', 'tesla', 'focused', 'developing', 'products', 'amp', 'scaling', 'production', 'flcnhvy', 'neuralink', 'show', 'lasik', 'pretty', 'close', 'years', 'lengthy', 'background', 'neuralink', 'waitbutwhy', 'httpstcoz', 'yfaupdrd', 'live', 'webcast', 'working', 'neuralink', 'devicefriday', 'pm', 'pacific', 'httpstcopoulbrgzfu', 'engineersfeed', 'astronaughty', 'owensparks', 'ppathole', 'erdayastronaut', 'dauqhx', 'universalsci', 'ppathole', 'erdayastronaut', 'dauqhx', 'universalsci', 'mars', 'easier', 'moon', 'propellant', 'production', 'httpstcotoysp', 'ukif', 'erdayastronaut', 'dauqhx', 'universalsci', 'starship', 'propellant', 'oxygen', 'plant', 'moon', 'enou', 'httpstco', 'tukv', 'hvig', 'waitbutwhy', 'candy', 'dauqhx', 'universalsci', 'lot', 'frozen', 'amp', 'mars', 'heating', 'planet', 'densify', 'atmosphere', 'solvable', 'universalsci', 'day', 'ocean', 'northern', 'part', 'mars', 'jchybow', 'jwangark', 'wintonark', 'working', 'reliably', 'jwangark', 'wintonark', 'computers', 'needed', 'training', 'inference', 'fsd', 'int', 'dojo', 'httpstcozcnw', 'nxh', 'jwangark', 'wintonark', 'gpus', 'nn', 'lots', 'cores', 'optimized', 'dot', 'products', 'fast', 'local', 'memory', 'amp', 'httpstcol', 'xese', 'teslaaddicted', 'erdayastronaut', 'amp', 'scale', 'erdayastronaut', 'orbital', 'launch', 'mount', 'nasaspaceflight', 'yeah', 'occasional', 'flights', 'land', 'frequent', 'daily', 'flights', 'km', 'httpstco', 'lliqzacuu', 'schristakos', 'skorusark', 'shortword', 'coach', 'life', 'warn', 'dug', 'grave', 'fast', 'skorusark', 'whkg', 'high', 'cycle', 'life', 'produced', 'volume', 'lab', 'years', 'nasaspaceflight', 'starshipsuper', 'heavy', 'mass', 'zenit', 'launch', 'ocean', 'spaceports', 'longterm', 'rt', 'teslarati', 'tesla', 'model', 'satisfying', 'car', 'ages', 'study', 'reveals', 'httpstcoka', 'iha', 'httpstcoxuzmulvfhf', 'johnkrausphotos', 'nasaspaceflight', 'spacex', 'superclusterhq', 'starshipsuper', 'heavy', 'bigger', 'mass', 'amp', 'volume', 'metaphor', 'life', 'httpstcocdll', 'ielju', 'rt', 'jaxzin', 'power', 'flowing', 'grid', 'grateful', 'tesla', 'powerwall', 'hours', 'uninterrupted', 'backup', 'power', 'ht', 'tesmaniancom', 'accurate', 'distance', 'calculation', 'vision', 'fundamental', 'sensors', 'fundamental', 'darpa', 'uh', 'fun', 'games', 'coming', 'ur', 'tesla', 'httpstcozbdygouhsz', 'httpstcohkpwjnxsfc', 'strikes', 'sinan', 'noise', 'reduction', 'recently', 'amp', 'continue', 'improve', 'damikolz', 'jussiwen', 'hardcore', 'techno', 'aber', 'vielleicht', 'ein', 'bisschen', 'fahrstuhlmusik', 'auf', 'der', 'toilette', 'tesla', 'feature', 'coming', 'enables', 'car', 'play', 'snake', 'jazz', 'polynesian', 'elevator', 'music', 'speakers', 'httpstcobki', 'sooroe', 'flcnhvy', 'janeidyeve', 'achieved', 'ai', 'symbiosis', 'janeidyeve', 'selfperpetuating', 'autocracy', 'based', 'farcical', 'aquatic', 'ceremony', 'king', 'chosen', 'wise', 'panzer', 'lake', 'janeidyeve', 'direct', 'democracy', 'short', 'comprehensible', 'laws', 'voted', 'directly', 'people', 'snake', 'jazz', 'wholemarsblog', 'hard', 'write', 'software', 'needed', 'cover', 'basic', 'car', 'functionality', 'httpstcoywlqux', 'rbv', 'gpt', 'sounds', 'simon', 'amp', 'garfunkel', 'lyrics', 'bureaucracy', 'inherently', 'kafkaesque', 'tesmaniancom', 'dankeschön', 'brandenburg', 'amp', 'grünheide', 'harsimranbansal', 'evafoxu', 'true', 'geffenavraham', 'bryanflanks', 'spellmender', 'vladkarmon', 'torybruno', 'ulaengineer', 'spacex', 'medical', 'check', 'aok', 'httpstcoztrmvq', 'wvx', 'run', 'president', 'httpstcowo', 'fhkugu', 'erdayastronaut', 'nextspaceflight', 'long', 'chain', 'hydrocarbons', 'amp', 'lowering', 'preburner', 'combustion', 'temperature', 'make', 'big', 'difference', 'everydayelon', 'ajtourville', 'commaai', 'tesmaniancom', 'wholemarsblog', 'ajtourville', 'commaai', 'tesmaniancom', 'daniellefong', 'ajtourville', 'commaai', 'tesmaniancom', 'absolutely', 'liquid', 'cooling', 'applying', 'experience', 'httpstcoezlaxwg', 'rp', 'teslatested', 'error', 'canada', 'lease', 'payment', 'specifically', 'lower', 'loan', 'financing', 'tesla', 'expec', 'httpstcovae', 'ppljox', 'tobyliiiiiiiiii', 'erdayastronaut', 'nextspaceflight', 'push', 'ten', 'flights', 'starlink', 'flcnhvy', 'erdayastronaut', 'nextspaceflight', 'replace', 'engine', 'individual', 'parts', 'httpstcofdnxdwh', 'erdayastronaut', 'cnunezimages', 'spaceintellige', 'employees', 'support', 'public', 'access', 'httpstcoy', 'db', 'mkzpu', 'evafoxu', 'cnunezimages', 'spaceintellige', 'absolutely', 'erdayastronaut', 'nextspaceflight', 'dont', 'cavalier', 'isnt', 'obvious', 'limit', 'flights', 'possi', 'httpstco', 'dhapzhixh', 'cnunezimages', 'spaceintellige', 'ive', 'working', 'boca', 'sunday', 'august', 'heat', 'amp', 'humidity', 'south', 'texas', 'int', 'httpstcoxepds', 'ituw', 'ajtourville', 'commaai', 'tesmaniancom', 'dojo', 'isnt', 'year', 'chips', 'power', 'httpstcotsbttiduhj', 'spacecoaststve', 'scorcher', 'vi', 'httpstco', 'antonioetayo', 'erdayastronaut', 'cbass', 'nasaspaceflight', 'felixschlang', 'elevator', 'music', 'underrated', 'erdayastronaut', 'cbass', 'nasaspaceflight', 'felixschlang', 'counterintuitive', 'raptor', 'thrust', 'httpstcocagyh', 'nnd', 'rt', 'tesla', 'big', 'updates', '–', 'transcanada', 'supercharging', '–', 'model', 'deliveries', '–', 'leasing', 'model', 'amp', 'model', 'httpstcogyfbe', 'nextspaceflight', 'payload', 'reduction', 'due', 'reusability', 'booster', 'amp', 'fairing', 'lt', 'amp', 'recovery', 'amp', 'refurb', 'lt', 'httpstcosqgxv', 'yrs', 'zubinanary', 'spaceintellige', 'guidodecaso', 'cnunezimages', 'huge', 'nuts', 'haha', 'teslarati', 'bigger', 'adults', 'squeeze', 'guaranteed', 'make', 'party', 'fun', 'works', 'flamethrowers', 'spaceintellige', 'guidodecaso', 'cnunezimages', 'favorite', 'tension', 'dof', 'compression', 'roadster', 'httpstcoukly', 'dwqur', 'davidgokhshtein', 'aloha', 'back', 'space', 'httpstcoxwpn', 'wtaw', 'erdayastronaut', 'yeah', 'post', 'shortly', 'krystofmitka', 'biindia', 'winning', 'worst', 'person', 'ive', 'worked', 'easy', 'real', 'champions', 'vying', 'title', 'fairing', 'chute', 'control', 'amp', 'ship', 'control', 'closing', 'loop', 'locally', 'operating', 'spacex', 'autopilot', 'ms', 'tree', 'catches', 'fairing', 'net', 'httpstcosqlj', 'netb', 'biindia', 'rt', 'spacex', 'falcon', 'stage', 'landed', 'love', 'droneship', '–', 'time', 'booster', 'completed', 'flights', 'valleyhack', 'geoffdbarrett', 'cruising', 'deep', 'space', 'httpstcopcybhfpuad', 'natgeo', 'aliens', 'spendg', 'rgvaerialphotos', 'spacex', 'erdayastronaut', 'spit', 'dirt', 'mars', 'jwangark', 'humans', 'swiftly', 'small', 'percentage', 'total', 'compute', 'erdayastronaut', 'programmerdude', 'max', 'demonstrated', 'raptor', 'thrust', 'tons', 'amp', 'min', 'tons', 'theyre', 'httpstco', 'fge', 'giee', 'adamblitzer', 'levie', 'justpaulinelol', 'nasaspaceflight', 'engine', 'sn', 'building', 'sn', 'ship', 'nasaspaceflight', 'sn', 'tested', 'amp', 'upgrades', 'bar', 'engine', 'reference', 'bar', 'httpstcovk', 'nzlr', 'sz', 'raptor', 'engine', 'reached', 'bar', 'chamber', 'pressure', 'exploding', 'httpstcokvkrwksvab', 'erdayastronaut', 'yeah', 'starship', 'tiny', 'dot', 'km', 'hard', 'naked', 'eye', 'lots', 'flights', 'cbass', 'erdayastronaut', 'nasaspaceflight', 'felixschlang', 'impressive', 'render', 'note', 'legs', 'bigger', 'amp', 'httpstcoup', 'ow', 'tf', 'ppathole', 'universalsci', 'sting', 'ppathole', 'early', 'investor', 'part', 'tesla', 'wrong', 'bs', 'pushed', 'eberhard', 'worst', 'person', 'ive', 'httpstcoxvuoeig', 'universalsci', 'long', 'period', 'comets', 'intersect', 'earth', 'havent', 'observed', 'httpstcomezrzcnewo', 'universalsci', 'pretty', 'cybertruck', 'option', 'package', 'httpstco', 'vz', 'xnohf', 'stevestuwill', 'jagarikin', 'wow', 'boosterbuddies', 'nasaspaceflight', 'buttontwiddling', 'makes', 'sense', 'flcnhvy', 'nickcappelli', 'grimezsz', 'ithttpstcof', 'rxgcz', 'evafoxu', 'great', 'tanks', 'memery', 'panzer', 'lake', 'big', 'milestones', 'coming', 'httpstcok', 'yddg', 'drphiltill', 'africa', 'big', 'awardsdarwin', 'bold', 'move', 'sir', 'bold', 'move', 'euricsanti', 'luisabinader', 'tesla', 'tesla', 'honored', 'cowderysedge', 'tbdnonymous', 'real', 'possibility', 'billratchet', 'wholemarsblog', 'trash', 'wikipedia', 'im', 'begging', 'history', 'written', 'victors', 'wikipedia', 'haha', 'nickcappelli', 'grimezsz', 'cover', 'barbie', 'girl', 'tbdnonymous', 'accurate', 'great', 'filters', 'plural', 'nickcappelli', 'grimezsz', 'called', 'cyber', 'girl', 'pass', 'great', 'filter', 'sounds', 'httpstcodm', 'fjq', 'hx', 'drrami', 'tomdestella', 'robertdowneyjr', 'longelon', 'crysis', 'rocks', 'exaflop', 'de', 'facto', 'fp', 'kristennetten', 'engineersfeed', 'metal', 'fudgelike', 'consistency', 'melting', 'point', 'smoosh', 'engineersfeed', 'make', 'falcon', 'httpstcomdopo', 'yb', 'httpstco', 'rkueyw', 'flcnhvy', 'icannotenough', 'tesla', 'hands', 'hard', 'predict', 'order', 'billion', 'km', 'httpstco', 'fzby', 'pno', 'austinbarnard', 'realwillreil', 'giuliocoraggio', 'hasty', 'govt', 'teslaownerssv', 'ppathole', 'icannotenough', 'flcnhvy', 'tesla', 'lot', 'work', 'remains', 'technically', 'working', 'httpstcowzg', 'taxee', 'ppathole', 'icannotenough', 'flcnhvy', 'tesla', 'dojo', 'built', 'year', 'icannotenough', 'flcnhvy', 'tesla', 'autopilot', 'trapped', 'local', 'maximum', 'labeling', 'single', 'camera', 'images', 'uncorrelate', 'httpstcow', 'goo', 'etzh', 'icannotenough', 'flcnhvy', 'tesla', 'insights', 'years', 'excellent', 'approximately', 'giuliocoraggio', 'absolutely', 'doesnt', 'govt', 'move', 'fast', 'teslaownerssv', 'flcnhvy', 'blow', 'ur', 'mind', 'haha', 'httpstcolqnken', 'kjn', 'main', 'engineering', 'locations', 'palo', 'alto', 'austin', 'amp', 'seattle', 'working', 'remotely', 'acceptable', 'exceptional', 'candidates', 'tomdestella', 'electric', 'vtol', 'supersonic', 'sooo', 'bad', 'brain', 'overload', 'universalsci', 'asteroid', 'impact', 'risk', 'understood', 'comets', 'worry', 'great', 'mission', 'patch', 'design', 'httpstcop', 'ic', 'crpef', 'nikolatruth', 'haha', 'true', 'wholemarsblog', 'alesssj', 'yup', 'flcnhvy', 'teslaownerssv', 'kristennetten', 'teslaownerssv', 'erdayastronaut', 'coming', 'haha', 'recent', 'cars', 'httpstco', 'gbxaxtn', 'vicentes', 'teslaownerssv', 'erdayastronaut', 'embarrassingly', 'late', 'factor', 'authentication', 'sms', 'httpstcoraxdlk', 'jti', 'bennettm', 'erdayastronaut', 'labeling', 'bumps', 'amp', 'potholes', 'car', 'slow', 'steer', 'safe', 'teslaownerssv', 'erdayastronaut', 'perfectly', 'year', 'good', 'httpstco', 'xzanace', 'erdayastronaut', 'meant', 'httpstcoxpx', 'snpy', 'erdayastronaut', 'fsd', 'improvement', 'quantum', 'leap', 'fundamental', 'architectural', 'rewrite', 'httpstcok', 'cb', 'nimiy', 'tesla', 'developing', 'nn', 'training', 'computer', 'called', 'dojo', 'process', 'vast', 'amounts', 'video', 'data', 'beast', 'httpstcoaipo', 'gd', 'ek', 'teslarati', 'software', 'improvements', 'coming', 'cleantechnica', 'significant', 'improvements', 'coming', 'sx', 'air', 'suspension', 'software', 'update', 'simultaneously', 'httpstcojjunwv', 'stoolpresidente', 'ch', 'iron', 'nickel', 'chrome', 'aluminum', 'necessarily', 'order', 'matter', 'httpstcoiaqicetdoa', 'waitbutwhy', 'lukeprog', 'odds', 'viktaur', 'teslarati', 'rate', 'improvement', 'original', 'gpt', 'gpt', 'impressive', 'rate', 'improvement', 'httpstcoktppercwt', 'teslarati', 'tesla', 'team', 'working', 'hard', 'increasing', 'powerwall', 'production', 'rt', 'jimbridenstine', 'news', 'nasa', 'amp', 'spacex', 'targeting', 'earlier', 'oct', 'crew', 'dragons', 'operational', 'mission', 'spaces', 'cbass', 'erdayastronaut', 'sn', 'erdayastronaut', 'impressive', 'stoolpresidente', 'psyche', 'httpstcozkoi', 'fpvzz', 'erdayastronaut', 'kenkirtland', 'torybruno', 'ulalaunch', 'spacex', 'blueorigin', 'djsnm', 'theprimaldino', 'integrated', 'tip', 'nose', 'teslarati', 'important', 'erdayastronaut', 'faster', 'utility', 'power', 'restored', 'powerwallpowerpackmegapack', 'httpstco', 'znztmbj', 'kenkirtland', 'torybruno', 'ulalaunch', 'spacex', 'blueorigin', 'erdayastronaut', 'djsnm', 'theprimaldino', 'starship', 'fairing', 'wil', 'httpstcou', 'wi', 'cgi', 'pantsbobsponge', 'andyjstanton', 'timfernholz', 'correct', 'substantial', 'underpayment', 'compared', 'ula', 'received', 'timfernholz', 'madness', 'acceptable', 'boeinglockheed', 'rockets', 'timfernholz', 'suggest', 'buying', 'airplanes', 'fly', 'amp', 'crash', 'ocean', 'absurd', 'tesmaniancom', 'generally', 'patents', 'timfernholz', 'efficiently', 'reusable', 'rockets', 'matter', 'making', 'life', 'multiplanetary', 'amp', 'space', 'power', 'becau', 'httpstcoalg', 'ue', 'wholemarsblog', 'amazing', 'operation', 'biggest', 'casting', 'machine', 'made', 'make', 'rear', 'body', 'httpstcomwzjylhd', 'renarddemoscou', 'billgates', 'hear', 'teslarati', 'surprise', 'teslarati', 'aiming', 'make', 'super', 'fun', 'teslarati', 'toastier', 'flight', 'flcnhvy', 'hex', 'tiles', 'slightly', 'mounting', 'method', 'bigger', 'sections', 'tiles', 'hold', 'httpstcoxniptypahf', 'sn', 'alloy', 'test', 'tank', 'burst', 'pressure', 'sn', 'body', 'flaps', 'amp', 'nosecone', 'sn', 'amp', 'starship', 'production', 'complex', 'texas', 'httpstco', 'bvrd', 'vdu', 'markgoldberg', 'tesla', 'day', 'wear', 'outfit', 'httpstcot', 'snf', 'ugyk', 'markgoldberg', 'tesla', 'channel', 'herb', 'tarlek', 'wkrp', 'httpstco', 'rc', 'zay', 'markgoldberg', 'tesla', 'note', 'fabulous', 'plaid', 'jacket', 'amp', 'gingham', 'shirt', 'combo', 'archillect', 'twin', 'peaks', 'samtalkstesla', 'working', 'moms', 'cousins', 'farm', 'saskatchewan', 'age', 'barnraising', 'day', 'wonderofscience', 'httpstcoy', 'lrlouxr', 'erdayastronaut', 'leg', 'amp', 'repairs', 'sn', 'flies', 'sn', 'httpstcocgxsnck', 'uv', 'lexfridman', 'rt', 'erdayastronaut', 'spot', 'tiny', 'humans', 'shot', 'puts', 'scale', 'full', 'blown', 'starship', 'superheavy', 'hard', 'fat', 'ramacvr', 'kristennetten', 'ppathole', 'berniesanders', 'true', 'kristennetten', 'ppathole', 'berniesanders', 'ppathole', 'berniesanders', 'time', 'give', 'employees', 'shares', 'ownership', 'diluted', 'automatically', 'httpstcoaqgi', 'cu', 'hn', 'rt', 'theplanetaryguy', 'videos', 'amaze', 'meastronomer', 'jan', 'koet', 'captured', 'video', 'saturn', 'appearing', 'rationaletienne', 'berniesanders', 'reads', 'twitter', 'feed', 'berniesanders', 'aim', 'attacks', 'tesla', 'company', 'earth', 'advance', 'httpstcovc', 'isfxioz', 'berniesanders', 'bs', 'pushed', 'oil', 'amp', 'gas', 'interests', 'distract', 'people', 'trillion', 'year', 'httpstcoptawt', 'dhhc', 'siconik', 'wr', 'nygov', 'delayslater', 'berniesanders', 'wr', 'nygov', 'berniesanders', 'good', 'analysis', 'includes', 'govt', 'loan', 'high', 'efficiency', 'vehicles', 'tesla', 'paid', 'httpstcoiakln', 'fvpb', 'westcoastbill', 'johnkrausphotos', 'erdayastronaut', 'queuemax', 'nasaspaceflight', 'yeah', 'full', 'engine', 'velociraptor', 'raptor', 'short', 'tobyliiiiiiiiii', 'erdayastronaut', 'queuemax', 'nasaspaceflight', 'haha', 'good', 'catch', 'booster', 'fixed', 'legs', 'add', 'height', 'erdayastronaut', 'queuemax', 'nasaspaceflight', 'velociraptor', 'tw', 'par', 'merlin', 'httpstcodlmy', 'rybrk', 'nasaspaceflight', 'crazy', 'tall', 'booster', 'amp', 'fairing', 'ft', 'renatakonkoly', 'timothybuffett', 'teslarati', 'janeidyeve', 'timothybuffett', 'teslarati', 'failing', 'quarantine', 'elderlyatrisk', 'people', 'early', 'mistake', 'recognize', 'teslarati', 'httpstcokogvn', 'rmj', 'good', 'piece', 'giga', 'berlin', 'construction', 'httpstcopa', 'sgepv', 'futurejurvetson', 'spacex', 'increasingly', 'rt', 'spacex', 'falcon', 'stage', 'landed', 'love', 'droneship', 'httpstcoszo', 'thmxqa', 'teslarati', 'gon', 'na', 'great', 'sn', 'httpstcoglz', 'kfvhu', 'rt', 'tesla', 'model', 'httpstcoiafpj', 'zz', 'rt', 'spacex', 'starship', 'takes', 'flight', 'httpstcoiwvwca', 'hl', 'ppathole', 'trevormahlmann', 'arstechnica', 'short', 'hops', 'smooth', 'launch', 'process', 'high', 'altitude', 'body', 'flaps', 'ebelardo', 'bluemoondance', 'trevormahlmann', 'arstechnica', 'trevormahlmann', 'arstechnica', 'legs', 'longer', 'legs', 'wider', 'amp', 'taller', '—', 'falcon', 'bu', 'httpstcocgeweqny', 'flcnhvy', 'progress', 'accelerating', 'rt', 'nasaspaceflight', 'launch', 'starship', 'sn', 'launched', 'meter', 'test', 'hop', 'spacex', 'boca', 'chicaunder', 'power', 'raptor', 'sn', 'sn', 'sciguyspace', 'austinbarnard', 'mars', 'real', 'trevormahlmann', 'flight', 'mins', 'erdayastronaut', 'flcnhvy', 'lindw', 'rm', 'cleantechnica', 'true', 'lindw', 'rm', 'cleantechnica', 'highly', 'road', 'cleantechnica', 'true', 'fact', 'nasaspaceflight', 'scrubbed', 'day', 'raptor', 'turbopump', 'spin', 'start', 'valve', 'didnt', 'open', 'triggering', 'automatic', 'abo', 'httpstcoqddlnxfgjg', 'erdayastronaut', 'im', 'boca', 'control', 'room', 'hop', 'attempt', 'minutes', 'rt', 'reallifestarman', 'moon', 'base', 'moon', 'send', 'people', 'mars', 'make', 'erdayastronaut', 'spacex', 'engineersfeed', 'tbh', 'confess', 'occasionally', 'pontificating', 'highconcept', 'things', 'engineersfeed', 'pretty', 'erdayastronaut', 'nosecone', 'closing', 'recommended', 'required', 'safe', 'entry', 'space', 'travel', 'common', 'air', 'travel', 'future', 'civilization', 'assured', 'rt', 'nasa', 'touched', 'endeavour', 'moment', 'cherish', 'day', 'touching', 'words', 'astrodoug', 'waitbutwhy', 'space', 'air', 'rt', 'nasa', 'live', 'update', 'todays', 'spacex', 'dragon', 'endeavour', 'splashdown', 'returning', 'astrobehnken', 'amp', 'astrodoug', 'home', 'earth', 'hear', 'rt', 'jimbridenstine', 'update', 'postspacex', 'crew', 'dragon', 'dm', 'splashdown', 'news', 'conference', 'earlier', 'pm', 'watch', 'live', 'httpstcoqpe', 'congratulations', 'spacex', 'amp', 'nasa', 'completing', 'crewed', 'dragon', 'flight', 'returned', 'rt', 'spacex', 'webcast', 'crew', 'dragons', 'return', 'earth', 'spacestation', 'astrobehnken', 'astrodoug', 'httpstcobjfjlczwdk', 'rt', 'spacex', 'good', 'splashdown', 'dragon', 'confirmed', 'back', 'earth', 'astrobehnken', 'astrodoug', 'httpstco', 'vas', 'cck', 'dragon', 'stable', 'water', 'acquisition', 'signal', 'expected', 'mins', 'mins', 'dragon', 'loss', 'signal', 'due', 'atmospheric', 'entry', 'plasma', 'dragon', 'travel', 'south', 'zealand', 'florida', 'minutes', 'coming', 'hot', 'httpstcodzfr', 'bnbff', 'astronauts', 'land', 'hours', 'nasa', 'spacex', 'rt', 'spacex', 'crew', 'dragons', 'flight', 'back', 'earth', 'astrobehnken', 'astrodoug', 'remains', 'track', 'targeting', 'splashdown', 'coast', 'erdayastronaut', 'spacex', 'prove', 'superdraco', 'landing', 'work', 'propulsive', 'hover', 'httpstcomr', 'vfiqwwf', 'erdayastronaut', 'spacex', 'correct', 'parachutes', 'originally', 'backup', 'landing', 'system', 'superdraco', 'thruster', 'httpstco', 'odu', 'meier', 'spacex', 'spacestation', 'astrobehnken', 'astrodoug', 'great', 'game', 'natalcicuto', 'tesla', 'kristennetten', 'teslaforthewin', 'working', 'rt', 'commercialcrew', 'astrodoug', 'amp', 'astrobehnken', 'spend', 'night', 'space', 'prior', 'returning', 'homeland', 'earthwhile', 'rt', 'nasa', 'view', 'inside', 'spacex', 'dragon', 'endeavour', 'astrobehnken', 'amp', 'astrodoug', 'monitor', 'departure', 'spacestation', 'ht', 'rt', 'spacex', 'separation', 'confirmed', 'dragon', 'performing', 'departure', 'burns', 'move', 'spacestation', 'httpstcoea', 'fozdo', 'rt', 'spacex', 'crew', 'dragon', 'depart', 'spacestation', 'astrobehnken', 'astrodoug', 'hours', 'splash', 'coast', 'engineeringvids', 'simplest', 'solution', 'necessarily', 'satisfying', 'rt', 'cleantechnica', 'tesla', 'autopilot', 'accidents', 'miles', 'average', 'miles', 'httpstconnbetmy', 'tr', 'rt', 'tesla', 'tesla', 'vehicle', 'safety', 'report', 'httpstcoc', 'bbwgc', 'httpstcoxxvcwmrtws', 'cybrtrck', 'absolutely', 'longlasting', 'art', 'incredibly', 'difficult', 'bbc', 'article', 'summary', 'httpstcole', 'bwid', 'rt', 'jimbridenstine', 'news', 'teams', 'nasa', 'spacex', 'remain', 'plans', 'bring', 'astrodoug', 'astrobehnken', 'home', 'earth', 'sunday', 'rt', 'nasa', 'theyre', 'coming', 'home', 'aug', 'astronauts', 'astrobehnken', 'astrodoug', 'depart', 'spacestation', 'spacexs', 'crew', 'dra', 'great', 'pyramid', 'tallest', 'structure', 'made', 'humans', 'years', 'thousand', 'hundred', 'years', 'httpstco', 'du', 'embni', 'rt', 'commercialcrew', 'nasa', 'spacex', 'remain', 'plans', 'bring', 'astrodoug', 'astrobehnken', 'home', 'earth', 'weekend', 'teams', 'waitbutwhy', 'true', 'ramses', 'ii', 'aliens', 'built', 'pyramids', 'obv', 'iearnsomethlng', 'ancient', 'egypt', 'incredible', 'esthetic', 'stands', 'day', 'notch', 'matfabrix', 'engineersfeed', 'witch', 'logic', 'httpstcoo', 'xaopsnw', 'matfabrix', 'engineersfeed', 'things', 'granted', 'flying', 'burned', 'stake', 'witchcraft', 'long', 'ago', 'engineersfeed', 'engineering', 'magic', 'made', 'real', 'janeidyeve', 'lo', 'construimos', 'httpstco', 'yg', 'gatgv', 'thesheetztweetz', 'cool', 'httpstco', 'lpvwbec', 'starship', 'sn', 'completed', 'full', 'duration', 'static', 'fire', 'hop', 'total', 'eclipse', 'heart', 'httpstcon', 'djdlknbe', 'lnterestingmaps', 'iearnsomethlng', 'bluemoondance', 'ppathole', 'flcnhvy', 'shravantr', 'neuroskeptic', 'im', 'aware', 'ppathole', 'flcnhvy', 'shravantr', 'neuroskeptic', 'extend', 'range', 'hearing', 'normal', 'frequencies', 'amplitudes', 'deus', 'flcnhvy', 'shravantr', 'neuroskeptic', 'neuralinks', 'meant', 'mature', 'brains', 'amp', 'functionality', 'lost', 'remo', 'httpstcoc', 'rravz', 'shravantr', 'neuroskeptic', 'create', 'neural', 'shunt', 'motor', 'cortex', 'microcontrollers', 'httpstcohppvgjfhms', 'neuroskeptic', 'show', 'neurons', 'firing', 'realtime', 'august', 'matrix', 'matrix', 'neuroskeptic', 'dont', 'fire', 'seconds', 'minutes', 'firing', 'fire', 'ti', 'httpstcoky', 'oyzyx', 'nasapersevere', 'ulalaunch', 'nasalsp', 'congrats', 'great', 'launch', 'touch', 'httpstcokmassjctix', 'jelle', 'anvithvittal', 'dnpthree', 'tiesto', 'adagio', 'strings', 'greathttpstcorgy', 'vgou', 'losing', 'ithttpstco', 'hoy', 'ldzg', 'eurosandor', 'rsprachrohr', 'renatakonkoly', 'sneakyness', 'mein', 'herz', 'brennt', 'boss', 'battle', 'song', 'httpstcojil', 'vzhqax', 'flcnhvy', 'robot', 'heart', 'sneakyness', 'time', 'tobyliiiiiiiiii', 'good', 'ravewhats', 'favorite', 'techno', 'died', 'arms', 'tonight', 'rumor', 'bill', 'gates', 'amp', 'lovers', 'completely', 'untrue', 'wholemarsblog', 'ppathole', 'yeah', 'display', 'render', 'teslas', 'specifically', 'model', 'amp', 'color', 'httpstco', 'lpnpltp', 'keith', 'ppathole', 'httpstcos', 'mdwgcdfg', 'keith', 'ppathole', 'weve', 'working', 'years', 'originally', 'meant', 'rabies', 'vaccine', 'httpstcofsf', 'xhiii', 'keith', 'ppathole', 'httpstco', 'kaav', 'dtnn', 'ppathole', 'billy', 'lover', 'ppathole', 'sounds', 'doesnt', 'realize', 'tesla', 'makes', 'vaccine', 'machine', 'curevac', 'mkarolian', 'tesla', 'letting', 'dig', 'greendragonbot', 'thesheetztweetz', 'sum', 'gt', 'parts', 'teslarati', 'add', 'miles', 'range', 'slow', 'traffic', 'kristennetten', 'xiangaw', 'owensparks', 'berniesanders', 'government', 'money', 'talk', 'trillions', 'jgrano', 'teslaownersnbay', 'haha', 'top', 'secret', 'fart', 'technology', 'teslaownersnbay', 'samlopezxx', 'teslarati', 'teslarati', 'tesla', 'open', 'licensing', 'software', 'supplying', 'powertrains', 'amp', 'batteries', 'accelera', 'httpstco', 'vgklwda', 'xiangaw', 'owensparks', 'berniesanders', 'doesnt', 'government', 'monopolist', 'corporation', 'limit', 'slashdot', 'techgnostik', 'schristakos', 'berniesanders', 'agreed', 'evafoxu', 'schristakos', 'berniesanders', 'haha', 'dmcryan', 'rodamn', 'prototype', 'color', 'schristakos', 'berniesanders', 'bernie', 'httpstcoadojs', 'uce', 'vistacruiser', 'schristakos', 'berniesanders', 'berniesanders', 'schristakos', 'berniesanders', 'hes', 'feeling', 'bern', 'haha', 'nasaspaceflight', 'fuel', 'spin', 'valve', 'didnt', 'open', 'fix', 'amp', 'tomorrow', 'odd', 'tvc', 'hydraulic', 'pump', 'behavior', 'nasaspaceflight', 'launch', 'pad', 'connector', 'damaged', 'storm', 'fixed', 'httpstcofb', 'noq', 'prisonplanet', 'commercial', 'government', 'monopolies', 'bad', 'people', 'teslarati', 'sounds', 'great', 'ennnafnlaus', 'theonion', 'haha', 'das', 'kapital', 'nutshell', 'httpstcomg', 'mmkitx', 'anthm', 'great', 'sense', 'humor', 'left', 'losing', 'middle', 'rationaletienne', 'theonion', 'rationaletienne', 'atnickvega', 'theonion', 'hold', 'beer', 'httpstcoik', 'tt', 'wp', 'theonion', 'onion', 'rose', 'atnickvega', 'theonion', 'wow', 'lot', 'youranonnews', 'dropped', 'youranonnews', 'evafoxu', 'haha', 'rt', 'teslacn', 'pick', 'energetic', 'wallpapers', 'charge', 'everyday', 'adventure', 'httpstcohotdtlpdpw', 'cleantechnica', 'giga', 'berlin', 'impossibleseeming', 'speed', 'prefabricated', 'construction', 'method', 'httpstcox', 'drfewial', 'decade', 'ago', 'original', 'dragon', 'background', 'ppathole', 'rhiddhid', 'ya', 'beat', 'br', 'httpstcoufay', 'lzjj', 'avrwc', 'planet', 'claire', 'cybrtrck', 'fair', 'point', 'discuss', 'team', 'rhiddhid', 'amazing', 'great', 'songhttpstcowj', 'ydjglsh', 'spottedmodel', 'cleantechnica', 'nickel', 'biggest', 'challenge', 'highvolume', 'longrange', 'batteries', 'australia', 'amp', 'ca', 'httpstcokq', 'cqogfl', 'picklepunchd', 'cleantechnica', 'samtalkstesla', 'haha', 'cleantechnica', 'lot', 'potential', 'lithium', 'pretty', 'teslarati', 'whoa', 'cool', 'theonion', 'kristennetten', 'yourfavgas', 'ajtourville', 'blue', 'steel', 'mattiecola', 'ajtourville', 'high', 'brinell', 'hardness', 'amp', 'high', 'corrosion', 'resistance', 'cybertrucks', 'faceted', 'httpstcodnkkgadjq', 'flcnhvy', 'yourfavgas', 'ajtourville', 'great', 'fun', 'la', 'austin', 'yourfavgas', 'ajtourville', 'turning', 'shade', 'outdoor', 'restaurant', 'boca', 'ajtourville', 'cool', 'flcnhvy', 'ghostteslaphx', 'delayslater', 'crewtesla', 'jrosinski', 'marcbenton', 'ray', 'tesla', 'ghostteslaphx', 'delayslater', 'crewtesla', 'jrosinski', 'marcbenton', 'ray', 'tesla', 'impossible', 'wholemarsblog', 'days', 'rt', 'ccsakuras', 'httpstcoemkzcfgarz', 'rt', 'mkbhd', 'video', 'tesla', 'model', 'important', 'car', 'httpstco', 'lc', 'rgcj', 'httpstcol', 'zaxyctr', 'teslaownerssv', 'ppathole', 'maureendowd', 'ring', 'fire', 'httpstcogsj', 'np', 'cap', 'iliketeslas', 'pjhornak', 'randyvegetables', 'congratulations', 'people', 'bolivia', 'ppathole', 'maureendowd', 'song', 'whistle', 'strangers', 'night', 'randyvegetables', 'tesla', 'toppled', 'bolivian', 'govt', 'sigh', 'httpstcoyc', 'gaa', 'dw', 'maureendowd', 'great', 'song', 'karaswisher', 'maureendowd', 'elon', 'haha', 'kara', 'erikmaza', 'maureendowd', 'thefavoritist', 'nasaspaceflight', 'bocachicagal', 'yeah', 'hunkering', 'hurricane', 'passes', 'adolfomorenos', 'historyofarmani', 'cool', 'model', 'review', 'iamjamiefoxx', 'httpstcohjdd', 'bjke', 'teslacn', 'tesla', 'add', 'power', 'lift', 'gate', 'cost', 'hansnoordsij', 'agreed', 'hydrogen', 'fool', 'sells', 'make', 'sense', 'pronouns', 'suck', 'historyofarmani', 'lithium', 'australia', 'nichegamer', 'akinfermo', 'yeah', 'send', 'bet', 'twitter', 'guillotine', 'poseurs', 'engineersfeed', 'slow', 'drag', 'cigarette', 'facebook', 'havent', 'heard', 'years', 'twitter', 'sucks', 'stevenbonchev', 'apompliano', 'politicians', 'legislate', 'wealth', 'trillionaire', 'jammed', 'gills', 'special', 'interests', 'earmarks', 'stimulus', 'direct', 'payments', 'consumers', 'ppathole', 'pretty', 'goal', 'government', 'maximize', 'happiness', 'people', 'giving', 'person', 'money', 'decid', 'httpstcolwfxhvksjf', 'reminder', 'im', 'favor', 'universal', 'basic', 'income', 'government', 'stimulus', 'package', 'interests', 'people', 'imo', 'tesla', 'solar', 'panels', 'watt', 'httpstco', 'lplhqgazw', 'realdonaldtrump', 'tesla', 'behalf', 'tesla', 'team', 'forward', 'building', 'giga', 'texas', 'sciguyspace', 'competition', 'ensures', 'companies', 'work', 'hard', 'serve', 'customers', 'schristakos', 'pubg', 'fun', 'coming', 'vincent', 'universalpics', 'tomcruise', 'spacex', 'great', 'teslaownerssv', 'cleantechnica', 'great', 'idea', 'tesla', 'revolutionary', 'actuaries', 'tesla', 'insurance', 'inquire', 'interested', 'cleantechnica', 'tbh', 'bit', 'foolish', 'rt', 'commercialcrew', 'orbit', 'astronauts', 'astrobehnken', 'astrodoug', 'performed', 'habitability', 'assessment', 'spacex', 'crew', 'drago', 'teslarati', 'retail', 'investors', 'hyperchangetv', 'remarkably', 'insightful', 'arkinvest', 'sciguyspace', 'boost', 'stage', 'volumetrically', 'constrained', 'ch', 'soviet', 'ch', 'httpstcoalewbz', 'nfl', 'waitbutwhy', 'basically', 'pixel', 'size', 'ludalisl', 'tesla', 'emphasize', 'tomosman', 'tesla', 'absolutely', 'ajtourville', 'haha', 'cleantechnica', 'agreed', 'internetofshit', 'oven', 'wifi', 'password', 'gon', 'na', 'impressive', 'tianwen', 'mars', 'rover', 'mission', 'launched', 'china', 'today', 'httpstcofsya', 'hru', 'rt', 'tesla', 'httpstcojmkacbrb', 'bbcfuture', 'good', 'article', 'bbcsciencenews', 'similar', 'problem', 'data', 'omgrofloljk', 'good', 'point', 'dont', 'soul', 'soul', 'cleantechnica', 'adding', 'people', 'version', 'minutes', 'httpstcoo', 'fbbtan', 'nytimes', 'day', 'erdayastronaut', 'flcnhvy', 'individualized', 'mass', 'transit', 'future', 'flcnhvy', 'people', 'seated', 'safety', 'amp', 'speed', 'travel', 'coming', 'httpstco', 'noglix', 'wholemarsblog', 'human', 'overseen', 'fully', 'selfdriving', 'janeidyeve', 'involves', 'kable', 'ppathole', 'buckethat', 'stings', 'memes', 'send', 'memes', 'teslatrey', 'finish', 'upgrading', 'autopilot', 'steep', 'slopes', 'gaslit', 'people', 'movie', 'gaslight', 'loomisp', 'msnbc', 'thhour', 'brian', 'williams', 'futurejurvetson', 'great', 'shot', 'rt', 'spacex', 'videos', 'yesterdays', 'catch', 'fairing', 'halves', 'httpstcoyztdfzlull', 'fazeblaze', 'samtalkstesla', 'feel', 'ppathole', 'teslarati', 'bocachicagal', 'attempt', 'fly', 'week', 'srimyneni', 'erdayastronaut', 'considercosmos', 'spacex', 'sound', 'amp', 'flame', 'color', 'glenn', 'teslarati', 'bocachicagal', 'teslarati', 'bocachicagal', 'rapidly', 'changing', 'alloy', 'constituents', 'amp', 'forming', 'methods', 'traditional', 'names', 'httpstcofyuuio', 'dtz', 'flcnhvy', 'cleantechnica', 'point', 'advertising', 'artcommunicationentertainment', 'amp', 'support', 'high', 'quality', 'media', 'rt', 'spacex', 'watch', 'falcon', 'launch', 'anasisii', 'httpstcobjfjlczwdk', 'httpstcoiyhjznzobv', 'das', 'baby', 'kann', 'noch', 'keinen', 'löffel', 'benutzen', 'httpstcouetqvia', 'bp', 'johnnacrider', 'ystijd', 'idaacarmack', 'ystijd', 'idaacarmack', 'talked', 'hour', 'ago', 'fine', 'idaacarmack', 'vr', 'twitter', 'avatars', 'mentions', 'cleantechnica', 'put', 'money', 'product', 'sales', 'amp', 'marketing', 'ppathole', 'bring', 'life', 'mars', 'fairing', 'halves', 'caught', 'space', 'spacex', 'ships', 'rt', 'spacex', 'falcon', 'stage', 'landed', 'read', 'instructions', 'droneship', 'httpstcofpbckyfysh', 'spacex', 'nice', 'work', 'spacex', 'team', 'flcnhvy', 'astrobehnken', 'astrodoug', 'spacex', 'long', 'reuse', 'matters', 'degree', 'rapid', 'amp', 'complete', 'nasahqphoto', 'long', 'launch', 'mins', 'httpstco', 'oltpnw', 'wholemarsblog', 'cleantechnica', 'months', 'production', 'release', 'alpha', 'build', 'cleantechnica', 'lithium', 'extremely', 'common', 'earth', 'found', 'nishy', 'hiromichimizuno', 'congratulations', 'mhi', 'amp', 'uae', 'bar', 'joebangles', 'teslarati', 'stilton', 'kristennetten', 'businessinsider', 'deep', 'crimson', 'giga', 'berlin', 'favorite', 'teslarati', 'important', 'service', 'high', 'latitudes', 'confiantman', 'american', 'born', 'south', 'africa', 'left', 'businessinsider', 'true', 'model', 'great', 'car', 'driving', 'sn', 'months', 'ago', 'driving', 'feel', 'wa', 'httpstcomrutle', 'rt', 'businessinsider', 'teslas', 'model', 'received', 'top', 'marks', 'safety', 'organizations', 'north', 'america', 'europe', 'australia', 'httpstconb', 'teslaownerssv', 'stephenpallotta', 'discuss', 'wed', 'earnings', 'call', 'lots', 'talk', 'stephenpallotta', 'ahoward', 'hiromichimizuno', 'cool', 'ppathole', 'potential', 'maxxrpbtc', 'thecryptolark', 'manny', 'manny', 'jungleincxrp', 'digitalassetbuy', 'moonlamboio', 'jwilliamsfstmed', 'good', 'article', 'httpstcoanite', 'dlj', 'teslaownerssv', 'waitbutwhy', 'set', 'tours', 'astrobehnken', 'spacex', 'nasa', 'spacestation', 'manufactured', 'mins', 'lax', 'waitbutwhy', 'contribute', 'chromosome', 'amp', 'mitochondria', 'constant', 'mutations', 'bwillofficial', 'wholemarsblog', 'neuralink', 'kristennetten', 'part', 'surgery', 'scale', 'fully', 'automated', 'lasik', 'solve', 'lot', 'brainspine', 'injuries', 'amp', 'ultimately', 'essential', 'ai', 'symbiosis', 'fermatslibrary', 'fermi', 'awesome', 'understood', 'questions', 'rt', 'archillect', 'httpstcovr', 'thokncp', 'ttwegner', 'flcnhvy', 'ttwegner', 'flcnhvy', 'bde', 'ttwegner', 'flcnhvy', 'hulk', 'loses', 'pants', 'flcnhvy', 'ppathole', 'prior', 'neuroscience', 'background', 'required', 'primarily', 'electricalelectronic', 'chip', 'designme', 'httpstcovmq', 'atdv', 'rt', 'spacex', 'targeting', 'monday', 'july', 'falcon', 'launch', 'anasisii', 'slc', 'solving', 'highvolume', 'highreliability', 'lowcost', 'production', 'problems', 'valued', 'youve', 'solved', 'hard', 'problems', 'phones', 'wearables', 'sealing', 'signal', 'processing', 'inductive', 'charging', 'power', 'mgmt', 'httpstcorq', 'awmzxvo', 'serhatserhatst', 'ppathole', 'summarizes', 'pretty', 'biz', 'school', 'case', 'study', 'inevitable', 'httpstcoebknqm', 'qyf', 'izzynobre', 'excuse', 'sell', 'doge', 'write', 'algorithms', 'realize', 'negativity', 'bias', 'modelyendofice', 'wintonark', 'pretty', 'wintonark', 'hustle', 'neuralink', 'moving', 'fast', 'stop', 'evafoxu', 'ppathole', 'kristennetten', 'lewismartin', 'engineersfeed', 'gigafactory', 'product', 'car', 'zikryzamir', 'engineersfeed', 'carefully', 'hidden', 'teslaownerssv', 'kristennetten', 'kristennetten', 'indooroutdoor', 'rave', 'space', 'roof', 'giga', 'berlin', 'httpstcouxqmuvtwxf', 'pontolemaeus', 'silverdegeneral', 'bbcsciencenews', 'problem', 'ratio', 'retirees', 'workers', 'httpstcoqivas', 'gtpc', 'vincentdiong', 'gerberkawasaki', 'flcnhvy', 'spacex', 'small', 'note', 'latch', 'post', 'base', 'amp', 'powered', 'ethernet', 'wire', 'obtrusive', 'production', 'version', 'bbcsciencenews', 'httpstcoxxrxfrqhbs', 'ppathole', 'bbcsciencenews', 'thing', 'call', 'money', 'slow', 'lossy', 'amp', 'unsecure', 'database', 'labor', 'allocati', 'httpstco', 'vcgj', 'nnalinas', 'bbcsciencenews', 'set', 'good', 'haha', 'mars', 'people', 'gerberkawasaki', 'great', 'work', 'tesla', 'software', 'engineering', 'bbcsciencenews', 'population', 'collapse', 'biggest', 'danger', 'civilization', 'ai', 'imo', 'erdayastronaut', 'flcnhvy', 'spacex', 'yeah', 'minute', 'order', 'httpstcoq', 'vvqvmj', 'live', 'flcnhvy', 'spacex', 'starlink', 'terminal', 'motors', 'selforient', 'optimal', 'view', 'angle', 'expert', 'installer', 'required', 'httpstcoxndtxrdnl', 'niksanae', 'alexavoigt', 'wholemarsblog', 'erdayastronaut', 'thesheetztweetz', 'brycespacetech', 'spacex', 'ulalaunch', 'torybruno', 'mhigroup', 'roscosmos', 'peterjbeck', 'httpstcoirmxfy', 'teslaaircraft', 'flcnhvy', 'tesla', 'wholemarsblog', 'tesla', 'autopilot', 'literally', 'named', 'term', 'aviation', 'autobahn', 'teslaownerssv', 'engineersfeed', 'strength', 'amp', 'perseverance', 'people', 'tesla', 'facing', 'extreme', 'difficulties', 'engineersfeed', 'playable', 'tesla', 'efficiencylast', 'jaminwestby', 'teslaownerssv', 'jgrano', 'teslaratiteam', 'teslarati', 'automatically', 'thesheetztweetz', 'brycespacetech', 'spacex', 'ulalaunch', 'torybruno', 'mhigroup', 'roscosmos', 'mass', 'orbit', 'accura', 'httpstcoltqh', 'vulgc', 'teslarati', 'cute', 'davidtayar', 'teslalisa', 'stevehamel', 'vincent', 'spadival', 'barkmsmeagol', 'annerajb', 'pjhornak', 'wpipperger', 'ecoheliguy', 'wow', 'katlinegrey', 'reusability', 'essential', 'rocket', 'single', 'absurd', 'single', 'airplane', 'httpstcowfnfst', 'vincent', 'wild', 'times', 'spaceflightnow', 'extra', 'paranoid', 'maximizing', 'probability', 'successful', 'launch', 'paramount', 'summergamefest', 'anytime', 'bradyleonard', 'care', 'sustainability', 'civilization', 'truth', 'irony', 'part', 'haha', 'teslatn', 'jgrano', 'teslaratiteam', 'teslarati', 'dollyparton', 'plan', 'superchargers', 'public', 'high', 'power', 'wall', 'httpstcojzxsr', 'chrisjcav', 'jgrano', 'teslaratiteam', 'teslarati', 'jaminwestby', 'teslaownerssv', 'jgrano', 'teslaratiteam', 'teslarati', 'jgrano', 'teslaratiteam', 'teslarati', 'range', 'testing', 'number', 'significantly', 'higher', 'extreme', 'httpstcofs', 'pmcioic', 'jgrano', 'teslaratiteam', 'teslarati', 'reduced', 'pricing', 'model', 'lr', 'dual', 'motor', 'amp', 'offer', 'lr', 'single', 'moto', 'httpstcofbhkiihsc', 'teslaownerssv', 'jgrano', 'teslaratiteam', 'teslarati', 'vicentes', 'teslaratiteam', 'teslarati', 'reach', 'kw', 'low', 'states', 'charge', 'jgrano', 'teslaratiteam', 'teslarati', 'range', 'unacceptably', 'low', 'lt', 'mile', 'epa', 'teslaratiteam', 'teslarati', 'increase', 'wire', 'thicknesses', 'sx', 'reduce', 'resistive', 'heating', 'technically', 'httpstcotcivzvc', 'ra', 'mightytesla', 'samtalkstesla', 'elonsworld', 'nikolatruth', 'wholemarsblog', 'renatakonkoly', 'stevenmarkryan', 'httpstcoiu', 'lmuqes', 'wholemarsblog', 'ppathole', 'nearterm', 'danger', 'ai', 'nichegamer', 'didnt', 'mind', 'da', 'da', 'awesome', 'mass', 'effect', 'talking', 'sequels', 'amazing', 'mkbhd', 'haha', 'oprahside', 'design', 'flag', 'mars', 'engineersfeed', 'httpstco', 'mqxfakpzf', 'spoke', 'korolevs', 'family', 'todayhe', 'aliafshari', 'general', 'improve', 'podcasts', 'play', 'optimoprincipi', 'spqr', 'httpstcogvfc', 'bhz', 'djzinc', 'kenyanwalstreet', 'true', 'haha', 'rationaletienne', 'flcnhvy', 'ppathole', 'ihearttesla', 'death', 'loss', 'information', 'thatt', 'slaguy', 'flcnhvy', 'ppathole', 'ihearttesla', 'earning', 'power', 'post', 'augmentation', 'easily', 'pay', 'httpstcobpzwersoys', 'flcnhvy', 'ppathole', 'ihearttesla', 'absolutely', 'teslaparatodos', 'evafoxu', 'tesla', 'mjkapkan', 'evafoxu', 'tesla', 'good', 'design', 'amp', 'engineer', 'germany', 'bluebnd', 'evafoxu', 'tesla', 'techgnostik', 'evafoxu', 'tesla', 'scr', 'chy', 'evafoxu', 'tesla', 'evafoxu', 'tesla', 'berlin', 'model', 'watch', 'revolution', 'automotive', 'body', 'engineering', 'finally', 'burakaydik', 'true', 'wow', 'ihop', 'amp', 'github', 'close', 'term', 'full', 'stack', 'ppathole', 'ihearttesla', 'great', 'amp', 'terrifying', 'weve', 'sensed', 'thought', 'httpstcob', 'zxd', 'qd', 'redmercy', 'buzzindelhi', 'kenyanwalstreet', 'payout', 'vesting', 'stock', 'options', 'pay', 'stock', 'httpstco', 'zg', 'stxt', 'ihearttesla', 'easy', 'answer', 'tweet', 'helping', 'dire', 'brain', 'injuries', 'priority', 'details', 'aug', 'ai', 'symbiosis', 'wait', 'vistacruiser', 'flcnhvy', 'flcnhvy', 'true', 'sounds', 'surreal', 'negative', 'propaganda', 'amp', 'easy', 'find', 'social', 'httpstcowjrzibkh', 'ppathole', 'make', 'read', 'ur', 'terms', 'amp', 'conditions', 'clicking', 'accept', 'teslagong', 'ppathole', 'samwise', 'gamgee', 'ppathole', 'altho', 'dumb', 'dumber', 'progress', 'update', 'august']\n"
     ]
    }
   ],
   "source": [
    "import nltk\n",
    "from nltk.tokenize import word_tokenize\n",
    "import warnings\n",
    "\n",
    "warnings.filterwarnings(\"ignore\", category=UserWarning, module='nltk')\n",
    "\n",
    "nltk.download('punkt', quiet=True)\n",
    "\n",
    "df_token = word_tokenize(text_3_alternative)\n",
    "print(df_token)\n"
   ]
  },
  {
   "cell_type": "markdown",
   "id": "b08501e9",
   "metadata": {},
   "source": [
    "## Normalisation"
   ]
  },
  {
   "cell_type": "code",
   "execution_count": 33,
   "id": "1aa888c5",
   "metadata": {},
   "outputs": [
    {
     "name": "stdout",
     "output_type": "stream",
     "text": [
      "['kunalb', 'im', 'alien', 'idaacarmack', 'ray', 'tracing', 'cyberpunk', 'hdr', 'nextlevel', 'joerogan', 'spotify', 'great', 'interview', 'gtera', 'doge', 'underestimated', 'teslacn', 'congratulations', 'tesla', 'china', 'amazing', 'execution', 'year', 'happy', 'year']\n"
     ]
    }
   ],
   "source": [
    "lower_words = [x.lower() for x in df_token]\n",
    "print(lower_words[0:25])"
   ]
  },
  {
   "cell_type": "markdown",
   "id": "6bb4d720",
   "metadata": {},
   "source": [
    "## Stemming"
   ]
  },
  {
   "cell_type": "code",
   "execution_count": 34,
   "id": "49465b33",
   "metadata": {},
   "outputs": [
    {
     "name": "stdout",
     "output_type": "stream",
     "text": [
      "['kunalb', 'im', 'alien', 'idaacarmack', 'ray', 'trace', 'cyberpunk', 'hdr', 'nextlevel', 'joerogan', 'spotifi', 'great', 'interview', 'gtera', 'doge', 'underestim', 'teslacn', 'congratul', 'tesla', 'china', 'amaz', 'execut', 'year', 'happi', 'year', 'ox', 'httpstco', 'wfkmyu', 'oj', 'frodo', 'underdogeal', 'thought', 'failhimself', 'httpstcozgxjfdzzrm', 'owenspark', 'flcnhvi', 'anonyx', 'haha', 'flcnhvi', 'anonyx']\n"
     ]
    }
   ],
   "source": [
    "from nltk.stem import PorterStemmer\n",
    "ps = PorterStemmer()\n",
    "stemmed_tokens = [ps.stem(word) for word in lower_words]\n",
    "print(stemmed_tokens[0:40])"
   ]
  },
  {
   "cell_type": "markdown",
   "id": "eebc4a09",
   "metadata": {},
   "source": [
    "## Stop Word Removal"
   ]
  },
  {
   "cell_type": "code",
   "execution_count": 35,
   "id": "21f63280",
   "metadata": {},
   "outputs": [],
   "source": [
    "no_stop_stemmed= [word for word in stemmed_tokens if not word in my_stop_words]"
   ]
  },
  {
   "cell_type": "code",
   "execution_count": 36,
   "id": "2ecf7f0f",
   "metadata": {},
   "outputs": [
    {
     "name": "stdout",
     "output_type": "stream",
     "text": [
      "12963\n",
      "12869\n"
     ]
    }
   ],
   "source": [
    "print(len(stemmed_tokens))\n",
    "print(len(no_stop_stemmed))"
   ]
  },
  {
   "cell_type": "code",
   "execution_count": 37,
   "id": "a7140f8d",
   "metadata": {},
   "outputs": [],
   "source": [
    "import spacy"
   ]
  },
  {
   "cell_type": "code",
   "execution_count": 38,
   "id": "f715e3a1",
   "metadata": {},
   "outputs": [],
   "source": [
    "nlp = spacy.load('en_core_web_sm')"
   ]
  },
  {
   "cell_type": "markdown",
   "id": "89c4d5b5",
   "metadata": {},
   "source": [
    "## Lemmatization"
   ]
  },
  {
   "cell_type": "code",
   "execution_count": 39,
   "id": "aa6d1d80",
   "metadata": {},
   "outputs": [
    {
     "name": "stdout",
     "output_type": "stream",
     "text": [
      "kunalb im alien idaacarmack ray trace cyberpunk hdr nextlevel joerogan spotifi great interview gtera doge underestim teslacn congratul tesla china amaz execut year happi year ox httpstco wfkmyu oj frodo underdogeal thought failhimself httpstcozgxjfdzzrm owenspark flcnhvi anonyx haha flcnhvi\n"
     ]
    }
   ],
   "source": [
    "doc = nlp(' '.join(no_stop_stemmed))\n",
    "print(doc[0:40])"
   ]
  },
  {
   "cell_type": "code",
   "execution_count": 40,
   "id": "d749a254",
   "metadata": {},
   "outputs": [
    {
     "name": "stdout",
     "output_type": "stream",
     "text": [
      "['kunalb', 'i', 'm', 'alien', 'idaacarmack', 'ray', 'trace', 'cyberpunk', 'hdr', 'nextlevel', 'joerogan', 'spotifi', 'great', 'interview', 'gtera', 'doge', 'underestim', 'teslacn', 'congratul', 'tesla', 'china', 'amaz', 'execut', 'year', 'happi']\n"
     ]
    }
   ],
   "source": [
    "lemmas = [token.lemma_ for token in doc]\n",
    "print(lemmas[0:25])"
   ]
  },
  {
   "cell_type": "markdown",
   "id": "cf5391b8",
   "metadata": {},
   "source": [
    "## Feature Extraction"
   ]
  },
  {
   "cell_type": "code",
   "execution_count": 41,
   "id": "f205d512",
   "metadata": {},
   "outputs": [
    {
     "data": {
      "text/plain": [
       "<12960x4586 sparse matrix of type '<class 'numpy.int64'>'\n",
       "\twith 12895 stored elements in Compressed Sparse Row format>"
      ]
     },
     "execution_count": 41,
     "metadata": {},
     "output_type": "execute_result"
    }
   ],
   "source": [
    "from sklearn.feature_extraction.text import CountVectorizer\n",
    "vectorizer = CountVectorizer()\n",
    "X = vectorizer.fit_transform(lemmas)\n",
    "X"
   ]
  },
  {
   "cell_type": "code",
   "execution_count": 42,
   "id": "febb19c3",
   "metadata": {},
   "outputs": [
    {
     "data": {
      "text/plain": [
       "(12960, 4586)"
      ]
     },
     "execution_count": 42,
     "metadata": {},
     "output_type": "execute_result"
    }
   ],
   "source": [
    "X.shape"
   ]
  },
  {
   "cell_type": "code",
   "execution_count": 43,
   "id": "41cfd01b",
   "metadata": {},
   "outputs": [],
   "source": [
    "from wordcloud import WordCloud, STOPWORDS\n",
    "from PIL import Image\n",
    "from nltk.stem import SnowballStemmer\n",
    "from sklearn.feature_extraction.text import CountVectorizer"
   ]
  },
  {
   "cell_type": "code",
   "execution_count": 44,
   "id": "1638779f",
   "metadata": {},
   "outputs": [
    {
     "data": {
      "text/html": [
       "<div>\n",
       "<style scoped>\n",
       "    .dataframe tbody tr th:only-of-type {\n",
       "        vertical-align: middle;\n",
       "    }\n",
       "\n",
       "    .dataframe tbody tr th {\n",
       "        vertical-align: top;\n",
       "    }\n",
       "\n",
       "    .dataframe thead th {\n",
       "        text-align: right;\n",
       "    }\n",
       "</style>\n",
       "<table border=\"1\" class=\"dataframe\">\n",
       "  <thead>\n",
       "    <tr style=\"text-align: right;\">\n",
       "      <th></th>\n",
       "      <th>ab</th>\n",
       "      <th>aber</th>\n",
       "      <th>abo</th>\n",
       "      <th>aboard</th>\n",
       "      <th>abort</th>\n",
       "      <th>absenc</th>\n",
       "      <th>absolut</th>\n",
       "      <th>absorb</th>\n",
       "      <th>absorpt</th>\n",
       "      <th>absurd</th>\n",
       "      <th>...</th>\n",
       "      <th>zshauladventur</th>\n",
       "      <th>zsyalvczx</th>\n",
       "      <th>ztn</th>\n",
       "      <th>zubinanari</th>\n",
       "      <th>zvm</th>\n",
       "      <th>zwiebelbach</th>\n",
       "      <th>zxd</th>\n",
       "      <th>zz</th>\n",
       "      <th>zzcool</th>\n",
       "      <th>ðogecoin</th>\n",
       "    </tr>\n",
       "  </thead>\n",
       "  <tbody>\n",
       "    <tr>\n",
       "      <th>0</th>\n",
       "      <td>0</td>\n",
       "      <td>0</td>\n",
       "      <td>0</td>\n",
       "      <td>0</td>\n",
       "      <td>0</td>\n",
       "      <td>0</td>\n",
       "      <td>0</td>\n",
       "      <td>0</td>\n",
       "      <td>0</td>\n",
       "      <td>0</td>\n",
       "      <td>...</td>\n",
       "      <td>0</td>\n",
       "      <td>0</td>\n",
       "      <td>0</td>\n",
       "      <td>0</td>\n",
       "      <td>0</td>\n",
       "      <td>0</td>\n",
       "      <td>0</td>\n",
       "      <td>0</td>\n",
       "      <td>0</td>\n",
       "      <td>0</td>\n",
       "    </tr>\n",
       "    <tr>\n",
       "      <th>1</th>\n",
       "      <td>0</td>\n",
       "      <td>0</td>\n",
       "      <td>0</td>\n",
       "      <td>0</td>\n",
       "      <td>0</td>\n",
       "      <td>0</td>\n",
       "      <td>0</td>\n",
       "      <td>0</td>\n",
       "      <td>0</td>\n",
       "      <td>0</td>\n",
       "      <td>...</td>\n",
       "      <td>0</td>\n",
       "      <td>0</td>\n",
       "      <td>0</td>\n",
       "      <td>0</td>\n",
       "      <td>0</td>\n",
       "      <td>0</td>\n",
       "      <td>0</td>\n",
       "      <td>0</td>\n",
       "      <td>0</td>\n",
       "      <td>0</td>\n",
       "    </tr>\n",
       "    <tr>\n",
       "      <th>2</th>\n",
       "      <td>0</td>\n",
       "      <td>0</td>\n",
       "      <td>0</td>\n",
       "      <td>0</td>\n",
       "      <td>0</td>\n",
       "      <td>0</td>\n",
       "      <td>0</td>\n",
       "      <td>0</td>\n",
       "      <td>0</td>\n",
       "      <td>0</td>\n",
       "      <td>...</td>\n",
       "      <td>0</td>\n",
       "      <td>0</td>\n",
       "      <td>0</td>\n",
       "      <td>0</td>\n",
       "      <td>0</td>\n",
       "      <td>0</td>\n",
       "      <td>0</td>\n",
       "      <td>0</td>\n",
       "      <td>0</td>\n",
       "      <td>0</td>\n",
       "    </tr>\n",
       "    <tr>\n",
       "      <th>3</th>\n",
       "      <td>0</td>\n",
       "      <td>0</td>\n",
       "      <td>0</td>\n",
       "      <td>0</td>\n",
       "      <td>0</td>\n",
       "      <td>0</td>\n",
       "      <td>0</td>\n",
       "      <td>0</td>\n",
       "      <td>0</td>\n",
       "      <td>0</td>\n",
       "      <td>...</td>\n",
       "      <td>0</td>\n",
       "      <td>0</td>\n",
       "      <td>0</td>\n",
       "      <td>0</td>\n",
       "      <td>0</td>\n",
       "      <td>0</td>\n",
       "      <td>0</td>\n",
       "      <td>0</td>\n",
       "      <td>0</td>\n",
       "      <td>0</td>\n",
       "    </tr>\n",
       "    <tr>\n",
       "      <th>4</th>\n",
       "      <td>0</td>\n",
       "      <td>0</td>\n",
       "      <td>0</td>\n",
       "      <td>0</td>\n",
       "      <td>0</td>\n",
       "      <td>0</td>\n",
       "      <td>0</td>\n",
       "      <td>0</td>\n",
       "      <td>0</td>\n",
       "      <td>0</td>\n",
       "      <td>...</td>\n",
       "      <td>0</td>\n",
       "      <td>0</td>\n",
       "      <td>0</td>\n",
       "      <td>0</td>\n",
       "      <td>0</td>\n",
       "      <td>0</td>\n",
       "      <td>0</td>\n",
       "      <td>0</td>\n",
       "      <td>0</td>\n",
       "      <td>0</td>\n",
       "    </tr>\n",
       "  </tbody>\n",
       "</table>\n",
       "<p>5 rows × 4586 columns</p>\n",
       "</div>"
      ],
      "text/plain": [
       "   ab  aber  abo  aboard  abort  absenc  absolut  absorb  absorpt  absurd  \\\n",
       "0   0     0    0       0      0       0        0       0        0       0   \n",
       "1   0     0    0       0      0       0        0       0        0       0   \n",
       "2   0     0    0       0      0       0        0       0        0       0   \n",
       "3   0     0    0       0      0       0        0       0        0       0   \n",
       "4   0     0    0       0      0       0        0       0        0       0   \n",
       "\n",
       "   ...  zshauladventur  zsyalvczx  ztn  zubinanari  zvm  zwiebelbach  zxd  zz  \\\n",
       "0  ...               0          0    0           0    0            0    0   0   \n",
       "1  ...               0          0    0           0    0            0    0   0   \n",
       "2  ...               0          0    0           0    0            0    0   0   \n",
       "3  ...               0          0    0           0    0            0    0   0   \n",
       "4  ...               0          0    0           0    0            0    0   0   \n",
       "\n",
       "   zzcool  ðogecoin  \n",
       "0       0         0  \n",
       "1       0         0  \n",
       "2       0         0  \n",
       "3       0         0  \n",
       "4       0         0  \n",
       "\n",
       "[5 rows x 4586 columns]"
      ]
     },
     "execution_count": 44,
     "metadata": {},
     "output_type": "execute_result"
    }
   ],
   "source": [
    "count_vect_df = pd.DataFrame(X.toarray(), columns=vectorizer.get_feature_names_out())\n",
    "count_vect_df.head()"
   ]
  },
  {
   "cell_type": "code",
   "execution_count": 45,
   "id": "eb8bdcc5",
   "metadata": {},
   "outputs": [
    {
     "data": {
      "text/html": [
       "<div>\n",
       "<style scoped>\n",
       "    .dataframe tbody tr th:only-of-type {\n",
       "        vertical-align: middle;\n",
       "    }\n",
       "\n",
       "    .dataframe tbody tr th {\n",
       "        vertical-align: top;\n",
       "    }\n",
       "\n",
       "    .dataframe thead th {\n",
       "        text-align: right;\n",
       "    }\n",
       "</style>\n",
       "<table border=\"1\" class=\"dataframe\">\n",
       "  <thead>\n",
       "    <tr style=\"text-align: right;\">\n",
       "      <th></th>\n",
       "      <th>0</th>\n",
       "    </tr>\n",
       "  </thead>\n",
       "  <tbody>\n",
       "    <tr>\n",
       "      <th>zbt</th>\n",
       "      <td>4556</td>\n",
       "    </tr>\n",
       "    <tr>\n",
       "      <th>zcf</th>\n",
       "      <td>4557</td>\n",
       "    </tr>\n",
       "    <tr>\n",
       "      <th>zczinfc</th>\n",
       "      <td>4558</td>\n",
       "    </tr>\n",
       "    <tr>\n",
       "      <th>zddfql</th>\n",
       "      <td>4559</td>\n",
       "    </tr>\n",
       "    <tr>\n",
       "      <th>zealand</th>\n",
       "      <td>4560</td>\n",
       "    </tr>\n",
       "    <tr>\n",
       "      <th>zeitma</th>\n",
       "      <td>4561</td>\n",
       "    </tr>\n",
       "    <tr>\n",
       "      <th>zenit</th>\n",
       "      <td>4562</td>\n",
       "    </tr>\n",
       "    <tr>\n",
       "      <th>zg</th>\n",
       "      <td>4563</td>\n",
       "    </tr>\n",
       "    <tr>\n",
       "      <th>zihfeg</th>\n",
       "      <td>4564</td>\n",
       "    </tr>\n",
       "    <tr>\n",
       "      <th>zikryzamir</th>\n",
       "      <td>4565</td>\n",
       "    </tr>\n",
       "    <tr>\n",
       "      <th>zip</th>\n",
       "      <td>4566</td>\n",
       "    </tr>\n",
       "    <tr>\n",
       "      <th>zk</th>\n",
       "      <td>4567</td>\n",
       "    </tr>\n",
       "    <tr>\n",
       "      <th>zlkc</th>\n",
       "      <td>4568</td>\n",
       "    </tr>\n",
       "    <tr>\n",
       "      <th>zmqgbo</th>\n",
       "      <td>4569</td>\n",
       "    </tr>\n",
       "    <tr>\n",
       "      <th>znztmbj</th>\n",
       "      <td>4570</td>\n",
       "    </tr>\n",
       "    <tr>\n",
       "      <th>zogfotpik</th>\n",
       "      <td>4571</td>\n",
       "    </tr>\n",
       "    <tr>\n",
       "      <th>zon</th>\n",
       "      <td>4572</td>\n",
       "    </tr>\n",
       "    <tr>\n",
       "      <th>zone</th>\n",
       "      <td>4573</td>\n",
       "    </tr>\n",
       "    <tr>\n",
       "      <th>zq</th>\n",
       "      <td>4574</td>\n",
       "    </tr>\n",
       "    <tr>\n",
       "      <th>zr</th>\n",
       "      <td>4575</td>\n",
       "    </tr>\n",
       "    <tr>\n",
       "      <th>zshauladventur</th>\n",
       "      <td>4576</td>\n",
       "    </tr>\n",
       "    <tr>\n",
       "      <th>zsyalvczx</th>\n",
       "      <td>4577</td>\n",
       "    </tr>\n",
       "    <tr>\n",
       "      <th>ztn</th>\n",
       "      <td>4578</td>\n",
       "    </tr>\n",
       "    <tr>\n",
       "      <th>zubinanari</th>\n",
       "      <td>4579</td>\n",
       "    </tr>\n",
       "    <tr>\n",
       "      <th>zvm</th>\n",
       "      <td>4580</td>\n",
       "    </tr>\n",
       "    <tr>\n",
       "      <th>zwiebelbach</th>\n",
       "      <td>4581</td>\n",
       "    </tr>\n",
       "    <tr>\n",
       "      <th>zxd</th>\n",
       "      <td>4582</td>\n",
       "    </tr>\n",
       "    <tr>\n",
       "      <th>zz</th>\n",
       "      <td>4583</td>\n",
       "    </tr>\n",
       "    <tr>\n",
       "      <th>zzcool</th>\n",
       "      <td>4584</td>\n",
       "    </tr>\n",
       "    <tr>\n",
       "      <th>ðogecoin</th>\n",
       "      <td>4585</td>\n",
       "    </tr>\n",
       "  </tbody>\n",
       "</table>\n",
       "</div>"
      ],
      "text/plain": [
       "                   0\n",
       "zbt             4556\n",
       "zcf             4557\n",
       "zczinfc         4558\n",
       "zddfql          4559\n",
       "zealand         4560\n",
       "zeitma          4561\n",
       "zenit           4562\n",
       "zg              4563\n",
       "zihfeg          4564\n",
       "zikryzamir      4565\n",
       "zip             4566\n",
       "zk              4567\n",
       "zlkc            4568\n",
       "zmqgbo          4569\n",
       "znztmbj         4570\n",
       "zogfotpik       4571\n",
       "zon             4572\n",
       "zone            4573\n",
       "zq              4574\n",
       "zr              4575\n",
       "zshauladventur  4576\n",
       "zsyalvczx       4577\n",
       "ztn             4578\n",
       "zubinanari      4579\n",
       "zvm             4580\n",
       "zwiebelbach     4581\n",
       "zxd             4582\n",
       "zz              4583\n",
       "zzcool          4584\n",
       "ðogecoin        4585"
      ]
     },
     "execution_count": 45,
     "metadata": {},
     "output_type": "execute_result"
    }
   ],
   "source": [
    "pd.DataFrame.from_records([vectorizer.vocabulary_]).T.sort_values(0,ascending=True).head(30)\n",
    "pd.DataFrame.from_records([vectorizer.vocabulary_]).T.sort_values(0,ascending=True).tail(30)"
   ]
  },
  {
   "cell_type": "code",
   "execution_count": 46,
   "id": "90de3ff8",
   "metadata": {},
   "outputs": [],
   "source": [
    "# Bi-gram\n",
    "\n",
    "def get_top_n2_words(corpus,ngram_range, n=None):\n",
    "    vec1 = CountVectorizer(ngram_range=ngram_range,  #for tri-gram, put ngram_range=(3,3)\n",
    "            max_features=2000).fit(corpus)\n",
    "    bag_of_words = vec1.transform(corpus)\n",
    "    sum_words = bag_of_words.sum(axis=0) \n",
    "    words_freq = [(word, sum_words[0, idx]) for word, idx in     \n",
    "                  vec1.vocabulary_.items()]\n",
    "    words_freq =sorted(words_freq, key = lambda x: x[1], \n",
    "                reverse=True)\n",
    "    return words_freq[:n]"
   ]
  },
  {
   "cell_type": "code",
   "execution_count": 47,
   "id": "0478c77b",
   "metadata": {},
   "outputs": [
    {
     "data": {
      "text/html": [
       "<div>\n",
       "<style scoped>\n",
       "    .dataframe tbody tr th:only-of-type {\n",
       "        vertical-align: middle;\n",
       "    }\n",
       "\n",
       "    .dataframe tbody tr th {\n",
       "        vertical-align: top;\n",
       "    }\n",
       "\n",
       "    .dataframe thead th {\n",
       "        text-align: right;\n",
       "    }\n",
       "</style>\n",
       "<table border=\"1\" class=\"dataframe\">\n",
       "  <thead>\n",
       "    <tr style=\"text-align: right;\">\n",
       "      <th></th>\n",
       "      <th>Bi-gram</th>\n",
       "      <th>Freq</th>\n",
       "    </tr>\n",
       "  </thead>\n",
       "  <tbody>\n",
       "    <tr>\n",
       "      <th>0</th>\n",
       "      <td>rt spacex falcon</td>\n",
       "      <td>17</td>\n",
       "    </tr>\n",
       "    <tr>\n",
       "      <th>1</th>\n",
       "      <td>spacex falcon stage</td>\n",
       "      <td>8</td>\n",
       "    </tr>\n",
       "    <tr>\n",
       "      <th>2</th>\n",
       "      <td>thesheetztweetz waemd spacex</td>\n",
       "      <td>8</td>\n",
       "    </tr>\n",
       "    <tr>\n",
       "      <th>3</th>\n",
       "      <td>jgrano teslaratiteam teslarati</td>\n",
       "      <td>8</td>\n",
       "    </tr>\n",
       "    <tr>\n",
       "      <th>4</th>\n",
       "      <td>ppathole thesheetztweetz waemd</td>\n",
       "      <td>7</td>\n",
       "    </tr>\n",
       "  </tbody>\n",
       "</table>\n",
       "</div>"
      ],
      "text/plain": [
       "                          Bi-gram  Freq\n",
       "0                rt spacex falcon    17\n",
       "1             spacex falcon stage     8\n",
       "2    thesheetztweetz waemd spacex     8\n",
       "3  jgrano teslaratiteam teslarati     8\n",
       "4  ppathole thesheetztweetz waemd     7"
      ]
     },
     "execution_count": 47,
     "metadata": {},
     "output_type": "execute_result"
    }
   ],
   "source": [
    "top2_words = get_top_n2_words(df[\"text\"],ngram_range=(3,3), n=200) #top 200\n",
    "top2_df = pd.DataFrame(top2_words)\n",
    "top2_df.columns=[\"Bi-gram\", \"Freq\"]\n",
    "top2_df.head()"
   ]
  },
  {
   "cell_type": "code",
   "execution_count": 48,
   "id": "8dfa78cd",
   "metadata": {},
   "outputs": [
    {
     "data": {
      "text/plain": [
       "[('rt spacex falcon', 17),\n",
       " ('spacex falcon stage', 8),\n",
       " ('thesheetztweetz waemd spacex', 8),\n",
       " ('jgrano teslaratiteam teslarati', 8),\n",
       " ('ppathole thesheetztweetz waemd', 7),\n",
       " ('waemd spacex spacexstarlink', 7),\n",
       " ('falcon stage landed', 6),\n",
       " ('rt spacex liftoff', 6),\n",
       " ('spacex spacexstarlink wanationalguard', 6),\n",
       " ('spacex felixschlang marcushousegame', 5),\n",
       " ('rt spacex dragon', 5),\n",
       " ('rt spacex crew', 5),\n",
       " ('neopork casparstanley ercxspace', 5),\n",
       " ('casparstanley ercxspace marcushousegame', 5),\n",
       " ('ercxspace marcushousegame felixschlang', 5),\n",
       " ('erdayastronaut joshbickett ajtourville', 4),\n",
       " ('joshbickett ajtourville spacex', 4),\n",
       " ('spacex falcon launches', 4),\n",
       " ('tjcooney lrocket spacex', 4),\n",
       " ('lrocket spacex felixschlang', 4),\n",
       " ('landed love droneship', 4),\n",
       " ('mirojurcevic tashaark spacestation', 4),\n",
       " ('dragons operational mission', 4),\n",
       " ('rt spacex deployment', 4),\n",
       " ('kristennetten boringcompany tesla', 4),\n",
       " ('brendan bocachicagal nasaspaceflight', 4),\n",
       " ('alexavoigt mikezimon wholemarsblog', 4),\n",
       " ('rationaletienne ppathole thesheetztweetz', 4),\n",
       " ('futurejurvetson cfsenergy cupplasma', 4),\n",
       " ('cfsenergy cupplasma mit', 4),\n",
       " ('ajtourville commaai tesmaniancom', 4),\n",
       " ('icannotenough flcnhvy tesla', 4),\n",
       " ('falcon launches starlink', 3),\n",
       " ('rt spacex watch', 3),\n",
       " ('spacex watch falcon', 3),\n",
       " ('watch falcon launch', 3),\n",
       " ('sn amp sn', 3),\n",
       " ('stage landed love', 3),\n",
       " ('rationaletienne biogirl ercxspace', 3),\n",
       " ('ppathole mirojurcevic tashaark', 3),\n",
       " ('icannotenough erdayastronaut rweb', 3),\n",
       " ('johnnacrider timmerenginerd jack', 3),\n",
       " ('nasa spacex crew', 3),\n",
       " ('crew dragons operational', 3),\n",
       " ('rt teslarati tesla', 3),\n",
       " ('austinteslaclub joetegtmeyer peterdog', 3),\n",
       " ('joetegtmeyer peterdog txterafactory', 3),\n",
       " ('peterdog txterafactory terafactorytx', 3),\n",
       " ('txterafactory terafactorytx lqdchkn', 3),\n",
       " ('tobyliiiiiiiiii austinbarnard superclusterhq', 3),\n",
       " ('marcushousegame felixschlang cbass', 3),\n",
       " ('felixschlang cbass nickhenning', 3),\n",
       " ('cbass nickhenning spacex', 3),\n",
       " ('marcushousegame brendan bocachicagal', 3),\n",
       " ('ihearttesla alexavoigt mikezimon', 3),\n",
       " ('erdayastronaut trevormahlmann johnkrausphotos', 3),\n",
       " ('trevormahlmann johnkrausphotos mikeseeley', 3),\n",
       " ('erdayastronaut nasaspaceflight bocachicagal', 3),\n",
       " ('nasaspaceflight bocachicagal thefavoritist', 3),\n",
       " ('model owners futurejurvetson', 3),\n",
       " ('owners futurejurvetson cfsenergy', 3),\n",
       " ('neopork spacex marcushousegame', 3),\n",
       " ('rykllan felixschlang spacexcentric', 3),\n",
       " ('felixschlang spacexcentric marcushousegame', 3),\n",
       " ('spacexcentric marcushousegame spacex', 3),\n",
       " ('tjmurphymit thesheetztweetz exploremars', 3),\n",
       " ('thesheetztweetz exploremars spacex', 3),\n",
       " ('exploremars spacex theespacedude', 3),\n",
       " ('nigellockyer penn fermilab', 3),\n",
       " ('kulpability tlowdon ethicalskeptic', 3),\n",
       " ('erdayastronaut spacetoday elonsworld', 3),\n",
       " ('spacetoday elonsworld felixschlang', 3),\n",
       " ('elonsworld felixschlang chrisgnsf', 3),\n",
       " ('felixschlang chrisgnsf djsnm', 3),\n",
       " ('erdayastronaut flcnhvy djsnm', 3),\n",
       " ('erdayastronaut dauqhx universalsci', 3),\n",
       " ('erdayastronaut queuemax nasaspaceflight', 3),\n",
       " ('spacestation astrobehnken astrodoug', 3),\n",
       " ('flcnhvy shravantr neuroskeptic', 3),\n",
       " ('teslaownerssv jgrano teslaratiteam', 3),\n",
       " ('flcnhvy ppathole ihearttesla', 3),\n",
       " ('havent heard years', 2),\n",
       " ('spacex falcon launch', 2),\n",
       " ('falcon launch nasas', 2),\n",
       " ('launches starlink satellites', 2),\n",
       " ('starlink satellites orbit', 2),\n",
       " ('ajtourville erdayastronaut spacex', 2),\n",
       " ('working super hard', 2),\n",
       " ('erdayastronaut tjcooney lrocket', 2),\n",
       " ('felixschlang marcushousegame tom', 2),\n",
       " ('marcushousegame tom great', 2),\n",
       " ('spacex targeting earlier', 2),\n",
       " ('iupsychdoctor aoc robinhoodapp', 2),\n",
       " ('making products amp', 2),\n",
       " ('megaconstellati aviationintel jetcitystar', 2),\n",
       " ('aviationintel jetcitystar larrypress', 2),\n",
       " ('hardware amp software', 2),\n",
       " ('rt spacex spacexs', 2),\n",
       " ('erdayastronaut spacex sn', 2),\n",
       " ('tesla spacex neuralink', 2),\n",
       " ('thing call money', 2),\n",
       " ('splashdown dragon confirmed', 2),\n",
       " ('lot happened years', 2),\n",
       " ('rt spacex separation', 2),\n",
       " ('spacex separation confirmed', 2),\n",
       " ('separation confirmed dragon', 2),\n",
       " ('confirmed dragon performing', 2),\n",
       " ('dragon performing departure', 2),\n",
       " ('performing departure burns', 2),\n",
       " ('departure burns move', 2),\n",
       " ('burns move spacestation', 2),\n",
       " ('sean erdayastronaut spacex', 2),\n",
       " ('fusion reactor sky', 2),\n",
       " ('erdayastronaut flcnhvy ercxspace', 2),\n",
       " ('final days year', 2),\n",
       " ('products amp services', 2),\n",
       " ('teslatruckclub jeremyjudkins jpuconn', 2),\n",
       " ('jeremyjudkins jpuconn jchybow', 2),\n",
       " ('jpuconn jchybow dirtytesla', 2),\n",
       " ('medium range cars', 2),\n",
       " ('rt spacex photos', 2),\n",
       " ('httpstco whx bx', 2),\n",
       " ('whx bx httpstco', 2),\n",
       " ('stage landed landing', 2),\n",
       " ('landed landing zone', 2),\n",
       " ('tesmaniancom dankeschön brandenburg', 2),\n",
       " ('rt spacex starship', 2),\n",
       " ('orbit completing spacexs', 2),\n",
       " ('ppathole ercxspace spacex', 2),\n",
       " ('header tank pressure', 2),\n",
       " ('cargo resupply mission', 2),\n",
       " ('spacex falcon booster', 2),\n",
       " ('erdayastronaut marcushousegame felixschlang', 2),\n",
       " ('bcart nextspaceflight nasaspaceflight', 2),\n",
       " ('nextspaceflight nasaspaceflight static', 2),\n",
       " ('nasaspaceflight static fire', 2),\n",
       " ('johneg teslachillmode unplgd', 2),\n",
       " ('teslachillmode unplgd mfrunker', 2),\n",
       " ('unplgd mfrunker ccteslaclub', 2),\n",
       " ('rapid amp complete', 2),\n",
       " ('ppathole teslarati teslaroadtrip', 2),\n",
       " ('tobyliiiiiiiiii spacex nasa', 2),\n",
       " ('spacex nasa nasalsp', 2),\n",
       " ('nasa nasalsp nasajpl', 2),\n",
       " ('nasalsp nasajpl esa', 2),\n",
       " ('evafoxu ppathole mirojurcevic', 2),\n",
       " ('teslaownerssv weeks release', 2),\n",
       " ('erdayastronaut rweb yeah', 2),\n",
       " ('joshbickett icannotenough erdayastronaut', 2),\n",
       " ('erdayastronaut charlesnotrumps rweb', 2),\n",
       " ('spacex crew astronauts', 2),\n",
       " ('spacex dragon spacecraft', 2),\n",
       " ('rt nasa live', 2),\n",
       " ('spacex crew mission', 2),\n",
       " ('operational mission astronauts', 2),\n",
       " ('ppathole astrojordy erujabidi', 2),\n",
       " ('nickhenning spacex ercxspace', 2),\n",
       " ('spacex ercxspace neopork', 2),\n",
       " ('ercxspace neopork cbass', 2),\n",
       " ('neopork cbass casparstanley', 2),\n",
       " ('cbass casparstanley spacexvision', 2),\n",
       " ('casparstanley spacexvision felixschlang', 2),\n",
       " ('spacex crew dragon', 2),\n",
       " ('linustech spacexstarlink spacex', 2),\n",
       " ('falcon stage lands', 2),\n",
       " ('chadhurley realdonaldtrump kanyewest', 2),\n",
       " ('zainraz vincent jonerlichman', 2),\n",
       " ('steezyysosa austinteslaclub joetegtmeyer', 2),\n",
       " ('terafactorytx lqdchkn jdaverage', 2),\n",
       " ('klotzadam nasaspaceflight erdayastronaut', 2),\n",
       " ('toadmeister sweden deaths', 2),\n",
       " ('sweden deaths oct', 2),\n",
       " ('converts million tons', 2),\n",
       " ('million tons mass', 2),\n",
       " ('tons mass energy', 2),\n",
       " ('phased array antenna', 2),\n",
       " ('tesla team great', 2),\n",
       " ('team great work', 2),\n",
       " ('erdayastronaut tobyliiiiiiiiii austinbarnard', 2),\n",
       " ('ppathole teslaownerssv teslaraj', 2),\n",
       " ('bar chamber pressure', 2),\n",
       " ('wholemarsblog kristennetten boringcompany', 2),\n",
       " ('st cargo resupply', 2),\n",
       " ('mariabartiromo potus realdonaldtrump', 2),\n",
       " ('potus realdonaldtrump jeffbezos', 2),\n",
       " ('realdonaldtrump jeffbezos morningsmaria', 2),\n",
       " ('jeffbezos morningsmaria foxbusiness', 2),\n",
       " ('flcnhvy neopork casparstanley', 2),\n",
       " ('nickhenning spacex tiles', 2),\n",
       " ('model long range', 2),\n",
       " ('franktinsley ankitxupta tashaark', 2),\n",
       " ('mikezimon wholemarsblog tasty', 2),\n",
       " ('chananbos raytech wholemarsblog', 2),\n",
       " ('sandy munro understands', 2),\n",
       " ('munro understands engineering', 2),\n",
       " ('teslaownerssv raytech wholemarsblog', 2),\n",
       " ('klodua erdayastronaut trevormahlmann', 2),\n",
       " ('spacex deployment starlink', 2),\n",
       " ('deployment starlink satellites', 2),\n",
       " ('starlink satellites confirmed', 2)]"
      ]
     },
     "execution_count": 48,
     "metadata": {},
     "output_type": "execute_result"
    }
   ],
   "source": [
    "get_top_n2_words(df[\"text\"],ngram_range=(3,3), n=200) #trigram"
   ]
  },
  {
   "cell_type": "code",
   "execution_count": 49,
   "id": "5b87d9fa",
   "metadata": {},
   "outputs": [],
   "source": [
    "txt = ' '.join(df['text'])"
   ]
  },
  {
   "cell_type": "code",
   "execution_count": 50,
   "id": "b5f625cb",
   "metadata": {},
   "outputs": [
    {
     "data": {
      "text/plain": [
       "Text(0.5, 1.0, 'WordCloud')"
      ]
     },
     "execution_count": 50,
     "metadata": {},
     "output_type": "execute_result"
    },
    {
     "data": {
      "image/png": "[encoded data removed]",
      "text/plain": [
       "<Figure size 640x480 with 1 Axes>"
      ]
     },
     "metadata": {},
     "output_type": "display_data"
    }
   ],
   "source": [
    "wc = WordCloud(background_color='white', width=700, height=500).generate(txt)\n",
    "\n",
    "plt.imshow(wc)\n",
    "plt.axis('off')\n",
    "plt.title('WordCloud',size = 20)"
   ]
  },
  {
   "cell_type": "code",
   "execution_count": null,
   "id": "0a5013fd",
   "metadata": {},
   "outputs": [],
   "source": []
  }
 ],
 "metadata": {
  "kernelspec": {
   "display_name": "Python 3 (ipykernel)",
   "language": "python",
   "name": "python3"
  },
  "language_info": {
   "codemirror_mode": {
    "name": "ipython",
    "version": 3
   },
   "file_extension": ".py",
   "mimetype": "text/x-python",
   "name": "python",
   "nbconvert_exporter": "python",
   "pygments_lexer": "ipython3",
   "version": "3.9.12"
  }
 },
 "nbformat": 4,
 "nbformat_minor": 5
}
